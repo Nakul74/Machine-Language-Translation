{
 "cells": [
  {
   "cell_type": "code",
   "execution_count": null,
   "metadata": {
    "colab": {
     "base_uri": "https://localhost:8080/"
    },
    "executionInfo": {
     "elapsed": 536,
     "status": "ok",
     "timestamp": 1624022345864,
     "user": {
      "displayName": "Nakul Chamariya",
      "photoUrl": "https://lh3.googleusercontent.com/a-/AOh14GiaaA3CEhDPpMN9iKjN0cdb6HXS25MHPJCRZ9y5WA=s64",
      "userId": "14936028262101279399"
     },
     "user_tz": -330
    },
    "id": "8BFVCZxwR4UQ",
    "outputId": "05b9f78b-b014-4c69-80be-47d9c0833af9"
   },
   "outputs": [
    {
     "name": "stdout",
     "output_type": "stream",
     "text": [
      "Fri Jun 18 13:19:05 2021       \n",
      "+-----------------------------------------------------------------------------+\n",
      "| NVIDIA-SMI 465.27       Driver Version: 460.32.03    CUDA Version: 11.2     |\n",
      "|-------------------------------+----------------------+----------------------+\n",
      "| GPU  Name        Persistence-M| Bus-Id        Disp.A | Volatile Uncorr. ECC |\n",
      "| Fan  Temp  Perf  Pwr:Usage/Cap|         Memory-Usage | GPU-Util  Compute M. |\n",
      "|                               |                      |               MIG M. |\n",
      "|===============================+======================+======================|\n",
      "|   0  Tesla K80           Off  | 00000000:00:04.0 Off |                    0 |\n",
      "| N/A   73C    P0    73W / 149W |   4314MiB / 11441MiB |      0%      Default |\n",
      "|                               |                      |                  N/A |\n",
      "+-------------------------------+----------------------+----------------------+\n",
      "                                                                               \n",
      "+-----------------------------------------------------------------------------+\n",
      "| Processes:                                                                  |\n",
      "|  GPU   GI   CI        PID   Type   Process name                  GPU Memory |\n",
      "|        ID   ID                                                   Usage      |\n",
      "|=============================================================================|\n",
      "+-----------------------------------------------------------------------------+\n"
     ]
    }
   ],
   "source": [
    "!nvidia-smi"
   ]
  },
  {
   "cell_type": "code",
   "execution_count": null,
   "metadata": {
    "colab": {
     "base_uri": "https://localhost:8080/"
    },
    "executionInfo": {
     "elapsed": 7,
     "status": "ok",
     "timestamp": 1624022347814,
     "user": {
      "displayName": "Nakul Chamariya",
      "photoUrl": "https://lh3.googleusercontent.com/a-/AOh14GiaaA3CEhDPpMN9iKjN0cdb6HXS25MHPJCRZ9y5WA=s64",
      "userId": "14936028262101279399"
     },
     "user_tz": -330
    },
    "id": "uZ7bFgpBXoYh",
    "outputId": "0bc92639-2aa3-41e6-995a-bffb63ec115a"
   },
   "outputs": [
    {
     "name": "stdout",
     "output_type": "stream",
     "text": [
      "Drive already mounted at /content/drive; to attempt to forcibly remount, call drive.mount(\"/content/drive\", force_remount=True).\n"
     ]
    }
   ],
   "source": [
    "from google.colab import drive\n",
    "drive.mount('/content/drive')"
   ]
  },
  {
   "cell_type": "code",
   "execution_count": null,
   "metadata": {
    "colab": {
     "base_uri": "https://localhost:8080/"
    },
    "executionInfo": {
     "elapsed": 515,
     "status": "ok",
     "timestamp": 1624014309756,
     "user": {
      "displayName": "Nakul Chamariya",
      "photoUrl": "https://lh3.googleusercontent.com/a-/AOh14GiaaA3CEhDPpMN9iKjN0cdb6HXS25MHPJCRZ9y5WA=s64",
      "userId": "14936028262101279399"
     },
     "user_tz": -330
    },
    "id": "elhCHMOCmGOe",
    "outputId": "8b703a84-7cba-4626-8a6f-62dc461d79a8"
   },
   "outputs": [
    {
     "name": "stdout",
     "output_type": "stream",
     "text": [
      "235901\n"
     ]
    }
   ],
   "source": [
    "path = '/content/drive/MyDrive/Dl projects/RNN basics/Machine Translation/data.txt'\n",
    "\n",
    "with open(path,encoding='utf-8') as f:\n",
    "    lines = f.readlines()\n",
    "\n",
    "print(len(lines))\n"
   ]
  },
  {
   "cell_type": "code",
   "execution_count": null,
   "metadata": {
    "id": "UkIvGM03m4M7"
   },
   "outputs": [],
   "source": [
    "# Using only top 50000 sentences\n",
    "lines = lines[:50000]\n",
    "text = ' '.join(lines)\n",
    "lines = text.split('\\n')\n",
    "\n",
    "X = []\n",
    "y = []\n",
    "\n",
    "for i in range(len(lines)-1):\n",
    "    s = lines[i]\n",
    "    X.append(s.split('\\t')[0])\n",
    "    y.append(s.split('\\t')[1])\n",
    "\n",
    "import numpy as np\n",
    "X = np.array(X)\n",
    "y = np.array(y)"
   ]
  },
  {
   "cell_type": "code",
   "execution_count": null,
   "metadata": {
    "colab": {
     "base_uri": "https://localhost:8080/"
    },
    "executionInfo": {
     "elapsed": 9,
     "status": "ok",
     "timestamp": 1624014312784,
     "user": {
      "displayName": "Nakul Chamariya",
      "photoUrl": "https://lh3.googleusercontent.com/a-/AOh14GiaaA3CEhDPpMN9iKjN0cdb6HXS25MHPJCRZ9y5WA=s64",
      "userId": "14936028262101279399"
     },
     "user_tz": -330
    },
    "id": "F--P2_VHnW2P",
    "outputId": "ea597c32-c4e3-4549-a2b6-deed71a82876"
   },
   "outputs": [
    {
     "name": "stdout",
     "output_type": "stream",
     "text": [
      "(50000,)\n",
      "(50000,)\n"
     ]
    }
   ],
   "source": [
    "print(X.shape)\n",
    "print(y.shape)"
   ]
  },
  {
   "cell_type": "code",
   "execution_count": null,
   "metadata": {
    "id": "gEcv2-9K8h-Q"
   },
   "outputs": [],
   "source": [
    "!pip install contractions"
   ]
  },
  {
   "cell_type": "code",
   "execution_count": null,
   "metadata": {
    "id": "6H5Hl0_98lTT"
   },
   "outputs": [],
   "source": [
    "import contractions\n",
    "print(contractions.contractions_dict)"
   ]
  },
  {
   "cell_type": "code",
   "execution_count": null,
   "metadata": {
    "id": "qfL5BWiqyCYI"
   },
   "outputs": [],
   "source": [
    "import string\n",
    "import contractions\n",
    "\n",
    "def text_preprocess(s):\n",
    "  s = contractions.fix(s)\n",
    "  s = s.lower()\n",
    "  s = s.rstrip()\n",
    "  s = s.lstrip()\n",
    "\n",
    "  text = \"\"\n",
    "  for ch in s:\n",
    "    if ch not in string.punctuation:\n",
    "      text = text + ch\n",
    "  return text\n",
    "\n",
    "for i in range(len(X)):\n",
    "  X[i] = text_preprocess(X[i])\n",
    "\n",
    "for i in range(len(y)):\n",
    "  y[i] = text_preprocess(y[i])"
   ]
  },
  {
   "cell_type": "code",
   "execution_count": null,
   "metadata": {
    "colab": {
     "base_uri": "https://localhost:8080/"
    },
    "executionInfo": {
     "elapsed": 15,
     "status": "ok",
     "timestamp": 1624014314147,
     "user": {
      "displayName": "Nakul Chamariya",
      "photoUrl": "https://lh3.googleusercontent.com/a-/AOh14GiaaA3CEhDPpMN9iKjN0cdb6HXS25MHPJCRZ9y5WA=s64",
      "userId": "14936028262101279399"
     },
     "user_tz": -330
    },
    "id": "vveD4o5jy9Cm",
    "outputId": "af5d9cc8-f28d-4b71-8a83-b9444f2c294d"
   },
   "outputs": [
    {
     "name": "stdout",
     "output_type": "stream",
     "text": [
      "hello he said and went\n"
     ]
    }
   ],
   "source": [
    "print(text_preprocess(\"  Hello!!!, he said  ---and went ahead i've. \"))"
   ]
  },
  {
   "cell_type": "code",
   "execution_count": null,
   "metadata": {
    "colab": {
     "base_uri": "https://localhost:8080/"
    },
    "executionInfo": {
     "elapsed": 14,
     "status": "ok",
     "timestamp": 1624014314149,
     "user": {
      "displayName": "Nakul Chamariya",
      "photoUrl": "https://lh3.googleusercontent.com/a-/AOh14GiaaA3CEhDPpMN9iKjN0cdb6HXS25MHPJCRZ9y5WA=s64",
      "userId": "14936028262101279399"
     },
     "user_tz": -330
    },
    "id": "ECmgFB-km4Qt",
    "outputId": "6fac666f-bd0f-4343-e4db-5d7df45e6ce0"
   },
   "outputs": [
    {
     "name": "stdout",
     "output_type": "stream",
     "text": [
      "who are we\n",
      "\n",
      "wer sind wir\n"
     ]
    }
   ],
   "source": [
    "num = 2000\n",
    "\n",
    "print(X[num])\n",
    "print()\n",
    "print(y[num])"
   ]
  },
  {
   "cell_type": "code",
   "execution_count": null,
   "metadata": {
    "id": "XZOH6Cq7ph0s"
   },
   "outputs": [],
   "source": [
    "#check total no of usinque tages and words\n",
    "num_words_eng = len(set([word.lower() for sent in X for word in sent]))\n",
    "num_words_ger = len(set([word.lower() for sent in y for word in sent]))"
   ]
  },
  {
   "cell_type": "code",
   "execution_count": null,
   "metadata": {
    "colab": {
     "base_uri": "https://localhost:8080/"
    },
    "executionInfo": {
     "elapsed": 8,
     "status": "ok",
     "timestamp": 1624014318791,
     "user": {
      "displayName": "Nakul Chamariya",
      "photoUrl": "https://lh3.googleusercontent.com/a-/AOh14GiaaA3CEhDPpMN9iKjN0cdb6HXS25MHPJCRZ9y5WA=s64",
      "userId": "14936028262101279399"
     },
     "user_tz": -330
    },
    "id": "wYTt0GOrph3g",
    "outputId": "d08bcf05-c72b-4af5-dbde-bc6b0ba0d981"
   },
   "outputs": [
    {
     "name": "stdout",
     "output_type": "stream",
     "text": [
      "Total unique characters for English : 40\n",
      "Total unique characters for German 52\n"
     ]
    }
   ],
   "source": [
    "print('Total unique characters for English :',num_words_eng)\n",
    "print('Total unique characters for German',num_words_ger)"
   ]
  },
  {
   "cell_type": "code",
   "execution_count": null,
   "metadata": {
    "id": "UB9ohpkOqlOj"
   },
   "outputs": [],
   "source": [
    "from sklearn.model_selection import train_test_split\n",
    "X_train,X_test,y_train,y_test = train_test_split(X, y, test_size=0.20, random_state=101)"
   ]
  },
  {
   "cell_type": "code",
   "execution_count": null,
   "metadata": {
    "colab": {
     "base_uri": "https://localhost:8080/"
    },
    "executionInfo": {
     "elapsed": 8,
     "status": "ok",
     "timestamp": 1624014322902,
     "user": {
      "displayName": "Nakul Chamariya",
      "photoUrl": "https://lh3.googleusercontent.com/a-/AOh14GiaaA3CEhDPpMN9iKjN0cdb6HXS25MHPJCRZ9y5WA=s64",
      "userId": "14936028262101279399"
     },
     "user_tz": -330
    },
    "id": "KAjh4rx2vI9D",
    "outputId": "c5787acf-8fc0-4aba-a693-46d769cb4631"
   },
   "outputs": [
    {
     "name": "stdout",
     "output_type": "stream",
     "text": [
      "(40000,) (10000,)\n",
      "(40000,) (10000,)\n"
     ]
    }
   ],
   "source": [
    "print(X_train.shape,X_test.shape)\n",
    "print(y_train.shape,y_test.shape)"
   ]
  },
  {
   "cell_type": "code",
   "execution_count": null,
   "metadata": {
    "colab": {
     "base_uri": "https://localhost:8080/"
    },
    "executionInfo": {
     "elapsed": 1211,
     "status": "ok",
     "timestamp": 1624014326381,
     "user": {
      "displayName": "Nakul Chamariya",
      "photoUrl": "https://lh3.googleusercontent.com/a-/AOh14GiaaA3CEhDPpMN9iKjN0cdb6HXS25MHPJCRZ9y5WA=s64",
      "userId": "14936028262101279399"
     },
     "user_tz": -330
    },
    "id": "t_Sx4HEdrdew",
    "outputId": "5d95a393-05a6-4bac-9d50-71be43825496"
   },
   "outputs": [
    {
     "name": "stdout",
     "output_type": "stream",
     "text": [
      "2.5.0\n"
     ]
    }
   ],
   "source": [
    "import tensorflow as tf\n",
    "print(tf.__version__)"
   ]
  },
  {
   "cell_type": "code",
   "execution_count": null,
   "metadata": {
    "id": "jjqXjRD_ph6l"
   },
   "outputs": [],
   "source": [
    "from tensorflow.keras.preprocessing.text import Tokenizer\n",
    "\n",
    "word_tokenizer = tf.keras.preprocessing.text.Tokenizer(\n",
    "    num_words=None,\n",
    "    filters='',  # '!\"#$%&()*+,-./:;<=>?@[\\\\]^_`{|}~\\t\\n'\n",
    "    lower=True, split=' ', char_level=True, oov_token=\"<OOV>\"\n",
    ")\n",
    "\n",
    "word_tokenizer.fit_on_texts(X_train)\n",
    "\n",
    "train_text = word_tokenizer.texts_to_sequences(X_train)\n",
    "test_text = word_tokenizer.texts_to_sequences(X_test)"
   ]
  },
  {
   "cell_type": "code",
   "execution_count": null,
   "metadata": {
    "colab": {
     "base_uri": "https://localhost:8080/"
    },
    "executionInfo": {
     "elapsed": 8,
     "status": "ok",
     "timestamp": 1624014331281,
     "user": {
      "displayName": "Nakul Chamariya",
      "photoUrl": "https://lh3.googleusercontent.com/a-/AOh14GiaaA3CEhDPpMN9iKjN0cdb6HXS25MHPJCRZ9y5WA=s64",
      "userId": "14936028262101279399"
     },
     "user_tz": -330
    },
    "id": "bu7EfxMBvtwj",
    "outputId": "aeefb1bf-1454-4caf-af7f-dcf814fae7fd"
   },
   "outputs": [
    {
     "name": "stdout",
     "output_type": "stream",
     "text": [
      "is monday ok\n",
      "[6, 8, 2, 12, 5, 9, 14, 7, 15, 2, 5, 20]\n",
      "\n",
      "12\n",
      "12\n"
     ]
    }
   ],
   "source": [
    "num = 0\n",
    "print(X_train[num])\n",
    "print(train_text[num])\n",
    "print()\n",
    "print(len(X_train[num]))\n",
    "print(len(train_text[num]))"
   ]
  },
  {
   "cell_type": "code",
   "execution_count": null,
   "metadata": {
    "colab": {
     "base_uri": "https://localhost:8080/"
    },
    "executionInfo": {
     "elapsed": 7,
     "status": "ok",
     "timestamp": 1624014332737,
     "user": {
      "displayName": "Nakul Chamariya",
      "photoUrl": "https://lh3.googleusercontent.com/a-/AOh14GiaaA3CEhDPpMN9iKjN0cdb6HXS25MHPJCRZ9y5WA=s64",
      "userId": "14936028262101279399"
     },
     "user_tz": -330
    },
    "id": "YCr3kKC-1IrE",
    "outputId": "e19ae89a-05fe-4670-8690-1d605506d85b"
   },
   "outputs": [
    {
     "data": {
      "text/plain": [
       "{' ': 2,\n",
       " '0': 29,\n",
       " '1': 31,\n",
       " '2': 32,\n",
       " '3': 30,\n",
       " '4': 37,\n",
       " '5': 33,\n",
       " '6': 36,\n",
       " '7': 38,\n",
       " '8': 35,\n",
       " '9': 34,\n",
       " '<OOV>': 1,\n",
       " 'a': 7,\n",
       " 'b': 22,\n",
       " 'c': 19,\n",
       " 'd': 14,\n",
       " 'e': 3,\n",
       " 'f': 24,\n",
       " 'g': 18,\n",
       " 'h': 11,\n",
       " 'i': 6,\n",
       " 'j': 25,\n",
       " 'k': 20,\n",
       " 'l': 13,\n",
       " 'm': 12,\n",
       " 'n': 9,\n",
       " 'o': 5,\n",
       " 'p': 21,\n",
       " 'q': 28,\n",
       " 'r': 10,\n",
       " 's': 8,\n",
       " 't': 4,\n",
       " 'u': 16,\n",
       " 'v': 23,\n",
       " 'w': 17,\n",
       " 'x': 26,\n",
       " 'y': 15,\n",
       " 'z': 27,\n",
       " 'é': 39,\n",
       " '€': 40}"
      ]
     },
     "execution_count": 16,
     "metadata": {
      "tags": []
     },
     "output_type": "execute_result"
    }
   ],
   "source": [
    "word_tokenizer.word_index"
   ]
  },
  {
   "cell_type": "code",
   "execution_count": null,
   "metadata": {
    "id": "7QRQU_xOr793"
   },
   "outputs": [],
   "source": [
    "tag_tokenizer = tf.keras.preprocessing.text.Tokenizer(\n",
    "    num_words=None,\n",
    "    filters='',  # '!\"#$%&()*+,-./:;<=>?@[\\\\]^_`{|}~\\t\\n'\n",
    "    lower=True, split=' ', char_level=True, oov_token=\"<OOV>\"\n",
    ")\n",
    "\n",
    "tag_tokenizer.fit_on_texts(y_train)\n",
    "\n",
    "train_label = tag_tokenizer.texts_to_sequences(y_train)\n",
    "test_label = tag_tokenizer.texts_to_sequences(y_test)"
   ]
  },
  {
   "cell_type": "code",
   "execution_count": null,
   "metadata": {
    "colab": {
     "base_uri": "https://localhost:8080/"
    },
    "executionInfo": {
     "elapsed": 7,
     "status": "ok",
     "timestamp": 1624014336424,
     "user": {
      "displayName": "Nakul Chamariya",
      "photoUrl": "https://lh3.googleusercontent.com/a-/AOh14GiaaA3CEhDPpMN9iKjN0cdb6HXS25MHPJCRZ9y5WA=s64",
      "userId": "14936028262101279399"
     },
     "user_tz": -330
    },
    "id": "bDoV96YD06i2",
    "outputId": "e922172e-c437-4784-dd95-a96a55b84c11"
   },
   "outputs": [
    {
     "name": "stdout",
     "output_type": "stream",
     "text": [
      "ist montag in ordnung\n",
      "[4, 7, 6, 2, 12, 15, 5, 6, 10, 17, 2, 4, 5, 2, 15, 9, 13, 5, 14, 5, 17]\n",
      "\n",
      "21\n",
      "21\n"
     ]
    }
   ],
   "source": [
    "num = 0\n",
    "print(y_train[num])\n",
    "print(train_label[num])\n",
    "print()\n",
    "print(len(y_train[num]))\n",
    "print(len(train_label[num]))"
   ]
  },
  {
   "cell_type": "code",
   "execution_count": null,
   "metadata": {
    "colab": {
     "base_uri": "https://localhost:8080/"
    },
    "executionInfo": {
     "elapsed": 10,
     "status": "ok",
     "timestamp": 1624014338657,
     "user": {
      "displayName": "Nakul Chamariya",
      "photoUrl": "https://lh3.googleusercontent.com/a-/AOh14GiaaA3CEhDPpMN9iKjN0cdb6HXS25MHPJCRZ9y5WA=s64",
      "userId": "14936028262101279399"
     },
     "user_tz": -330
    },
    "id": "wFxjjv5E36L2",
    "outputId": "bee32bc7-0757-4de1-a5c9-fdb7177734f0"
   },
   "outputs": [
    {
     "name": "stdout",
     "output_type": "stream",
     "text": [
      "52\n",
      "1\n"
     ]
    }
   ],
   "source": [
    "max_key = max(tag_tokenizer.word_index, key=tag_tokenizer.word_index.get)\n",
    "min_key = min(tag_tokenizer.word_index, key=tag_tokenizer.word_index.get)\n",
    "\n",
    "print(tag_tokenizer.word_index[max_key])\n",
    "print(tag_tokenizer.word_index[min_key])"
   ]
  },
  {
   "cell_type": "code",
   "execution_count": null,
   "metadata": {
    "id": "pKvipgqu1PDV"
   },
   "outputs": [],
   "source": [
    "for i in range(len(train_label)):\n",
    "  train_label[i].insert(0,53)\n",
    "  train_label[i].append(54)\n",
    "\n",
    "for i in range(len(test_label)):\n",
    "  test_label[i].insert(0,53)\n",
    "  test_label[i].append(54)"
   ]
  },
  {
   "cell_type": "code",
   "execution_count": null,
   "metadata": {
    "colab": {
     "base_uri": "https://localhost:8080/"
    },
    "executionInfo": {
     "elapsed": 7,
     "status": "ok",
     "timestamp": 1624014341657,
     "user": {
      "displayName": "Nakul Chamariya",
      "photoUrl": "https://lh3.googleusercontent.com/a-/AOh14GiaaA3CEhDPpMN9iKjN0cdb6HXS25MHPJCRZ9y5WA=s64",
      "userId": "14936028262101279399"
     },
     "user_tz": -330
    },
    "id": "HHDxvxF5tQkg",
    "outputId": "ed824ee5-b2eb-46c2-cf46-0d604f2eb7d3"
   },
   "outputs": [
    {
     "name": "stdout",
     "output_type": "stream",
     "text": [
      "Longest sentence length =  21\n"
     ]
    }
   ],
   "source": [
    "lengths = [len(seq) for seq in train_text]\n",
    "print('Longest sentence length = ',max(lengths))"
   ]
  },
  {
   "cell_type": "code",
   "execution_count": null,
   "metadata": {
    "colab": {
     "base_uri": "https://localhost:8080/",
     "height": 320
    },
    "executionInfo": {
     "elapsed": 507,
     "status": "ok",
     "timestamp": 1624014343577,
     "user": {
      "displayName": "Nakul Chamariya",
      "photoUrl": "https://lh3.googleusercontent.com/a-/AOh14GiaaA3CEhDPpMN9iKjN0cdb6HXS25MHPJCRZ9y5WA=s64",
      "userId": "14936028262101279399"
     },
     "user_tz": -330
    },
    "id": "YDyDo-IptQoX",
    "outputId": "bd41e09a-02fb-4008-b0ef-602c4896d98f"
   },
   "outputs": [
    {
     "name": "stderr",
     "output_type": "stream",
     "text": [
      "/usr/local/lib/python3.7/dist-packages/seaborn/_decorators.py:43: FutureWarning: Pass the following variable as a keyword arg: x. From version 0.12, the only valid positional argument will be `data`, and passing other arguments without an explicit keyword will result in an error or misinterpretation.\n",
      "  FutureWarning\n"
     ]
    },
    {
     "data": {
      "image/png": "[encoded data removed]",
      "text/plain": [
       "<Figure size 432x288 with 1 Axes>"
      ]
     },
     "metadata": {
      "needs_background": "light",
      "tags": []
     },
     "output_type": "display_data"
    }
   ],
   "source": [
    "import matplotlib.pyplot as plt\n",
    "import seaborn as sns\n",
    "\n",
    "sns.boxplot(lengths)\n",
    "plt.show()"
   ]
  },
  {
   "cell_type": "code",
   "execution_count": null,
   "metadata": {
    "id": "qrzo1mCts-lX"
   },
   "outputs": [],
   "source": [
    "from tensorflow.keras.preprocessing.sequence import pad_sequences\n",
    "\n",
    "max_len = 21\n",
    "\n",
    "X_train = tf.keras.preprocessing.sequence.pad_sequences(\n",
    "    train_text, maxlen = max_len, padding = 'pre',\n",
    "    truncating='post', value=0.0\n",
    ")\n",
    "\n",
    "X_test = tf.keras.preprocessing.sequence.pad_sequences(\n",
    "    test_text, maxlen = X_train.shape[1], dtype = 'int32', padding='pre',\n",
    "    truncating='post', value=0.0\n",
    ")\n"
   ]
  },
  {
   "cell_type": "code",
   "execution_count": null,
   "metadata": {
    "colab": {
     "base_uri": "https://localhost:8080/"
    },
    "executionInfo": {
     "elapsed": 7,
     "status": "ok",
     "timestamp": 1624014348134,
     "user": {
      "displayName": "Nakul Chamariya",
      "photoUrl": "https://lh3.googleusercontent.com/a-/AOh14GiaaA3CEhDPpMN9iKjN0cdb6HXS25MHPJCRZ9y5WA=s64",
      "userId": "14936028262101279399"
     },
     "user_tz": -330
    },
    "id": "PpeyU5C61xhp",
    "outputId": "88c4e318-9b5b-43ed-fbbe-cb56c15956b6"
   },
   "outputs": [
    {
     "name": "stdout",
     "output_type": "stream",
     "text": [
      "Longest sentence length =  120\n"
     ]
    }
   ],
   "source": [
    "lengths = [len(seq) for seq in train_label]\n",
    "print('Longest sentence length = ',max(lengths))"
   ]
  },
  {
   "cell_type": "code",
   "execution_count": null,
   "metadata": {
    "id": "kWvmlQ_o7CJJ"
   },
   "outputs": [],
   "source": [
    "max_len = 120\n",
    "\n",
    "y_train = tf.keras.preprocessing.sequence.pad_sequences(\n",
    "    train_label, maxlen = max_len, padding = 'post',\n",
    "    truncating='pre', value=0.0\n",
    ")\n",
    "\n",
    "y_test = tf.keras.preprocessing.sequence.pad_sequences(\n",
    "    test_label, maxlen = y_train.shape[1], dtype = 'int32', padding='post',\n",
    "    truncating='pre', value=0.0\n",
    ")\n"
   ]
  },
  {
   "cell_type": "code",
   "execution_count": null,
   "metadata": {
    "colab": {
     "base_uri": "https://localhost:8080/"
    },
    "executionInfo": {
     "elapsed": 7,
     "status": "ok",
     "timestamp": 1624014352227,
     "user": {
      "displayName": "Nakul Chamariya",
      "photoUrl": "https://lh3.googleusercontent.com/a-/AOh14GiaaA3CEhDPpMN9iKjN0cdb6HXS25MHPJCRZ9y5WA=s64",
      "userId": "14936028262101279399"
     },
     "user_tz": -330
    },
    "id": "TMRW0KXPs-oo",
    "outputId": "022cc0d8-c5c1-4938-ccba-4a613149f365"
   },
   "outputs": [
    {
     "name": "stdout",
     "output_type": "stream",
     "text": [
      "(40000, 21) (10000, 21)\n",
      "(40000, 120) (10000, 120)\n"
     ]
    }
   ],
   "source": [
    "print(X_train.shape,X_test.shape)\n",
    "print(y_train.shape,y_test.shape)"
   ]
  },
  {
   "cell_type": "code",
   "execution_count": null,
   "metadata": {
    "colab": {
     "base_uri": "https://localhost:8080/"
    },
    "executionInfo": {
     "elapsed": 11,
     "status": "ok",
     "timestamp": 1624014354398,
     "user": {
      "displayName": "Nakul Chamariya",
      "photoUrl": "https://lh3.googleusercontent.com/a-/AOh14GiaaA3CEhDPpMN9iKjN0cdb6HXS25MHPJCRZ9y5WA=s64",
      "userId": "14936028262101279399"
     },
     "user_tz": -330
    },
    "id": "825S5-YPZ0de",
    "outputId": "71afec6b-33ca-4d9e-e3c0-5c08bf94f738"
   },
   "outputs": [
    {
     "data": {
      "text/plain": [
       "array([53,  4,  7,  6,  2, 12, 15,  5,  6, 10, 17,  2,  4,  5,  2, 15,  9,\n",
       "       13,  5, 14,  5, 17, 54,  0,  0,  0,  0,  0,  0,  0,  0,  0,  0,  0,\n",
       "        0,  0,  0,  0,  0,  0,  0,  0,  0,  0,  0,  0,  0,  0,  0,  0,  0,\n",
       "        0,  0,  0,  0,  0,  0,  0,  0,  0,  0,  0,  0,  0,  0,  0,  0,  0,\n",
       "        0,  0,  0,  0,  0,  0,  0,  0,  0,  0,  0,  0,  0,  0,  0,  0,  0,\n",
       "        0,  0,  0,  0,  0,  0,  0,  0,  0,  0,  0,  0,  0,  0,  0,  0,  0,\n",
       "        0,  0,  0,  0,  0,  0,  0,  0,  0,  0,  0,  0,  0,  0,  0,  0,  0,\n",
       "        0], dtype=int32)"
      ]
     },
     "execution_count": 27,
     "metadata": {
      "tags": []
     },
     "output_type": "execute_result"
    }
   ],
   "source": [
    "y_train[0]"
   ]
  },
  {
   "cell_type": "code",
   "execution_count": null,
   "metadata": {
    "id": "NYcgihKbK6Tf"
   },
   "outputs": [],
   "source": [
    "decoder_train = []\n",
    "decoder_test = []\n",
    "\n",
    "for i in range(len(y_train)):\n",
    "  decoder_train.append(y_train[i][1:].tolist())\n",
    "  decoder_train[i].append(0)\n",
    "decoder_train = np.array(decoder_train)\n",
    "\n",
    "for i in range(len(y_test)):\n",
    "  decoder_test.append(y_test[i][1:].tolist())\n",
    "  decoder_test[i].append(0)\n",
    "decoder_test = np.array(decoder_test)"
   ]
  },
  {
   "cell_type": "code",
   "execution_count": null,
   "metadata": {
    "colab": {
     "base_uri": "https://localhost:8080/"
    },
    "executionInfo": {
     "elapsed": 7,
     "status": "ok",
     "timestamp": 1624014355841,
     "user": {
      "displayName": "Nakul Chamariya",
      "photoUrl": "https://lh3.googleusercontent.com/a-/AOh14GiaaA3CEhDPpMN9iKjN0cdb6HXS25MHPJCRZ9y5WA=s64",
      "userId": "14936028262101279399"
     },
     "user_tz": -330
    },
    "id": "niAqkFcwOSTb",
    "outputId": "57ce6e47-482c-47c5-bbd8-7c9cfafd21f2"
   },
   "outputs": [
    {
     "name": "stdout",
     "output_type": "stream",
     "text": [
      "[19  3  4 28  2  6 15 12  2 13 10  7 54  0  0  0  0  0  0  0  0  0  0  0\n",
      "  0  0  0  0  0  0  0  0  0  0  0  0  0  0  0  0  0  0  0  0  0  0  0  0\n",
      "  0  0  0  0  0  0  0  0  0  0  0  0  0  0  0  0  0  0  0  0  0  0  0  0\n",
      "  0  0  0  0  0  0  0  0  0  0  0  0  0  0  0  0  0  0  0  0  0  0  0  0\n",
      "  0  0  0  0  0  0  0  0  0  0  0  0  0  0  0  0  0  0  0  0  0  0  0  0]\n",
      "\n",
      "[53 19  3  4 28  2  6 15 12  2 13 10  7 54  0  0  0  0  0  0  0  0  0  0\n",
      "  0  0  0  0  0  0  0  0  0  0  0  0  0  0  0  0  0  0  0  0  0  0  0  0\n",
      "  0  0  0  0  0  0  0  0  0  0  0  0  0  0  0  0  0  0  0  0  0  0  0  0\n",
      "  0  0  0  0  0  0  0  0  0  0  0  0  0  0  0  0  0  0  0  0  0  0  0  0\n",
      "  0  0  0  0  0  0  0  0  0  0  0  0  0  0  0  0  0  0  0  0  0  0  0  0]\n"
     ]
    }
   ],
   "source": [
    "num = 101\n",
    "\n",
    "print(decoder_test[num])\n",
    "print()\n",
    "print(y_test[num])"
   ]
  },
  {
   "cell_type": "code",
   "execution_count": null,
   "metadata": {
    "colab": {
     "base_uri": "https://localhost:8080/"
    },
    "executionInfo": {
     "elapsed": 8,
     "status": "ok",
     "timestamp": 1624014356757,
     "user": {
      "displayName": "Nakul Chamariya",
      "photoUrl": "https://lh3.googleusercontent.com/a-/AOh14GiaaA3CEhDPpMN9iKjN0cdb6HXS25MHPJCRZ9y5WA=s64",
      "userId": "14936028262101279399"
     },
     "user_tz": -330
    },
    "id": "M1a3m2g6L2XG",
    "outputId": "61efed19-9e1f-49c3-b164-5c314f7dcb02"
   },
   "outputs": [
    {
     "name": "stdout",
     "output_type": "stream",
     "text": [
      "(40000, 120) (10000, 120)\n",
      "(40000, 120) (10000, 120)\n"
     ]
    }
   ],
   "source": [
    "print(decoder_train.shape,decoder_test.shape)\n",
    "print(y_train.shape,y_test.shape)"
   ]
  },
  {
   "cell_type": "code",
   "execution_count": null,
   "metadata": {
    "colab": {
     "base_uri": "https://localhost:8080/"
    },
    "executionInfo": {
     "elapsed": 3007,
     "status": "ok",
     "timestamp": 1624014360563,
     "user": {
      "displayName": "Nakul Chamariya",
      "photoUrl": "https://lh3.googleusercontent.com/a-/AOh14GiaaA3CEhDPpMN9iKjN0cdb6HXS25MHPJCRZ9y5WA=s64",
      "userId": "14936028262101279399"
     },
     "user_tz": -330
    },
    "id": "gdGKZrEqcIK1",
    "outputId": "da792988-ba7f-47d6-ecb8-60ce41189e3d"
   },
   "outputs": [
    {
     "name": "stdout",
     "output_type": "stream",
     "text": [
      "Requirement already satisfied: scikit-plot in /usr/local/lib/python3.7/dist-packages (0.3.7)\n",
      "Requirement already satisfied: matplotlib>=1.4.0 in /usr/local/lib/python3.7/dist-packages (from scikit-plot) (3.2.2)\n",
      "Requirement already satisfied: scipy>=0.9 in /usr/local/lib/python3.7/dist-packages (from scikit-plot) (1.4.1)\n",
      "Requirement already satisfied: joblib>=0.10 in /usr/local/lib/python3.7/dist-packages (from scikit-plot) (1.0.1)\n",
      "Requirement already satisfied: scikit-learn>=0.18 in /usr/local/lib/python3.7/dist-packages (from scikit-plot) (0.22.2.post1)\n",
      "Requirement already satisfied: cycler>=0.10 in /usr/local/lib/python3.7/dist-packages (from matplotlib>=1.4.0->scikit-plot) (0.10.0)\n",
      "Requirement already satisfied: python-dateutil>=2.1 in /usr/local/lib/python3.7/dist-packages (from matplotlib>=1.4.0->scikit-plot) (2.8.1)\n",
      "Requirement already satisfied: pyparsing!=2.0.4,!=2.1.2,!=2.1.6,>=2.0.1 in /usr/local/lib/python3.7/dist-packages (from matplotlib>=1.4.0->scikit-plot) (2.4.7)\n",
      "Requirement already satisfied: kiwisolver>=1.0.1 in /usr/local/lib/python3.7/dist-packages (from matplotlib>=1.4.0->scikit-plot) (1.3.1)\n",
      "Requirement already satisfied: numpy>=1.11 in /usr/local/lib/python3.7/dist-packages (from matplotlib>=1.4.0->scikit-plot) (1.19.5)\n",
      "Requirement already satisfied: six in /usr/local/lib/python3.7/dist-packages (from cycler>=0.10->matplotlib>=1.4.0->scikit-plot) (1.15.0)\n"
     ]
    }
   ],
   "source": [
    "!pip install scikit-plot"
   ]
  },
  {
   "cell_type": "code",
   "execution_count": null,
   "metadata": {
    "id": "9gq2XjjlhWbH"
   },
   "outputs": [],
   "source": [
    "#Importing the required libraries\n",
    "import numpy as np\n",
    "import warnings\n",
    "warnings.filterwarnings(\"ignore\")\n",
    "\n",
    "import scikitplot as skplt\n",
    "from sklearn.metrics import classification_report,confusion_matrix,balanced_accuracy_score"
   ]
  },
  {
   "cell_type": "code",
   "execution_count": null,
   "metadata": {
    "colab": {
     "base_uri": "https://localhost:8080/"
    },
    "executionInfo": {
     "elapsed": 15,
     "status": "ok",
     "timestamp": 1624014360566,
     "user": {
      "displayName": "Nakul Chamariya",
      "photoUrl": "https://lh3.googleusercontent.com/a-/AOh14GiaaA3CEhDPpMN9iKjN0cdb6HXS25MHPJCRZ9y5WA=s64",
      "userId": "14936028262101279399"
     },
     "user_tz": -330
    },
    "id": "-QpVzI-0ZWT3",
    "outputId": "d423b7cb-12f5-456f-e530-67c83add551e"
   },
   "outputs": [
    {
     "data": {
      "text/plain": [
       "array([ 0,  2,  3,  4,  5,  6,  7,  8,  9, 10, 11, 12, 13, 14, 15, 16, 17,\n",
       "       18, 19, 20, 21, 22, 23, 24, 25, 26, 27, 28, 29, 30, 31, 32, 33, 34,\n",
       "       35, 36, 37, 38, 39, 40, 41, 42, 43, 44, 45, 46, 47, 48, 49, 50, 51,\n",
       "       52, 53, 54], dtype=int32)"
      ]
     },
     "execution_count": 33,
     "metadata": {
      "tags": []
     },
     "output_type": "execute_result"
    }
   ],
   "source": [
    "import numpy as np\n",
    "np.unique(y_train)"
   ]
  },
  {
   "cell_type": "code",
   "execution_count": null,
   "metadata": {
    "id": "KNXr0Aec8A32"
   },
   "outputs": [],
   "source": [
    "output_vec = 300\n",
    "vocab_size = len(word_tokenizer.word_index) + 1\n",
    "max_len = 21"
   ]
  },
  {
   "cell_type": "code",
   "execution_count": null,
   "metadata": {
    "id": "Np046m3q7ioR"
   },
   "outputs": [],
   "source": [
    "encoder_inputs_placeholder = tf.keras.layers.Input(shape=(max_len,))\n",
    "x = tf.keras.layers.Embedding(input_dim = vocab_size, output_dim = output_vec)(encoder_inputs_placeholder)\n",
    "encoder = tf.keras.layers.LSTM(256, return_state=True)\n",
    "\n",
    "encoder_outputs, h, c = encoder(x)\n",
    "encoder_states = [h, c]"
   ]
  },
  {
   "cell_type": "code",
   "execution_count": null,
   "metadata": {
    "id": "jD4OuzxIaH77"
   },
   "outputs": [],
   "source": [
    "output_vec = 300\n",
    "vocab_size = len(tag_tokenizer.word_index) + 3\n",
    "num_classes = max(np.unique(y_train))\n",
    "max_len = 120"
   ]
  },
  {
   "cell_type": "code",
   "execution_count": null,
   "metadata": {
    "id": "lgLhQhx17irO"
   },
   "outputs": [],
   "source": [
    "decoder_inputs_placeholder = tf.keras.layers.Input(shape=(max_len,))\n",
    "\n",
    "decoder_embedding = tf.keras.layers.Embedding(input_dim = vocab_size, output_dim = output_vec)\n",
    "decoder_inputs_x = decoder_embedding(decoder_inputs_placeholder)\n",
    "\n",
    "encoder_outputs = tf.keras.layers.RepeatVector(max_len)(encoder_outputs)\n",
    "decode_concat = tf.keras.layers.Concatenate(axis = -1)([encoder_outputs, decoder_inputs_x])\n",
    "\n",
    "decoder_lstm = tf.keras.layers.LSTM(256, return_sequences=True, return_state=True)\n",
    "decoder_outputs, _, _ = decoder_lstm(decode_concat, initial_state=encoder_states)\n",
    "\n",
    "decoder_dense = tf.keras.layers.Dense(num_classes + 1, activation = tf.nn.softmax)\n",
    "decoder_outputs = decoder_dense(decoder_outputs)"
   ]
  },
  {
   "cell_type": "code",
   "execution_count": null,
   "metadata": {
    "id": "fF0d6HLx7it_"
   },
   "outputs": [],
   "source": [
    "model = tf.keras.Model(inputs = [encoder_inputs_placeholder,decoder_inputs_placeholder], outputs = decoder_outputs)"
   ]
  },
  {
   "cell_type": "code",
   "execution_count": null,
   "metadata": {
    "colab": {
     "base_uri": "https://localhost:8080/",
     "height": 754
    },
    "executionInfo": {
     "elapsed": 14,
     "status": "ok",
     "timestamp": 1624014364832,
     "user": {
      "displayName": "Nakul Chamariya",
      "photoUrl": "https://lh3.googleusercontent.com/a-/AOh14GiaaA3CEhDPpMN9iKjN0cdb6HXS25MHPJCRZ9y5WA=s64",
      "userId": "14936028262101279399"
     },
     "user_tz": -330
    },
    "id": "wPW8Ca60WK4Q",
    "outputId": "c51a1079-5faa-4730-8154-ea3c82b6f224"
   },
   "outputs": [
    {
     "data": {
      "image/png": "[encoded data removed]",
      "text/plain": [
       "<IPython.core.display.Image object>"
      ]
     },
     "execution_count": 39,
     "metadata": {
      "tags": []
     },
     "output_type": "execute_result"
    }
   ],
   "source": [
    "from tensorflow.keras.utils import plot_model\n",
    "plot_model(model, 'model.png', show_shapes=True)"
   ]
  },
  {
   "cell_type": "code",
   "execution_count": null,
   "metadata": {
    "colab": {
     "base_uri": "https://localhost:8080/"
    },
    "executionInfo": {
     "elapsed": 8,
     "status": "ok",
     "timestamp": 1624014366695,
     "user": {
      "displayName": "Nakul Chamariya",
      "photoUrl": "https://lh3.googleusercontent.com/a-/AOh14GiaaA3CEhDPpMN9iKjN0cdb6HXS25MHPJCRZ9y5WA=s64",
      "userId": "14936028262101279399"
     },
     "user_tz": -330
    },
    "id": "-xuFaxJ2WQLB",
    "outputId": "1608e4e8-76da-40cd-9cb7-08cb3866ec10"
   },
   "outputs": [
    {
     "name": "stdout",
     "output_type": "stream",
     "text": [
      "Model: \"model\"\n",
      "__________________________________________________________________________________________________\n",
      "Layer (type)                    Output Shape         Param #     Connected to                     \n",
      "==================================================================================================\n",
      "input_1 (InputLayer)            [(None, 21)]         0                                            \n",
      "__________________________________________________________________________________________________\n",
      "embedding (Embedding)           (None, 21, 300)      12300       input_1[0][0]                    \n",
      "__________________________________________________________________________________________________\n",
      "lstm (LSTM)                     [(None, 256), (None, 570368      embedding[0][0]                  \n",
      "__________________________________________________________________________________________________\n",
      "input_2 (InputLayer)            [(None, 120)]        0                                            \n",
      "__________________________________________________________________________________________________\n",
      "repeat_vector (RepeatVector)    (None, 120, 256)     0           lstm[0][0]                       \n",
      "__________________________________________________________________________________________________\n",
      "embedding_1 (Embedding)         (None, 120, 300)     16500       input_2[0][0]                    \n",
      "__________________________________________________________________________________________________\n",
      "concatenate (Concatenate)       (None, 120, 556)     0           repeat_vector[0][0]              \n",
      "                                                                 embedding_1[0][0]                \n",
      "__________________________________________________________________________________________________\n",
      "lstm_1 (LSTM)                   [(None, 120, 256), ( 832512      concatenate[0][0]                \n",
      "                                                                 lstm[0][1]                       \n",
      "                                                                 lstm[0][2]                       \n",
      "__________________________________________________________________________________________________\n",
      "dense (Dense)                   (None, 120, 55)      14135       lstm_1[0][0]                     \n",
      "==================================================================================================\n",
      "Total params: 1,445,815\n",
      "Trainable params: 1,445,815\n",
      "Non-trainable params: 0\n",
      "__________________________________________________________________________________________________\n"
     ]
    }
   ],
   "source": [
    "model.summary()"
   ]
  },
  {
   "cell_type": "code",
   "execution_count": null,
   "metadata": {
    "id": "tzNidW-C4sUH"
   },
   "outputs": [],
   "source": [
    "from sklearn.metrics import confusion_matrix\n",
    "import numpy as np\n",
    "import time\n",
    "\n",
    "def balanced_accuracy(y_true, y_pred):\n",
    "  y_true = y_true.numpy()\n",
    "  y_pred = y_pred.numpy()\n",
    "  y_pred = np.argmax(y_pred,axis=-1)\n",
    "\n",
    "  y_true = y_true.ravel()\n",
    "  y_pred = y_pred.ravel()\n",
    "\n",
    "  #Here we will remove the padded zeroes since they will increase the balanced accuracy\n",
    "  #You can also remove tokens corresponding to punctuation like ',' or '!' since there output is not useful\n",
    "  y_true = np.trim_zeros(y_true, 'b')  \n",
    "  y_true = np.append(y_true,0)\n",
    "  y_pred = y_pred[:(y_true.shape[0])]\n",
    "\n",
    "  num_classes = len(np.unique(y_true))\n",
    "\n",
    "  cm = confusion_matrix(y_true, y_pred).T\n",
    "  balanced_accuracy = 0\n",
    "  for i in range(num_classes):\n",
    "    num = cm[i,i]\n",
    "    den = np.sum(cm[:,i])\n",
    "    if num == 0 :\n",
    "      acc = 0\n",
    "    else:\n",
    "      acc = num / den\n",
    "    balanced_accuracy += acc\n",
    "\n",
    "  return (balanced_accuracy / num_classes)"
   ]
  },
  {
   "cell_type": "code",
   "execution_count": null,
   "metadata": {
    "id": "wgijskVbpoPM"
   },
   "outputs": [],
   "source": [
    "model.compile(optimizer = tf.keras.optimizers.Adam(learning_rate = 0.001), \n",
    "              loss = tf.keras.losses.sparse_categorical_crossentropy, #binary_crossentropy\n",
    "              metrics = balanced_accuracy, run_eagerly=True ) #tf.keras.metrics.CategoricalAccuracy()"
   ]
  },
  {
   "cell_type": "code",
   "execution_count": null,
   "metadata": {
    "id": "enc8r_uwJ23t"
   },
   "outputs": [],
   "source": [
    "batch_size = 32\n",
    "steps_per_epoch = len(X_train) // batch_size\n",
    "validation_batch_size = 32\n",
    "validation_steps = len(X_test) // validation_batch_size"
   ]
  },
  {
   "cell_type": "code",
   "execution_count": null,
   "metadata": {
    "id": "jz3wiz1B9WFL"
   },
   "outputs": [],
   "source": [
    "callback = tf.keras.callbacks.EarlyStopping(\n",
    "    monitor='val_balanced_accuracy', min_delta=0, patience=3,\n",
    "    mode='max', baseline=None, restore_best_weights=True\n",
    ")"
   ]
  },
  {
   "cell_type": "code",
   "execution_count": null,
   "metadata": {
    "colab": {
     "base_uri": "https://localhost:8080/"
    },
    "executionInfo": {
     "elapsed": 4218646,
     "status": "ok",
     "timestamp": 1624018595205,
     "user": {
      "displayName": "Nakul Chamariya",
      "photoUrl": "https://lh3.googleusercontent.com/a-/AOh14GiaaA3CEhDPpMN9iKjN0cdb6HXS25MHPJCRZ9y5WA=s64",
      "userId": "14936028262101279399"
     },
     "user_tz": -330
    },
    "id": "BxPREQdpMOjO",
    "outputId": "483ade33-6514-4b2a-eb4d-56904c3b2318"
   },
   "outputs": [
    {
     "name": "stdout",
     "output_type": "stream",
     "text": [
      "Epoch 1/10\n",
      "1250/1250 [==============================] - 433s 345ms/step - loss: 0.3737 - balanced_accuracy: 0.2770 - val_loss: 0.2636 - val_balanced_accuracy: 0.3983\n",
      "Epoch 2/10\n",
      "1250/1250 [==============================] - 426s 341ms/step - loss: 0.2321 - balanced_accuracy: 0.4497 - val_loss: 0.2053 - val_balanced_accuracy: 0.4954\n",
      "Epoch 3/10\n",
      "1250/1250 [==============================] - 409s 327ms/step - loss: 0.1884 - balanced_accuracy: 0.5337 - val_loss: 0.1750 - val_balanced_accuracy: 0.5597\n",
      "Epoch 4/10\n",
      "1250/1250 [==============================] - 408s 327ms/step - loss: 0.1602 - balanced_accuracy: 0.5924 - val_loss: 0.1562 - val_balanced_accuracy: 0.6110\n",
      "Epoch 5/10\n",
      "1250/1250 [==============================] - 429s 343ms/step - loss: 0.1398 - balanced_accuracy: 0.6381 - val_loss: 0.1436 - val_balanced_accuracy: 0.6352\n",
      "Epoch 6/10\n",
      "1250/1250 [==============================] - 419s 335ms/step - loss: 0.1242 - balanced_accuracy: 0.6736 - val_loss: 0.1350 - val_balanced_accuracy: 0.6587\n",
      "Epoch 7/10\n",
      "1250/1250 [==============================] - 417s 334ms/step - loss: 0.1117 - balanced_accuracy: 0.7044 - val_loss: 0.1296 - val_balanced_accuracy: 0.6782\n",
      "Epoch 8/10\n",
      "1250/1250 [==============================] - 418s 334ms/step - loss: 0.1013 - balanced_accuracy: 0.7281 - val_loss: 0.1264 - val_balanced_accuracy: 0.6897\n",
      "Epoch 9/10\n",
      "1250/1250 [==============================] - 438s 351ms/step - loss: 0.0927 - balanced_accuracy: 0.7492 - val_loss: 0.1244 - val_balanced_accuracy: 0.6968\n",
      "Epoch 10/10\n",
      "1250/1250 [==============================] - 421s 337ms/step - loss: 0.0850 - balanced_accuracy: 0.7673 - val_loss: 0.1239 - val_balanced_accuracy: 0.7020\n",
      "\n",
      "Training time(sec) =  4218.601897239685\n"
     ]
    }
   ],
   "source": [
    "start_time = time.time()\n",
    "\n",
    "result = model.fit([X_train, y_train],\n",
    "                   decoder_train,\n",
    "                   validation_data = ([X_test, y_test], decoder_test), \n",
    "                   callbacks=[callback],\n",
    "                   epochs = 10,\n",
    "                   batch_size = batch_size,\n",
    "                   steps_per_epoch = steps_per_epoch, \n",
    "                   validation_batch_size = validation_batch_size,\n",
    "                   validation_steps = validation_steps\n",
    "                   )\n",
    "\n",
    "model_time = (time.time() - start_time)\n",
    "print('\\nTraining time(sec) = ',model_time)"
   ]
  },
  {
   "cell_type": "code",
   "execution_count": null,
   "metadata": {
    "colab": {
     "base_uri": "https://localhost:8080/",
     "height": 281
    },
    "executionInfo": {
     "elapsed": 656,
     "status": "ok",
     "timestamp": 1624022367115,
     "user": {
      "displayName": "Nakul Chamariya",
      "photoUrl": "https://lh3.googleusercontent.com/a-/AOh14GiaaA3CEhDPpMN9iKjN0cdb6HXS25MHPJCRZ9y5WA=s64",
      "userId": "14936028262101279399"
     },
     "user_tz": -330
    },
    "id": "172XEQelhVua",
    "outputId": "50eff187-a2ba-4a58-854e-3c8a02dbfcbe"
   },
   "outputs": [
    {
     "data": {
      "image/png": "[encoded data removed]",
      "text/plain": [
       "<Figure size 432x288 with 1 Axes>"
      ]
     },
     "metadata": {
      "needs_background": "light",
      "tags": []
     },
     "output_type": "display_data"
    }
   ],
   "source": [
    "plt.plot(result.history['loss'] , label = 'train_loss')\n",
    "plt.plot(result.history['val_loss'] , label = 'val_loss')\n",
    "plt.title('Train_loss vs Val_loss')\n",
    "plt.legend()\n",
    "plt.show()"
   ]
  },
  {
   "cell_type": "code",
   "execution_count": null,
   "metadata": {
    "colab": {
     "base_uri": "https://localhost:8080/",
     "height": 281
    },
    "executionInfo": {
     "elapsed": 836,
     "status": "ok",
     "timestamp": 1624022370561,
     "user": {
      "displayName": "Nakul Chamariya",
      "photoUrl": "https://lh3.googleusercontent.com/a-/AOh14GiaaA3CEhDPpMN9iKjN0cdb6HXS25MHPJCRZ9y5WA=s64",
      "userId": "14936028262101279399"
     },
     "user_tz": -330
    },
    "id": "B89luXcbhV0J",
    "outputId": "8be9c782-bd42-4319-cd86-0c0cb3a17fd4"
   },
   "outputs": [
    {
     "data": {
      "image/png": "[encoded data removed]",
      "text/plain": [
       "<Figure size 432x288 with 1 Axes>"
      ]
     },
     "metadata": {
      "needs_background": "light",
      "tags": []
     },
     "output_type": "display_data"
    }
   ],
   "source": [
    "plt.plot(result.history['balanced_accuracy'] , label = 'train_balanced_accuracy')\n",
    "plt.plot(result.history['val_balanced_accuracy'] , label = 'val_balanced_accuracy')\n",
    "plt.title('Train_balanced_accuracy vs Val_balanced_accuracy')\n",
    "plt.legend()\n",
    "plt.show()"
   ]
  },
  {
   "cell_type": "code",
   "execution_count": null,
   "metadata": {
    "colab": {
     "base_uri": "https://localhost:8080/",
     "height": 1000
    },
    "executionInfo": {
     "elapsed": 127059,
     "status": "ok",
     "timestamp": 1624018758367,
     "user": {
      "displayName": "Nakul Chamariya",
      "photoUrl": "https://lh3.googleusercontent.com/a-/AOh14GiaaA3CEhDPpMN9iKjN0cdb6HXS25MHPJCRZ9y5WA=s64",
      "userId": "14936028262101279399"
     },
     "user_tz": -330
    },
    "id": "FVP-Z6E1J-6X",
    "outputId": "d54cf521-bc00-4d6d-fee8-78e87483a820"
   },
   "outputs": [
    {
     "name": "stdout",
     "output_type": "stream",
     "text": [
      "Prediction time(sec) =  10.338205814361572\n",
      "1250/1250 [==============================] - 44s 35ms/step - loss: 0.0000e+00 - balanced_accuracy: 0.0000e+00\n",
      "313/313 [==============================] - 11s 35ms/step - loss: 0.0000e+00 - balanced_accuracy: 0.0000e+00\n",
      "\n",
      "\n",
      "Training score =  0.6026193985675666\n",
      "Tesing score =  0.5147736714598454\n",
      "\n",
      "\n",
      "No of missclassified for class 0 (test data) = 0 \n",
      "No of missclassified for class 1 (test data) = 1 \n",
      "No of missclassified for class 2 (test data) = 2753 \n",
      "No of missclassified for class 3 (test data) = 4337 \n",
      "No of missclassified for class 4 (test data) = 2875 \n",
      "No of missclassified for class 5 (test data) = 2354 \n",
      "No of missclassified for class 6 (test data) = 1976 \n",
      "No of missclassified for class 7 (test data) = 3264 \n",
      "No of missclassified for class 8 (test data) = 1337 \n",
      "No of missclassified for class 9 (test data) = 1858 \n",
      "No of missclassified for class 10 (test data) = 2758 \n",
      "No of missclassified for class 11 (test data) = 990 \n",
      "No of missclassified for class 12 (test data) = 1440 \n",
      "No of missclassified for class 13 (test data) = 1527 \n",
      "No of missclassified for class 14 (test data) = 1488 \n",
      "No of missclassified for class 15 (test data) = 1008 \n",
      "No of missclassified for class 16 (test data) = 1605 \n",
      "No of missclassified for class 17 (test data) = 1294 \n",
      "No of missclassified for class 18 (test data) = 1323 \n",
      "No of missclassified for class 19 (test data) = 1161 \n",
      "No of missclassified for class 20 (test data) = 944 \n",
      "No of missclassified for class 21 (test data) = 938 \n",
      "No of missclassified for class 22 (test data) = 734 \n",
      "No of missclassified for class 23 (test data) = 433 \n",
      "No of missclassified for class 24 (test data) = 678 \n",
      "No of missclassified for class 25 (test data) = 485 \n",
      "No of missclassified for class 26 (test data) = 386 \n",
      "No of missclassified for class 27 (test data) = 276 \n",
      "No of missclassified for class 28 (test data) = 41 \n",
      "No of missclassified for class 29 (test data) = 165 \n",
      "No of missclassified for class 30 (test data) = 55 \n",
      "No of missclassified for class 31 (test data) = 37 \n",
      "No of missclassified for class 32 (test data) = 14 \n",
      "No of missclassified for class 33 (test data) = 1 \n",
      "No of missclassified for class 34 (test data) = 5 \n",
      "No of missclassified for class 35 (test data) = 5 \n",
      "No of missclassified for class 36 (test data) = 6 \n",
      "No of missclassified for class 37 (test data) = 5 \n",
      "No of missclassified for class 38 (test data) = 9 \n",
      "No of missclassified for class 39 (test data) = 9 \n",
      "No of missclassified for class 40 (test data) = 1 \n",
      "No of missclassified for class 41 (test data) = 3 \n",
      "No of missclassified for class 42 (test data) = 2 \n",
      "No of missclassified for class 43 (test data) = 3 \n",
      "No of missclassified for class 44 (test data) = 2 \n",
      "No of missclassified for class 45 (test data) = 2 \n",
      "No of missclassified for class 46 (test data) = 1 \n",
      "No of missclassified for class 47 (test data) = 1 \n",
      "No of missclassified for class 48 (test data) = 3 \n",
      "No of missclassified for class 49 (test data) = 1633 \n",
      "Total no of missclassified points(test data) =  42226\n",
      "Total % of missclassified points(test data) =  0.035188333333333335\n",
      "\n",
      "\n",
      "Training log_loss =  0.0\n",
      "Tesing log_loss =  0.0\n",
      "\n",
      "\n",
      "{'padding': 0, '<OOV>': 1, ' ': 2, 'e': 3, 'i': 4, 'n': 5, 't': 6, 's': 7, 'h': 8, 'r': 9, 'a': 10, 'c': 11, 'm': 12, 'd': 13, 'u': 14, 'o': 15, 'l': 16, 'g': 17, 'b': 18, 'w': 19, 'f': 20, 'k': 21, 'z': 22, 'ü': 23, 'v': 24, 'p': 25, 'ä': 26, 'ö': 27, 'ß': 28, 'j': 29, 'y': 30, '’': 31, 'x': 32, '0': 33, '3': 34, '1': 35, 'q': 36, '2': 37, '„': 38, '“': 39, '8': 40, '9': 41, '\\xa0': 42, '5': 43, '6': 44, '7': 45, '4': 46, '\\u200b': 47, 'ō': 48, 'á': 49, '—': 50, '–': 51, '\\u202f': 52}\n",
      "\n",
      "\n",
      "Confusion matrix:\n"
     ]
    },
    {
     "data": {
      "image/png": "[encoded data removed]",
      "text/plain": [
       "<Figure size 1800x1800 with 2 Axes>"
      ]
     },
     "metadata": {
      "needs_background": "light",
      "tags": []
     },
     "output_type": "display_data"
    },
    {
     "name": "stdout",
     "output_type": "stream",
     "text": [
      "\n",
      "\n",
      "Classification report:-\n",
      "\n",
      "              precision    recall  f1-score   support\n",
      "\n",
      "           0       1.00      1.00      1.00    977279\n",
      "           1       0.00      0.00      0.00         1\n",
      "           2       0.92      0.91      0.92     30406\n",
      "           3       0.78      0.83      0.81     25764\n",
      "           4       0.80      0.84      0.82     18160\n",
      "           5       0.86      0.84      0.85     14758\n",
      "           6       0.85      0.86      0.86     14584\n",
      "           7       0.77      0.77      0.77     14007\n",
      "           8       0.87      0.90      0.88     12734\n",
      "           9       0.81      0.83      0.82     10647\n",
      "          10       0.76      0.74      0.75     10615\n",
      "          11       0.89      0.88      0.88      7944\n",
      "          12       0.80      0.79      0.80      7017\n",
      "          13       0.73      0.75      0.74      6188\n",
      "          14       0.79      0.74      0.76      5693\n",
      "          15       0.84      0.80      0.82      4962\n",
      "          16       0.75      0.68      0.71      5029\n",
      "          17       0.58      0.73      0.65      4846\n",
      "          18       0.68      0.67      0.68      3981\n",
      "          19       0.77      0.70      0.73      3840\n",
      "          20       0.68      0.64      0.66      2595\n",
      "          21       0.72      0.62      0.66      2438\n",
      "          22       0.65      0.55      0.59      1618\n",
      "          23       0.79      0.54      0.65       950\n",
      "          24       0.44      0.29      0.35       959\n",
      "          25       0.59      0.43      0.50       855\n",
      "          26       0.77      0.38      0.51       624\n",
      "          27       0.73      0.55      0.62       611\n",
      "          28       0.80      0.88      0.84       354\n",
      "          29       0.64      0.47      0.54       312\n",
      "          30       0.65      0.34      0.44        83\n",
      "          31       1.00      0.10      0.18        41\n",
      "          32       1.00      0.39      0.56        23\n",
      "          33       0.85      0.92      0.88        12\n",
      "          34       0.50      0.38      0.43         8\n",
      "          35       0.50      0.44      0.47         9\n",
      "          36       0.00      0.00      0.00         6\n",
      "          37       0.33      0.17      0.22         6\n",
      "          38       0.00      0.00      0.00         9\n",
      "          39       0.00      0.00      0.00         9\n",
      "          40       1.00      0.50      0.67         2\n",
      "          41       0.67      0.40      0.50         5\n",
      "          42       1.00      0.33      0.50         3\n",
      "          43       0.00      0.00      0.00         3\n",
      "          44       0.33      0.33      0.33         3\n",
      "          45       0.00      0.00      0.00         2\n",
      "          46       0.00      0.00      0.00         1\n",
      "          51       0.00      0.00      0.00         1\n",
      "          52       0.00      0.00      0.00         3\n",
      "          54       0.83      0.84      0.83     10000\n",
      "\n",
      "    accuracy                           0.96   1200000\n",
      "   macro avg       0.61      0.51      0.54   1200000\n",
      "weighted avg       0.96      0.96      0.96   1200000\n",
      "\n",
      "**************************************************************************\n"
     ]
    }
   ],
   "source": [
    "def print_results(y_train,y_test,decoder_train,decoder_test):\n",
    "  y_pred1 = model.predict([X_train, y_train])\n",
    "  y_pred1 = np.argmax(y_pred1, axis=2)\n",
    "\n",
    "  start_time = time.time()\n",
    "  y_pred = model.predict([X_test, y_test])\n",
    "  y_pred = np.argmax(y_pred, axis=2)\n",
    "  model_time2 = (time.time() - start_time)\n",
    "  print('Prediction time(sec) = ',model_time2)\n",
    "\n",
    "  decoder_train = decoder_train.ravel()\n",
    "  decoder_test = decoder_test.ravel()\n",
    "  y_pred1 = y_pred1.ravel()\n",
    "  y_pred = y_pred.ravel()\n",
    "\n",
    "  cm_model = confusion_matrix(decoder_test, y_pred)\n",
    "  model_miss = np.sum(y_pred!=decoder_test.ravel())\n",
    "  acc1_model = balanced_accuracy_score(decoder_train,y_pred1)\n",
    "  acc2_model = balanced_accuracy_score(decoder_test,y_pred)\n",
    "\n",
    "  loss1_model = model.evaluate([X_train, y_train])[0]\n",
    "  loss2_model = model.evaluate([X_test, y_test])[0]\n",
    "\n",
    "  print('\\n\\nTraining score = ',acc1_model)\n",
    "  print('Tesing score = ',acc2_model)\n",
    "  print('\\n')\n",
    "\n",
    "  label = list(tag_tokenizer.word_index.values())\n",
    "  label.insert(0,0)\n",
    "  for i in range(len(np.unique(decoder_test))):\n",
    "      err = np.sum(cm_model[i])-cm_model[i][i]\n",
    "      print('No of missclassified for class {} (test data) = {} '.format(label[i],err))\n",
    "  print('Total no of missclassified points(test data) = ',model_miss)\n",
    "  print('Total % of missclassified points(test data) = ',model_miss/len(decoder_test))\n",
    "  print('\\n\\nTraining log_loss = ',loss1_model)\n",
    "  print('Tesing log_loss = ',loss2_model)\n",
    "\n",
    "  print('\\n')\n",
    "  tags = tag_tokenizer.word_index\n",
    "  tags['padding'] = 0\n",
    "  print(dict(sorted(tags.items(), key=lambda x:x[1])))\n",
    "  print('\\n\\nConfusion matrix:')\n",
    "  skplt.metrics.plot_confusion_matrix(decoder_test, y_pred , figsize = (25,25),normalize=True)\n",
    "  plt.show()\n",
    "  print('\\n\\nClassification report:-\\n')\n",
    "  print(classification_report(decoder_test,y_pred))\n",
    "  print('**************************************************************************')\n",
    "\n",
    "  # RNN = [acc1_model,acc2_model,model_miss,model_miss/len(decoder_test),loss1_model,loss2_model,model_time,model_time2]\n",
    "\n",
    "print_results(y_train,y_test,decoder_train,decoder_test)"
   ]
  },
  {
   "cell_type": "code",
   "execution_count": null,
   "metadata": {
    "colab": {
     "base_uri": "https://localhost:8080/"
    },
    "executionInfo": {
     "elapsed": 469,
     "status": "ok",
     "timestamp": 1624019749604,
     "user": {
      "displayName": "Nakul Chamariya",
      "photoUrl": "https://lh3.googleusercontent.com/a-/AOh14GiaaA3CEhDPpMN9iKjN0cdb6HXS25MHPJCRZ9y5WA=s64",
      "userId": "14936028262101279399"
     },
     "user_tz": -330
    },
    "id": "BkbyoPvDLoLt",
    "outputId": "92635ea9-4027-4c6b-fc8a-083bbd577aba"
   },
   "outputs": [
    {
     "name": "stdout",
     "output_type": "stream",
     "text": [
      "(40000, 120)\n",
      "(10000, 120)\n",
      "\n",
      "(40000, 120)\n",
      "(10000, 120)\n"
     ]
    }
   ],
   "source": [
    "print(y_train.shape)\n",
    "print(y_test.shape)\n",
    "print()\n",
    "print(decoder_train.shape)\n",
    "print(decoder_test.shape)"
   ]
  },
  {
   "cell_type": "code",
   "execution_count": null,
   "metadata": {
    "id": "az2hkPBQLfcj"
   },
   "outputs": [],
   "source": [
    "encoder_outputs, h, c = encoder(x)\n",
    "encoder_states = [h, c]"
   ]
  },
  {
   "cell_type": "code",
   "execution_count": null,
   "metadata": {
    "id": "mK2IFgEYfVyl"
   },
   "outputs": [],
   "source": [
    "encoder_model = tf.keras.Model(inputs = encoder_inputs_placeholder, outputs = encoder_states)"
   ]
  },
  {
   "cell_type": "code",
   "execution_count": null,
   "metadata": {
    "id": "szv8yeVwfV63"
   },
   "outputs": [],
   "source": [
    "decoder_inputs_single = tf.keras.layers.Input(shape=(1,))\n",
    "decoder_inputs_single_x = decoder_embedding(decoder_inputs_single)\n",
    "\n",
    "encoder_state_outputs = tf.keras.layers.Input(shape=(1,256,))\n",
    "decode_state_concat = tf.keras.layers.Concatenate(axis = -1)([encoder_state_outputs, decoder_inputs_single_x])\n",
    "\n",
    "decoder_state_input_h = tf.keras.layers.Input(shape=(256,))\n",
    "decoder_state_input_c = tf.keras.layers.Input(shape=(256,))\n",
    "decoder_states_inputs = [decoder_state_input_h, decoder_state_input_c]\n",
    "\n",
    "decoder_outputs, h, c = decoder_lstm(decode_state_concat, initial_state=decoder_states_inputs)\n",
    "\n",
    "decoder_states = [h, c]\n",
    "decoder_outputs = decoder_dense(decoder_outputs)"
   ]
  },
  {
   "cell_type": "code",
   "execution_count": null,
   "metadata": {
    "id": "zVVhqUTQfWB4"
   },
   "outputs": [],
   "source": [
    "decoder_model = tf.keras.Model(inputs = [decoder_inputs_single] + decoder_states_inputs + [encoder_state_outputs], outputs = [decoder_outputs] + decoder_states)"
   ]
  },
  {
   "cell_type": "code",
   "execution_count": null,
   "metadata": {
    "colab": {
     "base_uri": "https://localhost:8080/",
     "height": 409
    },
    "executionInfo": {
     "elapsed": 1098,
     "status": "ok",
     "timestamp": 1624023131787,
     "user": {
      "displayName": "Nakul Chamariya",
      "photoUrl": "https://lh3.googleusercontent.com/a-/AOh14GiaaA3CEhDPpMN9iKjN0cdb6HXS25MHPJCRZ9y5WA=s64",
      "userId": "14936028262101279399"
     },
     "user_tz": -330
    },
    "id": "SS0WkkcHfWF6",
    "outputId": "1c99c9e9-e0ff-48cd-a27f-f0ac3a2ef942"
   },
   "outputs": [
    {
     "data": {
      "image/png": "[encoded data removed]",
      "text/plain": [
       "<IPython.core.display.Image object>"
      ]
     },
     "execution_count": 185,
     "metadata": {
      "tags": []
     },
     "output_type": "execute_result"
    }
   ],
   "source": [
    "plot_model(decoder_model, to_file='model_plot_dec.png', show_shapes=True, show_layer_names=True)"
   ]
  },
  {
   "cell_type": "code",
   "execution_count": null,
   "metadata": {
    "colab": {
     "base_uri": "https://localhost:8080/"
    },
    "executionInfo": {
     "elapsed": 550,
     "status": "ok",
     "timestamp": 1624023138049,
     "user": {
      "displayName": "Nakul Chamariya",
      "photoUrl": "https://lh3.googleusercontent.com/a-/AOh14GiaaA3CEhDPpMN9iKjN0cdb6HXS25MHPJCRZ9y5WA=s64",
      "userId": "14936028262101279399"
     },
     "user_tz": -330
    },
    "id": "i_SKITaEG7VC",
    "outputId": "312d99d6-9335-4c43-a6b2-7292ca8a0f5c"
   },
   "outputs": [
    {
     "name": "stdout",
     "output_type": "stream",
     "text": [
      "Model: \"model_28\"\n",
      "__________________________________________________________________________________________________\n",
      "Layer (type)                    Output Shape         Param #     Connected to                     \n",
      "==================================================================================================\n",
      "input_73 (InputLayer)           [(None, 1)]          0                                            \n",
      "__________________________________________________________________________________________________\n",
      "input_74 (InputLayer)           [(None, 1, 256)]     0                                            \n",
      "__________________________________________________________________________________________________\n",
      "embedding_1 (Embedding)         multiple             16500       input_73[0][0]                   \n",
      "__________________________________________________________________________________________________\n",
      "concatenate_20 (Concatenate)    (None, 1, 556)       0           input_74[0][0]                   \n",
      "                                                                 embedding_1[21][0]               \n",
      "__________________________________________________________________________________________________\n",
      "input_75 (InputLayer)           [(None, 256)]        0                                            \n",
      "__________________________________________________________________________________________________\n",
      "input_76 (InputLayer)           [(None, 256)]        0                                            \n",
      "__________________________________________________________________________________________________\n",
      "lstm_1 (LSTM)                   multiple             832512      concatenate_20[0][0]             \n",
      "                                                                 input_75[0][0]                   \n",
      "                                                                 input_76[0][0]                   \n",
      "__________________________________________________________________________________________________\n",
      "dense (Dense)                   multiple             14135       lstm_1[16][0]                    \n",
      "==================================================================================================\n",
      "Total params: 863,147\n",
      "Trainable params: 863,147\n",
      "Non-trainable params: 0\n",
      "__________________________________________________________________________________________________\n"
     ]
    }
   ],
   "source": [
    "decoder_model.summary()"
   ]
  },
  {
   "cell_type": "code",
   "execution_count": null,
   "metadata": {
    "id": "_MJzxgr-HXR0"
   },
   "outputs": [],
   "source": [
    "import string\n",
    "import contractions\n",
    "\n",
    "def text_preprocess(s):\n",
    "  s = contractions.fix(s)\n",
    "  s = s.lower()\n",
    "  s = s.rstrip()\n",
    "  s = s.lstrip()\n",
    "\n",
    "  text = \"\"\n",
    "  for ch in s:\n",
    "    if ch not in string.punctuation:\n",
    "      text = text + ch\n",
    "  return text\n",
    "\n",
    "\n",
    "for i in range(len(X)):\n",
    "  X[i] = text_preprocess(X[i])\n",
    "\n",
    "for i in range(len(y)):\n",
    "  y[i] = text_preprocess(y[i])"
   ]
  },
  {
   "cell_type": "code",
   "execution_count": null,
   "metadata": {
    "id": "lDncQqseG8i-"
   },
   "outputs": [],
   "source": [
    "def translate_sentence(text, max_len, start_token, end_token, max_output_len, tags, word_tokenizer):\n",
    "  original_text = text\n",
    "  text = text_preprocess(text)\n",
    "\n",
    "  data = np.array(word_tokenizer.texts_to_sequences(text))\n",
    "  data = data.ravel()\n",
    "\n",
    "  data = tf.keras.preprocessing.sequence.pad_sequences(\n",
    "      [data], maxlen = max_len, padding = 'pre',\n",
    "      truncating='post', value=0.0 )\n",
    "  \n",
    "  target_seq = np.zeros((1, 1))\n",
    "  target_seq[0, 0] = start_token\n",
    "  target_seq = target_seq.ravel()\n",
    "\n",
    "  encoder_outputs,c = encoder_model.predict(data)\n",
    "  states_value = [encoder_outputs,c]\n",
    "  encoder_outputs = tf.expand_dims(encoder_outputs, axis=0)\n",
    "  output_tokens, h, c = decoder_model.predict([target_seq] + states_value + [encoder_outputs])\n",
    "\n",
    "  output_sen = []\n",
    "  for _ in range(max_output_len):\n",
    "    output_tokens, h, c = decoder_model.predict([target_seq] + states_value + [encoder_outputs])\n",
    "    idx = np.argmax(output_tokens,axis=2).ravel()\n",
    "\n",
    "    if idx == end_token:\n",
    "      break\n",
    "    else:\n",
    "      output_sen.append(tags[idx[0]])\n",
    "\n",
    "    target_seq = np.zeros((1, 1))\n",
    "    target_seq[0, 0] = idx[0]\n",
    "    target_seq = target_seq.ravel()\n",
    "    states_value = [h, c]\n",
    "\n",
    "  return original_text,''.join(output_sen)"
   ]
  },
  {
   "cell_type": "code",
   "execution_count": null,
   "metadata": {
    "id": "M_ZryKZUKde3"
   },
   "outputs": [],
   "source": [
    "text = 'I am very Happy'\n",
    "max_len = 21\n",
    "start_token = 53\n",
    "end_token = 54\n",
    "max_output_len = 120\n",
    "\n",
    "tags_dict = tag_tokenizer.word_index\n",
    "tags_dict = dict([(value, key) for key, value in tags_dict.items()])"
   ]
  },
  {
   "cell_type": "code",
   "execution_count": null,
   "metadata": {
    "id": "hW_3yLKIK-OD"
   },
   "outputs": [],
   "source": [
    "text, output = translate_sentence(text, max_len, start_token, end_token, max_output_len, tags_dict, word_tokenizer) "
   ]
  },
  {
   "cell_type": "code",
   "execution_count": null,
   "metadata": {
    "colab": {
     "base_uri": "https://localhost:8080/",
     "height": 35
    },
    "executionInfo": {
     "elapsed": 541,
     "status": "ok",
     "timestamp": 1624023212680,
     "user": {
      "displayName": "Nakul Chamariya",
      "photoUrl": "https://lh3.googleusercontent.com/a-/AOh14GiaaA3CEhDPpMN9iKjN0cdb6HXS25MHPJCRZ9y5WA=s64",
      "userId": "14936028262101279399"
     },
     "user_tz": -330
    },
    "id": "as0gp-6cKlCL",
    "outputId": "0ff60895-908f-4ef5-8283-ed79f938a631"
   },
   "outputs": [
    {
     "data": {
      "application/vnd.google.colaboratory.intrinsic+json": {
       "type": "string"
      },
      "text/plain": [
       "'I am very Happy'"
      ]
     },
     "execution_count": 194,
     "metadata": {
      "tags": []
     },
     "output_type": "execute_result"
    }
   ],
   "source": [
    "text"
   ]
  },
  {
   "cell_type": "code",
   "execution_count": null,
   "metadata": {
    "colab": {
     "base_uri": "https://localhost:8080/",
     "height": 35
    },
    "executionInfo": {
     "elapsed": 11,
     "status": "ok",
     "timestamp": 1624023214897,
     "user": {
      "displayName": "Nakul Chamariya",
      "photoUrl": "https://lh3.googleusercontent.com/a-/AOh14GiaaA3CEhDPpMN9iKjN0cdb6HXS25MHPJCRZ9y5WA=s64",
      "userId": "14936028262101279399"
     },
     "user_tz": -330
    },
    "id": "zkY8g_9sMNRk",
    "outputId": "5727b9b8-c4ce-4789-8071-01fd0ceb15c7"
   },
   "outputs": [
    {
     "data": {
      "application/vnd.google.colaboratory.intrinsic+json": {
       "type": "string"
      },
      "text/plain": [
       "'ich bin sehr glücklich'"
      ]
     },
     "execution_count": 195,
     "metadata": {
      "tags": []
     },
     "output_type": "execute_result"
    }
   ],
   "source": [
    "output"
   ]
  },
  {
   "cell_type": "code",
   "execution_count": null,
   "metadata": {
    "id": "Kaor2kxvNyqY"
   },
   "outputs": [],
   "source": [
    "import pandas as pd\n",
    "\n",
    "def testing_model(X_test, y_test):\n",
    "  words = word_tokenizer.word_index\n",
    "  words = dict([(value, key) for key, value in words.items()])\n",
    "\n",
    "  tags = tag_tokenizer.word_index\n",
    "  tags = dict([(value, key) for key, value in tags.items()])\n",
    "\n",
    "  train_text = []\n",
    "  for i in range(len(X_test)):\n",
    "    train_text.append(np.trim_zeros(X_test[i], 'f').tolist())\n",
    "  X_test = np.array(train_text)\n",
    "\n",
    "  eng_text = []\n",
    "  for i in range(len(X_test)):\n",
    "    temp = []\n",
    "    for j in range(len(X_test[i])):\n",
    "      temp.append(words[X_test[i][j]])\n",
    "    eng_text.append(''.join(temp))\n",
    "\n",
    "  test_text = []\n",
    "  for i in range(len(y_test)):\n",
    "    test_text.append(np.trim_zeros(y_test[i], 'b').tolist())\n",
    "    test_text[i].pop(0)\n",
    "    test_text[i].pop()\n",
    "  y_test = np.array(test_text)\n",
    "\n",
    "  actual_text = []\n",
    "  for i in range(len(y_test)):\n",
    "    temp = []\n",
    "    for j in range(len(y_test[i])):\n",
    "      temp.append(tags[y_test[i][j]])\n",
    "    actual_text.append(''.join(temp))\n",
    "\n",
    "  pred_text = []\n",
    "  for i in range(len(eng_text)):\n",
    "    text, output = translate_sentence(eng_text[i], max_len, start_token, end_token, max_output_len, tags_dict, word_tokenizer) \n",
    "    pred_text.append(output)\n",
    "\n",
    "  df = pd.DataFrame()\n",
    "  df['English_text'] = eng_text\n",
    "  df['actual_output'] = actual_text\n",
    "  df['predicted_output'] = pred_text\n",
    "\n",
    "  return df"
   ]
  },
  {
   "cell_type": "code",
   "execution_count": null,
   "metadata": {
    "id": "rjY132i3MNVf"
   },
   "outputs": [],
   "source": [
    "df = testing_model(X_test[:10], y_test[:10])"
   ]
  },
  {
   "cell_type": "code",
   "execution_count": null,
   "metadata": {
    "colab": {
     "base_uri": "https://localhost:8080/",
     "height": 363
    },
    "executionInfo": {
     "elapsed": 503,
     "status": "ok",
     "timestamp": 1624023265570,
     "user": {
      "displayName": "Nakul Chamariya",
      "photoUrl": "https://lh3.googleusercontent.com/a-/AOh14GiaaA3CEhDPpMN9iKjN0cdb6HXS25MHPJCRZ9y5WA=s64",
      "userId": "14936028262101279399"
     },
     "user_tz": -330
    },
    "id": "561t3uAVYq5r",
    "outputId": "b76794e1-7922-40fc-ed39-603dd047bfd9"
   },
   "outputs": [
    {
     "data": {
      "text/html": [
       "<div>\n",
       "<style scoped>\n",
       "    .dataframe tbody tr th:only-of-type {\n",
       "        vertical-align: middle;\n",
       "    }\n",
       "\n",
       "    .dataframe tbody tr th {\n",
       "        vertical-align: top;\n",
       "    }\n",
       "\n",
       "    .dataframe thead th {\n",
       "        text-align: right;\n",
       "    }\n",
       "</style>\n",
       "<table border=\"1\" class=\"dataframe\">\n",
       "  <thead>\n",
       "    <tr style=\"text-align: right;\">\n",
       "      <th></th>\n",
       "      <th>English_text</th>\n",
       "      <th>actual_output</th>\n",
       "      <th>predicted_output</th>\n",
       "    </tr>\n",
       "  </thead>\n",
       "  <tbody>\n",
       "    <tr>\n",
       "      <th>0</th>\n",
       "      <td>put on your coat</td>\n",
       "      <td>zieh deinen mantel an</td>\n",
       "      <td>lass dir die aufmahren</td>\n",
       "    </tr>\n",
       "    <tr>\n",
       "      <th>1</th>\n",
       "      <td>ive seen things</td>\n",
       "      <td>ich habe dinge gesehen</td>\n",
       "      <td>ich habe sehr gesehen</td>\n",
       "    </tr>\n",
       "    <tr>\n",
       "      <th>2</th>\n",
       "      <td>some bugs were fixed</td>\n",
       "      <td>einige fehler wurden behoben</td>\n",
       "      <td>geben wurden sich gerettet</td>\n",
       "    </tr>\n",
       "    <tr>\n",
       "      <th>3</th>\n",
       "      <td>i had three dogs</td>\n",
       "      <td>ich hatte drei hunde</td>\n",
       "      <td>ich hatte drei hunde</td>\n",
       "    </tr>\n",
       "    <tr>\n",
       "      <th>4</th>\n",
       "      <td>i have a theory</td>\n",
       "      <td>ich habe eine theorie</td>\n",
       "      <td>ich habe eine theire</td>\n",
       "    </tr>\n",
       "    <tr>\n",
       "      <th>5</th>\n",
       "      <td>maybe tom likes you</td>\n",
       "      <td>vielleicht mag tom dich leiden</td>\n",
       "      <td>vielleicht liebt dich tom dir gegeben</td>\n",
       "    </tr>\n",
       "    <tr>\n",
       "      <th>6</th>\n",
       "      <td>well be busy</td>\n",
       "      <td>wir werden beschäftigt sein</td>\n",
       "      <td>wir werden bescheiden gehen</td>\n",
       "    </tr>\n",
       "    <tr>\n",
       "      <th>7</th>\n",
       "      <td>may god reward you</td>\n",
       "      <td>möge gott dir’s vergelten</td>\n",
       "      <td>gott unter ging dich</td>\n",
       "    </tr>\n",
       "    <tr>\n",
       "      <th>8</th>\n",
       "      <td>do you have a knife</td>\n",
       "      <td>hast du ein messer</td>\n",
       "      <td>hast du ein kaffee</td>\n",
       "    </tr>\n",
       "    <tr>\n",
       "      <th>9</th>\n",
       "      <td>ill come home</td>\n",
       "      <td>ich werde nach hause kommen</td>\n",
       "      <td>ich werde nach hause kommen</td>\n",
       "    </tr>\n",
       "  </tbody>\n",
       "</table>\n",
       "</div>"
      ],
      "text/plain": [
       "           English_text  ...                       predicted_output\n",
       "0      put on your coat  ...                 lass dir die aufmahren\n",
       "1       ive seen things  ...                  ich habe sehr gesehen\n",
       "2  some bugs were fixed  ...             geben wurden sich gerettet\n",
       "3      i had three dogs  ...                   ich hatte drei hunde\n",
       "4       i have a theory  ...                   ich habe eine theire\n",
       "5   maybe tom likes you  ...  vielleicht liebt dich tom dir gegeben\n",
       "6          well be busy  ...            wir werden bescheiden gehen\n",
       "7    may god reward you  ...                   gott unter ging dich\n",
       "8   do you have a knife  ...                     hast du ein kaffee\n",
       "9         ill come home  ...            ich werde nach hause kommen\n",
       "\n",
       "[10 rows x 3 columns]"
      ]
     },
     "execution_count": 198,
     "metadata": {
      "tags": []
     },
     "output_type": "execute_result"
    }
   ],
   "source": [
    "df"
   ]
  },
  {
   "cell_type": "code",
   "execution_count": null,
   "metadata": {
    "colab": {
     "base_uri": "https://localhost:8080/"
    },
    "executionInfo": {
     "elapsed": 4973,
     "status": "ok",
     "timestamp": 1623750242364,
     "user": {
      "displayName": "Nakul Chamariya",
      "photoUrl": "https://lh3.googleusercontent.com/a-/AOh14GiaaA3CEhDPpMN9iKjN0cdb6HXS25MHPJCRZ9y5WA=s64",
      "userId": "14936028262101279399"
     },
     "user_tz": -330
    },
    "id": "e_kAEuUWX2Bg",
    "outputId": "af0cd994-1ea5-40cf-d2d5-0d1b71afbc0c"
   },
   "outputs": [
    {
     "name": "stderr",
     "output_type": "stream",
     "text": [
      "WARNING:absl:Found untraced functions such as lstm_cell_layer_call_and_return_conditional_losses, lstm_cell_layer_call_fn, lstm_cell_layer_call_fn, lstm_cell_layer_call_and_return_conditional_losses, lstm_cell_layer_call_and_return_conditional_losses while saving (showing 5 of 5). These functions will not be directly callable after loading.\n"
     ]
    },
    {
     "name": "stdout",
     "output_type": "stream",
     "text": [
      "INFO:tensorflow:Assets written to: /content/drive/MyDrive/Dl projects/RNN basics/parts of speech/rnn_pos_model/assets\n"
     ]
    },
    {
     "name": "stderr",
     "output_type": "stream",
     "text": [
      "INFO:tensorflow:Assets written to: /content/drive/MyDrive/Dl projects/RNN basics/parts of speech/rnn_pos_model/assets\n"
     ]
    }
   ],
   "source": [
    "save_path = '/content/drive/MyDrive/Dl projects/RNN basics/Machine Translation'\n",
    "\n",
    "model_name1 = 'rnn_encoder_model'\n",
    "model_path1 = save_path + '/' + model_name1\n",
    "encoder_model.save(model_path1)\n",
    "\n",
    "model_name2 = 'rnn_decoder_model'\n",
    "model_path2 = save_path + '/' + model_name2\n",
    "decoder_model.save(model_path2) "
   ]
  },
  {
   "cell_type": "code",
   "execution_count": null,
   "metadata": {
    "colab": {
     "base_uri": "https://localhost:8080/"
    },
    "executionInfo": {
     "elapsed": 1256,
     "status": "ok",
     "timestamp": 1623750266971,
     "user": {
      "displayName": "Nakul Chamariya",
      "photoUrl": "https://lh3.googleusercontent.com/a-/AOh14GiaaA3CEhDPpMN9iKjN0cdb6HXS25MHPJCRZ9y5WA=s64",
      "userId": "14936028262101279399"
     },
     "user_tz": -330
    },
    "id": "-7rwZe15X2GC",
    "outputId": "88e3c6fc-dc40-4404-850d-f44d1d0840e4"
   },
   "outputs": [
    {
     "name": "stdout",
     "output_type": "stream",
     "text": [
      "/content/drive/MyDrive/Dl projects/RNN basics/parts of speech\n"
     ]
    },
    {
     "data": {
      "text/plain": [
       "['tokenizer.joblib']"
      ]
     },
     "execution_count": 100,
     "metadata": {
      "tags": []
     },
     "output_type": "execute_result"
    }
   ],
   "source": [
    "import os\n",
    "os.chdir(save_path)\n",
    "print(os.getcwd())\n",
    "\n",
    "import joblib\n",
    "joblib.dump(tags_dict , 'tags.joblib')\n",
    "joblib.dump(word_tokenizer , 'tokenizer.joblib')"
   ]
  },
  {
   "cell_type": "code",
   "execution_count": null,
   "metadata": {
    "id": "8okwWUV2X2JH"
   },
   "outputs": [],
   "source": []
  }
 ],
 "metadata": {
  "accelerator": "GPU",
  "colab": {
   "collapsed_sections": [],
   "name": "Encoder decoder - 2.ipynb",
   "provenance": []
  },
  "kernelspec": {
   "display_name": "Python 3",
   "language": "python",
   "name": "python3"
  },
  "language_info": {
   "codemirror_mode": {
    "name": "ipython",
    "version": 3
   },
   "file_extension": ".py",
   "mimetype": "text/x-python",
   "name": "python",
   "nbconvert_exporter": "python",
   "pygments_lexer": "ipython3",
   "version": "3.7.7"
  }
 },
 "nbformat": 4,
 "nbformat_minor": 1
}
