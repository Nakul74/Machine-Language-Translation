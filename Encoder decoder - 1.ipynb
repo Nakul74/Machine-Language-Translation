{
 "cells": [
  {
   "cell_type": "code",
   "execution_count": null,
   "metadata": {
    "colab": {
     "base_uri": "https://localhost:8080/"
    },
    "executionInfo": {
     "elapsed": 1637,
     "status": "ok",
     "timestamp": 1624002215117,
     "user": {
      "displayName": "NAKUL CHAMARIYA",
      "photoUrl": "",
      "userId": "06259338779627162060"
     },
     "user_tz": -330
    },
    "id": "8BFVCZxwR4UQ",
    "outputId": "a25881e2-efe7-4fb1-b723-3d1a8d51d0cb"
   },
   "outputs": [
    {
     "name": "stdout",
     "output_type": "stream",
     "text": [
      "Fri Jun 18 07:43:35 2021       \n",
      "+-----------------------------------------------------------------------------+\n",
      "| NVIDIA-SMI 465.27       Driver Version: 460.32.03    CUDA Version: 11.2     |\n",
      "|-------------------------------+----------------------+----------------------+\n",
      "| GPU  Name        Persistence-M| Bus-Id        Disp.A | Volatile Uncorr. ECC |\n",
      "| Fan  Temp  Perf  Pwr:Usage/Cap|         Memory-Usage | GPU-Util  Compute M. |\n",
      "|                               |                      |               MIG M. |\n",
      "|===============================+======================+======================|\n",
      "|   0  Tesla T4            Off  | 00000000:00:04.0 Off |                    0 |\n",
      "| N/A   42C    P8     9W /  70W |      0MiB / 15109MiB |      0%      Default |\n",
      "|                               |                      |                  N/A |\n",
      "+-------------------------------+----------------------+----------------------+\n",
      "                                                                               \n",
      "+-----------------------------------------------------------------------------+\n",
      "| Processes:                                                                  |\n",
      "|  GPU   GI   CI        PID   Type   Process name                  GPU Memory |\n",
      "|        ID   ID                                                   Usage      |\n",
      "|=============================================================================|\n",
      "|  No running processes found                                                 |\n",
      "+-----------------------------------------------------------------------------+\n"
     ]
    }
   ],
   "source": [
    "!nvidia-smi"
   ]
  },
  {
   "cell_type": "code",
   "execution_count": null,
   "metadata": {
    "colab": {
     "base_uri": "https://localhost:8080/"
    },
    "executionInfo": {
     "elapsed": 18749,
     "status": "ok",
     "timestamp": 1624017409792,
     "user": {
      "displayName": "NAKUL CHAMARIYA",
      "photoUrl": "",
      "userId": "06259338779627162060"
     },
     "user_tz": -330
    },
    "id": "uZ7bFgpBXoYh",
    "outputId": "0b25c15a-ebbb-4511-cd46-cf723ff2d597"
   },
   "outputs": [
    {
     "name": "stdout",
     "output_type": "stream",
     "text": [
      "Mounted at /content/drive\n"
     ]
    }
   ],
   "source": [
    "from google.colab import drive\n",
    "drive.mount('/content/drive')"
   ]
  },
  {
   "cell_type": "code",
   "execution_count": null,
   "metadata": {
    "colab": {
     "base_uri": "https://localhost:8080/"
    },
    "executionInfo": {
     "elapsed": 2059,
     "status": "ok",
     "timestamp": 1624017416321,
     "user": {
      "displayName": "NAKUL CHAMARIYA",
      "photoUrl": "",
      "userId": "06259338779627162060"
     },
     "user_tz": -330
    },
    "id": "elhCHMOCmGOe",
    "outputId": "09c5fed3-2409-4d65-92dc-db0fa185da4e"
   },
   "outputs": [
    {
     "name": "stdout",
     "output_type": "stream",
     "text": [
      "235901\n"
     ]
    }
   ],
   "source": [
    "path = '/content/drive/MyDrive/Dl projects/RNN basics/Machine Translation/data.txt'\n",
    "\n",
    "with open(path,encoding='utf-8') as f:\n",
    "    lines = f.readlines()\n",
    "\n",
    "print(len(lines))\n"
   ]
  },
  {
   "cell_type": "code",
   "execution_count": null,
   "metadata": {
    "id": "UkIvGM03m4M7"
   },
   "outputs": [],
   "source": [
    "# Using only top 50000 sentences\n",
    "lines = lines[:50000]\n",
    "text = ' '.join(lines)\n",
    "lines = text.split('\\n')\n",
    "\n",
    "X = []\n",
    "y = []\n",
    "\n",
    "for i in range(len(lines)-1):\n",
    "    s = lines[i]\n",
    "    X.append(s.split('\\t')[0])\n",
    "    y.append(s.split('\\t')[1])\n",
    "\n",
    "import numpy as np\n",
    "X = np.array(X)\n",
    "y = np.array(y)"
   ]
  },
  {
   "cell_type": "code",
   "execution_count": null,
   "metadata": {
    "colab": {
     "base_uri": "https://localhost:8080/"
    },
    "executionInfo": {
     "elapsed": 18,
     "status": "ok",
     "timestamp": 1624017416324,
     "user": {
      "displayName": "NAKUL CHAMARIYA",
      "photoUrl": "",
      "userId": "06259338779627162060"
     },
     "user_tz": -330
    },
    "id": "F--P2_VHnW2P",
    "outputId": "2831a5b3-34f0-46a2-9e6e-a2bb26250f5c"
   },
   "outputs": [
    {
     "name": "stdout",
     "output_type": "stream",
     "text": [
      "(50000,)\n",
      "(50000,)\n"
     ]
    }
   ],
   "source": [
    "print(X.shape)\n",
    "print(y.shape)"
   ]
  },
  {
   "cell_type": "code",
   "execution_count": null,
   "metadata": {
    "colab": {
     "base_uri": "https://localhost:8080/"
    },
    "executionInfo": {
     "elapsed": 7433,
     "status": "ok",
     "timestamp": 1624017425094,
     "user": {
      "displayName": "NAKUL CHAMARIYA",
      "photoUrl": "",
      "userId": "06259338779627162060"
     },
     "user_tz": -330
    },
    "id": "aZrXXs4U8LZz",
    "outputId": "793ead60-4096-445b-ce52-d2c740d32492"
   },
   "outputs": [
    {
     "name": "stdout",
     "output_type": "stream",
     "text": [
      "Collecting contractions\n",
      "  Downloading https://files.pythonhosted.org/packages/93/f4/0ec4a458e4368cc3be2c799411ecf0bc961930e566dadb9624563821b3a6/contractions-0.0.52-py2.py3-none-any.whl\n",
      "Collecting textsearch>=0.0.21\n",
      "  Downloading https://files.pythonhosted.org/packages/d3/fe/021d7d76961b5ceb9f8d022c4138461d83beff36c3938dc424586085e559/textsearch-0.0.21-py2.py3-none-any.whl\n",
      "Collecting anyascii\n",
      "\u001b[?25l  Downloading https://files.pythonhosted.org/packages/a3/14/666cd44bf53f36a961544af592cb5c5c800013f9c51a4745af8d7c17362a/anyascii-0.2.0-py3-none-any.whl (283kB)\n",
      "\u001b[K     |████████████████████████████████| 286kB 32.5MB/s \n",
      "\u001b[?25hCollecting pyahocorasick\n",
      "\u001b[?25l  Downloading https://files.pythonhosted.org/packages/7f/c2/eae730037ae1cbbfaa229d27030d1d5e34a1e41114b21447d1202ae9c220/pyahocorasick-1.4.2.tar.gz (321kB)\n",
      "\u001b[K     |████████████████████████████████| 327kB 33.6MB/s \n",
      "\u001b[?25hBuilding wheels for collected packages: pyahocorasick\n",
      "  Building wheel for pyahocorasick (setup.py) ... \u001b[?25l\u001b[?25hdone\n",
      "  Created wheel for pyahocorasick: filename=pyahocorasick-1.4.2-cp37-cp37m-linux_x86_64.whl size=85406 sha256=ce397a87a501cad5fbc6f0453d64790a6e0daabe2e7762e390067e17ef19097e\n",
      "  Stored in directory: /root/.cache/pip/wheels/3a/03/34/77e3ece0bba8b86bfac88a79f923b36d805cad63caeba38842\n",
      "Successfully built pyahocorasick\n",
      "Installing collected packages: anyascii, pyahocorasick, textsearch, contractions\n",
      "Successfully installed anyascii-0.2.0 contractions-0.0.52 pyahocorasick-1.4.2 textsearch-0.0.21\n"
     ]
    }
   ],
   "source": [
    "!pip install contractions"
   ]
  },
  {
   "cell_type": "code",
   "execution_count": null,
   "metadata": {
    "colab": {
     "base_uri": "https://localhost:8080/"
    },
    "executionInfo": {
     "elapsed": 18,
     "status": "ok",
     "timestamp": 1624017426336,
     "user": {
      "displayName": "NAKUL CHAMARIYA",
      "photoUrl": "",
      "userId": "06259338779627162060"
     },
     "user_tz": -330
    },
    "id": "0lIUPmqS8Q3z",
    "outputId": "fb6d95c0-edbb-41eb-b400-dff36633c5c5"
   },
   "outputs": [
    {
     "name": "stdout",
     "output_type": "stream",
     "text": [
      "{\"I'm\": 'I am', \"I'm'a\": 'I am about to', \"I'm'o\": 'I am going to', \"I've\": 'I have', \"I'll\": 'I will', \"I'll've\": 'I will have', \"I'd\": 'I would', \"I'd've\": 'I would have', 'Whatcha': 'What are you', \"amn't\": 'am not', \"ain't\": 'are not', \"aren't\": 'are not', \"'cause\": 'because', \"can't\": 'cannot', \"can't've\": 'cannot have', \"could've\": 'could have', \"couldn't\": 'could not', \"couldn't've\": 'could not have', \"daren't\": 'dare not', \"daresn't\": 'dare not', \"dasn't\": 'dare not', \"didn't\": 'did not', 'didn’t': 'did not', \"don't\": 'do not', 'don’t': 'do not', \"doesn't\": 'does not', \"e'er\": 'ever', \"everyone's\": 'everyone is', 'finna': 'fixing to', 'gimme': 'give me', \"gon't\": 'go not', 'gonna': 'going to', 'gotta': 'got to', \"hadn't\": 'had not', \"hadn't've\": 'had not have', \"hasn't\": 'has not', \"haven't\": 'have not', \"he've\": 'he have', \"he's\": 'he is', \"he'll\": 'he will', \"he'll've\": 'he will have', \"he'd\": 'he would', \"he'd've\": 'he would have', \"here's\": 'here is', \"how're\": 'how are', \"how'd\": 'how did', \"how'd'y\": 'how do you', \"how's\": 'how is', \"how'll\": 'how will', \"isn't\": 'is not', \"it's\": 'it is', \"'tis\": 'it is', \"'twas\": 'it was', \"it'll\": 'it will', \"it'll've\": 'it will have', \"it'd\": 'it would', \"it'd've\": 'it would have', 'kinda': 'kind of', \"let's\": 'let us', 'luv': 'love', \"ma'am\": 'madam', \"may've\": 'may have', \"mayn't\": 'may not', \"might've\": 'might have', \"mightn't\": 'might not', \"mightn't've\": 'might not have', \"must've\": 'must have', \"mustn't\": 'must not', \"mustn't've\": 'must not have', \"needn't\": 'need not', \"needn't've\": 'need not have', \"ne'er\": 'never', \"o'\": 'of', \"o'clock\": 'of the clock', \"ol'\": 'old', \"oughtn't\": 'ought not', \"oughtn't've\": 'ought not have', \"o'er\": 'over', \"shan't\": 'shall not', \"sha'n't\": 'shall not', \"shalln't\": 'shall not', \"shan't've\": 'shall not have', \"she's\": 'she is', \"she'll\": 'she will', \"she'd\": 'she would', \"she'd've\": 'she would have', \"should've\": 'should have', \"shouldn't\": 'should not', \"shouldn't've\": 'should not have', \"so've\": 'so have', \"so's\": 'so is', \"somebody's\": 'somebody is', \"someone's\": 'someone is', \"something's\": 'something is', 'sux': 'sucks', \"that're\": 'that are', \"that's\": 'that is', \"that'll\": 'that will', \"that'd\": 'that would', \"that'd've\": 'that would have', 'em': 'them', \"there're\": 'there are', \"there's\": 'there is', \"there'll\": 'there will', \"there'd\": 'there would', \"there'd've\": 'there would have', \"these're\": 'these are', \"they're\": 'they are', \"they've\": 'they have', \"they'll\": 'they will', \"they'll've\": 'they will have', \"they'd\": 'they would', \"they'd've\": 'they would have', \"this's\": 'this is', \"those're\": 'those are', \"to've\": 'to have', 'wanna': 'want to', \"wasn't\": 'was not', \"we're\": 'we are', \"we've\": 'we have', \"we'll\": 'we will', \"we'll've\": 'we will have', \"we'd\": 'we would', \"we'd've\": 'we would have', \"weren't\": 'were not', \"what're\": 'what are', \"what'd\": 'what did', \"what've\": 'what have', \"what's\": 'what is', \"what'll\": 'what will', \"what'll've\": 'what will have', \"when've\": 'when have', \"when's\": 'when is', \"where're\": 'where are', \"where'd\": 'where did', \"where've\": 'where have', \"where's\": 'where is', \"which's\": 'which is', \"who're\": 'who are', \"who've\": 'who have', \"who's\": 'who is', \"who'll\": 'who will', \"who'll've\": 'who will have', \"who'd\": 'who would', \"who'd've\": 'who would have', \"why're\": 'why are', \"why'd\": 'why did', \"why've\": 'why have', \"why's\": 'why is', \"will've\": 'will have', \"won't\": 'will not', \"won't've\": 'will not have', \"would've\": 'would have', \"wouldn't\": 'would not', \"wouldn't've\": 'would not have', \"y'all\": 'you all', \"y'all're\": 'you all are', \"y'all've\": 'you all have', \"y'all'd\": 'you all would', \"y'all'd've\": 'you all would have', \"you're\": 'you are', \"you've\": 'you have', \"you'll've\": 'you shall have', \"you'll\": 'you will', \"you'd\": 'you would', \"you'd've\": 'you would have', 'jan.': 'january', 'feb.': 'february', 'mar.': 'march', 'apr.': 'april', 'jun.': 'june', 'jul.': 'july', 'aug.': 'august', 'sep.': 'september', 'oct.': 'october', 'nov.': 'november', 'dec.': 'december', 'I’m': 'I am', 'I’m’a': 'I am about to', 'I’m’o': 'I am going to', 'I’ve': 'I have', 'I’ll': 'I will', 'I’ll’ve': 'I will have', 'I’d': 'I would', 'I’d’ve': 'I would have', 'amn’t': 'am not', 'ain’t': 'are not', 'aren’t': 'are not', '’cause': 'because', 'can’t': 'cannot', 'can’t’ve': 'cannot have', 'could’ve': 'could have', 'couldn’t': 'could not', 'couldn’t’ve': 'could not have', 'daren’t': 'dare not', 'daresn’t': 'dare not', 'dasn’t': 'dare not', 'doesn’t': 'does not', 'e’er': 'ever', 'everyone’s': 'everyone is', 'gon’t': 'go not', 'hadn’t': 'had not', 'hadn’t’ve': 'had not have', 'hasn’t': 'has not', 'haven’t': 'have not', 'he’ve': 'he have', 'he’s': 'he is', 'he’ll': 'he will', 'he’ll’ve': 'he will have', 'he’d': 'he would', 'he’d’ve': 'he would have', 'here’s': 'here is', 'how’re': 'how are', 'how’d': 'how did', 'how’d’y': 'how do you', 'how’s': 'how is', 'how’ll': 'how will', 'isn’t': 'is not', 'it’s': 'it is', '’tis': 'it is', '’twas': 'it was', 'it’ll': 'it will', 'it’ll’ve': 'it will have', 'it’d': 'it would', 'it’d’ve': 'it would have', 'let’s': 'let us', 'ma’am': 'madam', 'may’ve': 'may have', 'mayn’t': 'may not', 'might’ve': 'might have', 'mightn’t': 'might not', 'mightn’t’ve': 'might not have', 'must’ve': 'must have', 'mustn’t': 'must not', 'mustn’t’ve': 'must not have', 'needn’t': 'need not', 'needn’t’ve': 'need not have', 'ne’er': 'never', 'o’': 'of', 'o’clock': 'of the clock', 'ol’': 'old', 'oughtn’t': 'ought not', 'oughtn’t’ve': 'ought not have', 'o’er': 'over', 'shan’t': 'shall not', 'sha’n’t': 'shall not', 'shalln’t': 'shall not', 'shan’t’ve': 'shall not have', 'she’s': 'she is', 'she’ll': 'she will', 'she’d': 'she would', 'she’d’ve': 'she would have', 'should’ve': 'should have', 'shouldn’t': 'should not', 'shouldn’t’ve': 'should not have', 'so’ve': 'so have', 'so’s': 'so is', 'somebody’s': 'somebody is', 'someone’s': 'someone is', 'something’s': 'something is', 'that’re': 'that are', 'that’s': 'that is', 'that’ll': 'that will', 'that’d': 'that would', 'that’d’ve': 'that would have', 'there’re': 'there are', 'there’s': 'there is', 'there’ll': 'there will', 'there’d': 'there would', 'there’d’ve': 'there would have', 'these’re': 'these are', 'they’re': 'they are', 'they’ve': 'they have', 'they’ll': 'they will', 'they’ll’ve': 'they will have', 'they’d': 'they would', 'they’d’ve': 'they would have', 'this’s': 'this is', 'those’re': 'those are', 'to’ve': 'to have', 'wasn’t': 'was not', 'we’re': 'we are', 'we’ve': 'we have', 'we’ll': 'we will', 'we’ll’ve': 'we will have', 'we’d': 'we would', 'we’d’ve': 'we would have', 'weren’t': 'were not', 'what’re': 'what are', 'what’d': 'what did', 'what’ve': 'what have', 'what’s': 'what is', 'what’ll': 'what will', 'what’ll’ve': 'what will have', 'when’ve': 'when have', 'when’s': 'when is', 'where’re': 'where are', 'where’d': 'where did', 'where’ve': 'where have', 'where’s': 'where is', 'which’s': 'which is', 'who’re': 'who are', 'who’ve': 'who have', 'who’s': 'who is', 'who’ll': 'who will', 'who’ll’ve': 'who will have', 'who’d': 'who would', 'who’d’ve': 'who would have', 'why’re': 'why are', 'why’d': 'why did', 'why’ve': 'why have', 'why’s': 'why is', 'will’ve': 'will have', 'won’t': 'will not', 'won’t’ve': 'will not have', 'would’ve': 'would have', 'wouldn’t': 'would not', 'wouldn’t’ve': 'would not have', 'y’all': 'you all', 'y’all’re': 'you all are', 'y’all’ve': 'you all have', 'y’all’d': 'you all would', 'y’all’d’ve': 'you all would have', 'you’re': 'you are', 'you’ve': 'you have', 'you’ll’ve': 'you shall have', 'you’ll': 'you will', 'you’d': 'you would', 'you’d’ve': 'you would have'}\n"
     ]
    }
   ],
   "source": [
    "import contractions\n",
    "print(contractions.contractions_dict)"
   ]
  },
  {
   "cell_type": "code",
   "execution_count": null,
   "metadata": {
    "id": "qfL5BWiqyCYI"
   },
   "outputs": [],
   "source": [
    "import string\n",
    "import contractions\n",
    "\n",
    "def text_preprocess(s):\n",
    "  s = contractions.fix(s)\n",
    "  s = s.lower()\n",
    "  s = s.rstrip()\n",
    "  s = s.lstrip()\n",
    "\n",
    "  text = \"\"\n",
    "  for ch in s:\n",
    "    if ch not in string.punctuation:\n",
    "      text = text + ch\n",
    "  return text\n",
    "\n",
    "\n",
    "for i in range(len(X)):\n",
    "  X[i] = text_preprocess(X[i])\n",
    "\n",
    "for i in range(len(y)):\n",
    "  y[i] = text_preprocess(y[i])"
   ]
  },
  {
   "cell_type": "code",
   "execution_count": null,
   "metadata": {
    "colab": {
     "base_uri": "https://localhost:8080/"
    },
    "executionInfo": {
     "elapsed": 360,
     "status": "ok",
     "timestamp": 1624017455652,
     "user": {
      "displayName": "NAKUL CHAMARIYA",
      "photoUrl": "",
      "userId": "06259338779627162060"
     },
     "user_tz": -330
    },
    "id": "vveD4o5jy9Cm",
    "outputId": "353cfc4e-7fbf-4b12-f6fb-ad4d07c80139"
   },
   "outputs": [
    {
     "name": "stdout",
     "output_type": "stream",
     "text": [
      "hello he said and went i have\n"
     ]
    }
   ],
   "source": [
    "print(text_preprocess(\"  Hello!!!, he said ---and went. i've \"))"
   ]
  },
  {
   "cell_type": "code",
   "execution_count": null,
   "metadata": {
    "colab": {
     "base_uri": "https://localhost:8080/"
    },
    "executionInfo": {
     "elapsed": 14,
     "status": "ok",
     "timestamp": 1624002293724,
     "user": {
      "displayName": "NAKUL CHAMARIYA",
      "photoUrl": "",
      "userId": "06259338779627162060"
     },
     "user_tz": -330
    },
    "id": "ECmgFB-km4Qt",
    "outputId": "2c25552b-8afd-41d0-9113-d44ec6341182"
   },
   "outputs": [
    {
     "name": "stdout",
     "output_type": "stream",
     "text": [
      "who are we\n",
      "\n",
      "wer sind wir\n"
     ]
    }
   ],
   "source": [
    "num = 2000\n",
    "\n",
    "print(X[num])\n",
    "print()\n",
    "print(y[num])"
   ]
  },
  {
   "cell_type": "code",
   "execution_count": null,
   "metadata": {
    "id": "XZOH6Cq7ph0s"
   },
   "outputs": [],
   "source": [
    "#check total no of usinque tages and words\n",
    "num_words_eng = len(set([word.lower() for sent in X for word in sent]))\n",
    "num_words_ger = len(set([word.lower() for sent in y for word in sent]))"
   ]
  },
  {
   "cell_type": "code",
   "execution_count": null,
   "metadata": {
    "colab": {
     "base_uri": "https://localhost:8080/"
    },
    "executionInfo": {
     "elapsed": 23,
     "status": "ok",
     "timestamp": 1624002294807,
     "user": {
      "displayName": "NAKUL CHAMARIYA",
      "photoUrl": "",
      "userId": "06259338779627162060"
     },
     "user_tz": -330
    },
    "id": "wYTt0GOrph3g",
    "outputId": "35d1a875-e8bb-43fb-880b-cc1ee2ef35de"
   },
   "outputs": [
    {
     "name": "stdout",
     "output_type": "stream",
     "text": [
      "Total unique characters for English : 40\n",
      "Total unique characters for German 52\n"
     ]
    }
   ],
   "source": [
    "print('Total unique characters for English :',num_words_eng)\n",
    "print('Total unique characters for German',num_words_ger)"
   ]
  },
  {
   "cell_type": "code",
   "execution_count": null,
   "metadata": {
    "id": "UB9ohpkOqlOj"
   },
   "outputs": [],
   "source": [
    "from sklearn.model_selection import train_test_split\n",
    "X_train,X_test,y_train,y_test = train_test_split(X, y, test_size=0.20, random_state=101)"
   ]
  },
  {
   "cell_type": "code",
   "execution_count": null,
   "metadata": {
    "colab": {
     "base_uri": "https://localhost:8080/"
    },
    "executionInfo": {
     "elapsed": 405,
     "status": "ok",
     "timestamp": 1624002295880,
     "user": {
      "displayName": "NAKUL CHAMARIYA",
      "photoUrl": "",
      "userId": "06259338779627162060"
     },
     "user_tz": -330
    },
    "id": "KAjh4rx2vI9D",
    "outputId": "3c07f7ba-1be3-4ea2-83ab-891e12fd218f"
   },
   "outputs": [
    {
     "name": "stdout",
     "output_type": "stream",
     "text": [
      "(40000,) (10000,)\n",
      "(40000,) (10000,)\n"
     ]
    }
   ],
   "source": [
    "print(X_train.shape,X_test.shape)\n",
    "print(y_train.shape,y_test.shape)"
   ]
  },
  {
   "cell_type": "code",
   "execution_count": null,
   "metadata": {
    "colab": {
     "base_uri": "https://localhost:8080/"
    },
    "executionInfo": {
     "elapsed": 865,
     "status": "ok",
     "timestamp": 1624002296740,
     "user": {
      "displayName": "NAKUL CHAMARIYA",
      "photoUrl": "",
      "userId": "06259338779627162060"
     },
     "user_tz": -330
    },
    "id": "t_Sx4HEdrdew",
    "outputId": "581983e4-14a5-4440-e2c3-66d7527cb163"
   },
   "outputs": [
    {
     "name": "stdout",
     "output_type": "stream",
     "text": [
      "2.5.0\n"
     ]
    }
   ],
   "source": [
    "import tensorflow as tf\n",
    "print(tf.__version__)"
   ]
  },
  {
   "cell_type": "code",
   "execution_count": null,
   "metadata": {
    "id": "jjqXjRD_ph6l"
   },
   "outputs": [],
   "source": [
    "from tensorflow.keras.preprocessing.text import Tokenizer\n",
    "\n",
    "word_tokenizer = tf.keras.preprocessing.text.Tokenizer(\n",
    "    num_words=None,\n",
    "    filters='',  # '!\"#$%&()*+,-./:;<=>?@[\\\\]^_`{|}~\\t\\n'\n",
    "    lower=True, split=' ', char_level=True, oov_token=\"<OOV>\"\n",
    ")\n",
    "\n",
    "word_tokenizer.fit_on_texts(X_train)\n",
    "\n",
    "train_text = word_tokenizer.texts_to_sequences(X_train)\n",
    "test_text = word_tokenizer.texts_to_sequences(X_test)"
   ]
  },
  {
   "cell_type": "code",
   "execution_count": null,
   "metadata": {
    "colab": {
     "base_uri": "https://localhost:8080/"
    },
    "executionInfo": {
     "elapsed": 10,
     "status": "ok",
     "timestamp": 1624002297962,
     "user": {
      "displayName": "NAKUL CHAMARIYA",
      "photoUrl": "",
      "userId": "06259338779627162060"
     },
     "user_tz": -330
    },
    "id": "bu7EfxMBvtwj",
    "outputId": "9b37d6e5-d6a7-44bd-bd89-257fbe8bdb63"
   },
   "outputs": [
    {
     "name": "stdout",
     "output_type": "stream",
     "text": [
      "is monday ok\n",
      "[6, 8, 2, 12, 5, 9, 14, 7, 15, 2, 5, 20]\n",
      "\n",
      "12\n",
      "12\n"
     ]
    }
   ],
   "source": [
    "num = 0\n",
    "print(X_train[num])\n",
    "print(train_text[num])\n",
    "print()\n",
    "print(len(X_train[num]))\n",
    "print(len(train_text[num]))"
   ]
  },
  {
   "cell_type": "code",
   "execution_count": null,
   "metadata": {
    "colab": {
     "base_uri": "https://localhost:8080/"
    },
    "executionInfo": {
     "elapsed": 12,
     "status": "ok",
     "timestamp": 1624002314337,
     "user": {
      "displayName": "NAKUL CHAMARIYA",
      "photoUrl": "",
      "userId": "06259338779627162060"
     },
     "user_tz": -330
    },
    "id": "YCr3kKC-1IrE",
    "outputId": "e9c28999-bbc0-424f-c76d-b48c0274eb57"
   },
   "outputs": [
    {
     "data": {
      "text/plain": [
       "{' ': 2,\n",
       " '0': 29,\n",
       " '1': 31,\n",
       " '2': 32,\n",
       " '3': 30,\n",
       " '4': 37,\n",
       " '5': 33,\n",
       " '6': 36,\n",
       " '7': 38,\n",
       " '8': 35,\n",
       " '9': 34,\n",
       " '<OOV>': 1,\n",
       " 'a': 7,\n",
       " 'b': 22,\n",
       " 'c': 19,\n",
       " 'd': 14,\n",
       " 'e': 3,\n",
       " 'f': 24,\n",
       " 'g': 18,\n",
       " 'h': 11,\n",
       " 'i': 6,\n",
       " 'j': 25,\n",
       " 'k': 20,\n",
       " 'l': 13,\n",
       " 'm': 12,\n",
       " 'n': 9,\n",
       " 'o': 5,\n",
       " 'p': 21,\n",
       " 'q': 28,\n",
       " 'r': 10,\n",
       " 's': 8,\n",
       " 't': 4,\n",
       " 'u': 16,\n",
       " 'v': 23,\n",
       " 'w': 17,\n",
       " 'x': 26,\n",
       " 'y': 15,\n",
       " 'z': 27,\n",
       " 'é': 39,\n",
       " '€': 40}"
      ]
     },
     "execution_count": 16,
     "metadata": {
      "tags": []
     },
     "output_type": "execute_result"
    }
   ],
   "source": [
    "word_tokenizer.word_index"
   ]
  },
  {
   "cell_type": "code",
   "execution_count": null,
   "metadata": {
    "id": "7QRQU_xOr793"
   },
   "outputs": [],
   "source": [
    "tag_tokenizer = tf.keras.preprocessing.text.Tokenizer(\n",
    "    num_words=None,\n",
    "    filters='',  # '!\"#$%&()*+,-./:;<=>?@[\\\\]^_`{|}~\\t\\n'\n",
    "    lower=True, split=' ', char_level=True, oov_token=\"<OOV>\"\n",
    ")\n",
    "\n",
    "tag_tokenizer.fit_on_texts(y_train)\n",
    "\n",
    "train_label = tag_tokenizer.texts_to_sequences(y_train)\n",
    "test_label = tag_tokenizer.texts_to_sequences(y_test)"
   ]
  },
  {
   "cell_type": "code",
   "execution_count": null,
   "metadata": {
    "colab": {
     "base_uri": "https://localhost:8080/"
    },
    "executionInfo": {
     "elapsed": 16,
     "status": "ok",
     "timestamp": 1624002318178,
     "user": {
      "displayName": "NAKUL CHAMARIYA",
      "photoUrl": "",
      "userId": "06259338779627162060"
     },
     "user_tz": -330
    },
    "id": "bDoV96YD06i2",
    "outputId": "8070c7b6-da34-4e80-f683-8417db70f442"
   },
   "outputs": [
    {
     "name": "stdout",
     "output_type": "stream",
     "text": [
      "ist montag in ordnung\n",
      "[4, 7, 6, 2, 12, 15, 5, 6, 10, 17, 2, 4, 5, 2, 15, 9, 13, 5, 14, 5, 17]\n",
      "\n",
      "21\n",
      "21\n"
     ]
    }
   ],
   "source": [
    "num = 0\n",
    "print(y_train[num])\n",
    "print(train_label[num])\n",
    "print()\n",
    "print(len(y_train[num]))\n",
    "print(len(train_label[num]))"
   ]
  },
  {
   "cell_type": "code",
   "execution_count": null,
   "metadata": {
    "colab": {
     "base_uri": "https://localhost:8080/"
    },
    "executionInfo": {
     "elapsed": 12,
     "status": "ok",
     "timestamp": 1624002318672,
     "user": {
      "displayName": "NAKUL CHAMARIYA",
      "photoUrl": "",
      "userId": "06259338779627162060"
     },
     "user_tz": -330
    },
    "id": "wFxjjv5E36L2",
    "outputId": "d62ff9ec-2a88-4540-d32b-61cb4218fe3d"
   },
   "outputs": [
    {
     "name": "stdout",
     "output_type": "stream",
     "text": [
      "52\n",
      "1\n"
     ]
    }
   ],
   "source": [
    "max_key = max(tag_tokenizer.word_index, key=tag_tokenizer.word_index.get)\n",
    "min_key = min(tag_tokenizer.word_index, key=tag_tokenizer.word_index.get)\n",
    "\n",
    "print(tag_tokenizer.word_index[max_key])\n",
    "print(tag_tokenizer.word_index[min_key])"
   ]
  },
  {
   "cell_type": "code",
   "execution_count": null,
   "metadata": {
    "id": "pKvipgqu1PDV"
   },
   "outputs": [],
   "source": [
    "for i in range(len(train_label)):\n",
    "  train_label[i].insert(0,53)\n",
    "  train_label[i].append(54)\n",
    "\n",
    "for i in range(len(test_label)):\n",
    "  test_label[i].insert(0,53)\n",
    "  test_label[i].append(54)"
   ]
  },
  {
   "cell_type": "code",
   "execution_count": null,
   "metadata": {
    "colab": {
     "base_uri": "https://localhost:8080/"
    },
    "executionInfo": {
     "elapsed": 14,
     "status": "ok",
     "timestamp": 1624002319415,
     "user": {
      "displayName": "NAKUL CHAMARIYA",
      "photoUrl": "",
      "userId": "06259338779627162060"
     },
     "user_tz": -330
    },
    "id": "HHDxvxF5tQkg",
    "outputId": "5d87bd8c-35a0-40d6-8d58-74b966799fcd"
   },
   "outputs": [
    {
     "name": "stdout",
     "output_type": "stream",
     "text": [
      "Longest sentence length =  21\n"
     ]
    }
   ],
   "source": [
    "lengths = [len(seq) for seq in train_text]\n",
    "print('Longest sentence length = ',max(lengths))"
   ]
  },
  {
   "cell_type": "code",
   "execution_count": null,
   "metadata": {
    "colab": {
     "base_uri": "https://localhost:8080/",
     "height": 320
    },
    "executionInfo": {
     "elapsed": 15,
     "status": "ok",
     "timestamp": 1624002320010,
     "user": {
      "displayName": "NAKUL CHAMARIYA",
      "photoUrl": "",
      "userId": "06259338779627162060"
     },
     "user_tz": -330
    },
    "id": "YDyDo-IptQoX",
    "outputId": "60b62e32-fd3c-42fd-8dde-87d552cc6954"
   },
   "outputs": [
    {
     "name": "stderr",
     "output_type": "stream",
     "text": [
      "/usr/local/lib/python3.7/dist-packages/seaborn/_decorators.py:43: FutureWarning: Pass the following variable as a keyword arg: x. From version 0.12, the only valid positional argument will be `data`, and passing other arguments without an explicit keyword will result in an error or misinterpretation.\n",
      "  FutureWarning\n"
     ]
    },
    {
     "data": {
      "image/png": "[encoded data removed]",
      "text/plain": [
       "<Figure size 432x288 with 1 Axes>"
      ]
     },
     "metadata": {
      "needs_background": "light",
      "tags": []
     },
     "output_type": "display_data"
    }
   ],
   "source": [
    "import matplotlib.pyplot as plt\n",
    "import seaborn as sns\n",
    "\n",
    "sns.boxplot(lengths)\n",
    "plt.show()"
   ]
  },
  {
   "cell_type": "code",
   "execution_count": null,
   "metadata": {
    "id": "qrzo1mCts-lX"
   },
   "outputs": [],
   "source": [
    "from tensorflow.keras.preprocessing.sequence import pad_sequences\n",
    "\n",
    "max_len = 21\n",
    "\n",
    "X_train = tf.keras.preprocessing.sequence.pad_sequences(\n",
    "    train_text, maxlen = max_len, padding = 'pre',\n",
    "    truncating='post', value=0.0\n",
    ")\n",
    "\n",
    "X_test = tf.keras.preprocessing.sequence.pad_sequences(\n",
    "    test_text, maxlen = X_train.shape[1], dtype = 'int32', padding='pre',\n",
    "    truncating='post', value=0.0\n",
    ")\n"
   ]
  },
  {
   "cell_type": "code",
   "execution_count": null,
   "metadata": {
    "colab": {
     "base_uri": "https://localhost:8080/"
    },
    "executionInfo": {
     "elapsed": 6,
     "status": "ok",
     "timestamp": 1624002321565,
     "user": {
      "displayName": "NAKUL CHAMARIYA",
      "photoUrl": "",
      "userId": "06259338779627162060"
     },
     "user_tz": -330
    },
    "id": "PpeyU5C61xhp",
    "outputId": "db7868a7-8f85-4765-cd2a-2c916ce7a4ac"
   },
   "outputs": [
    {
     "name": "stdout",
     "output_type": "stream",
     "text": [
      "Longest sentence length =  120\n"
     ]
    }
   ],
   "source": [
    "lengths = [len(seq) for seq in train_label]\n",
    "print('Longest sentence length = ',max(lengths))"
   ]
  },
  {
   "cell_type": "code",
   "execution_count": null,
   "metadata": {
    "id": "kWvmlQ_o7CJJ"
   },
   "outputs": [],
   "source": [
    "max_len = 120\n",
    "\n",
    "y_train = tf.keras.preprocessing.sequence.pad_sequences(\n",
    "    train_label, maxlen = max_len, padding = 'post',\n",
    "    truncating='pre', value=0.0\n",
    ")\n",
    "\n",
    "y_test = tf.keras.preprocessing.sequence.pad_sequences(\n",
    "    test_label, maxlen = y_train.shape[1], dtype = 'int32', padding='post',\n",
    "    truncating='pre', value=0.0\n",
    ")\n"
   ]
  },
  {
   "cell_type": "code",
   "execution_count": null,
   "metadata": {
    "colab": {
     "base_uri": "https://localhost:8080/"
    },
    "executionInfo": {
     "elapsed": 8,
     "status": "ok",
     "timestamp": 1624002322488,
     "user": {
      "displayName": "NAKUL CHAMARIYA",
      "photoUrl": "",
      "userId": "06259338779627162060"
     },
     "user_tz": -330
    },
    "id": "TMRW0KXPs-oo",
    "outputId": "3da6dcc1-1ad4-4e39-bbf6-0df2dd1aa2e6"
   },
   "outputs": [
    {
     "name": "stdout",
     "output_type": "stream",
     "text": [
      "(40000, 21) (10000, 21)\n",
      "(40000, 120) (10000, 120)\n"
     ]
    }
   ],
   "source": [
    "print(X_train.shape,X_test.shape)\n",
    "print(y_train.shape,y_test.shape)"
   ]
  },
  {
   "cell_type": "code",
   "execution_count": null,
   "metadata": {
    "colab": {
     "base_uri": "https://localhost:8080/"
    },
    "executionInfo": {
     "elapsed": 16,
     "status": "ok",
     "timestamp": 1624002322916,
     "user": {
      "displayName": "NAKUL CHAMARIYA",
      "photoUrl": "",
      "userId": "06259338779627162060"
     },
     "user_tz": -330
    },
    "id": "825S5-YPZ0de",
    "outputId": "578b29d1-dadd-476d-d2e0-fac37eca44a6"
   },
   "outputs": [
    {
     "data": {
      "text/plain": [
       "array([53,  4,  7,  6,  2, 12, 15,  5,  6, 10, 17,  2,  4,  5,  2, 15,  9,\n",
       "       13,  5, 14,  5, 17, 54,  0,  0,  0,  0,  0,  0,  0,  0,  0,  0,  0,\n",
       "        0,  0,  0,  0,  0,  0,  0,  0,  0,  0,  0,  0,  0,  0,  0,  0,  0,\n",
       "        0,  0,  0,  0,  0,  0,  0,  0,  0,  0,  0,  0,  0,  0,  0,  0,  0,\n",
       "        0,  0,  0,  0,  0,  0,  0,  0,  0,  0,  0,  0,  0,  0,  0,  0,  0,\n",
       "        0,  0,  0,  0,  0,  0,  0,  0,  0,  0,  0,  0,  0,  0,  0,  0,  0,\n",
       "        0,  0,  0,  0,  0,  0,  0,  0,  0,  0,  0,  0,  0,  0,  0,  0,  0,\n",
       "        0], dtype=int32)"
      ]
     },
     "execution_count": 27,
     "metadata": {
      "tags": []
     },
     "output_type": "execute_result"
    }
   ],
   "source": [
    "y_train[0]"
   ]
  },
  {
   "cell_type": "code",
   "execution_count": null,
   "metadata": {
    "id": "NYcgihKbK6Tf"
   },
   "outputs": [],
   "source": [
    "decoder_train = []\n",
    "decoder_test = []\n",
    "\n",
    "for i in range(len(y_train)):\n",
    "  decoder_train.append(y_train[i][1:].tolist())\n",
    "  decoder_train[i].append(0)\n",
    "decoder_train = np.array(decoder_train)\n",
    "\n",
    "for i in range(len(y_test)):\n",
    "  decoder_test.append(y_test[i][1:].tolist())\n",
    "  decoder_test[i].append(0)\n",
    "decoder_test = np.array(decoder_test)"
   ]
  },
  {
   "cell_type": "code",
   "execution_count": null,
   "metadata": {
    "colab": {
     "base_uri": "https://localhost:8080/"
    },
    "executionInfo": {
     "elapsed": 22,
     "status": "ok",
     "timestamp": 1624002324546,
     "user": {
      "displayName": "NAKUL CHAMARIYA",
      "photoUrl": "",
      "userId": "06259338779627162060"
     },
     "user_tz": -330
    },
    "id": "niAqkFcwOSTb",
    "outputId": "0460d256-3dda-4247-8173-661e5fecae8a"
   },
   "outputs": [
    {
     "name": "stdout",
     "output_type": "stream",
     "text": [
      "[19  3  4 28  2  6 15 12  2 13 10  7 54  0  0  0  0  0  0  0  0  0  0  0\n",
      "  0  0  0  0  0  0  0  0  0  0  0  0  0  0  0  0  0  0  0  0  0  0  0  0\n",
      "  0  0  0  0  0  0  0  0  0  0  0  0  0  0  0  0  0  0  0  0  0  0  0  0\n",
      "  0  0  0  0  0  0  0  0  0  0  0  0  0  0  0  0  0  0  0  0  0  0  0  0\n",
      "  0  0  0  0  0  0  0  0  0  0  0  0  0  0  0  0  0  0  0  0  0  0  0  0]\n",
      "\n",
      "[53 19  3  4 28  2  6 15 12  2 13 10  7 54  0  0  0  0  0  0  0  0  0  0\n",
      "  0  0  0  0  0  0  0  0  0  0  0  0  0  0  0  0  0  0  0  0  0  0  0  0\n",
      "  0  0  0  0  0  0  0  0  0  0  0  0  0  0  0  0  0  0  0  0  0  0  0  0\n",
      "  0  0  0  0  0  0  0  0  0  0  0  0  0  0  0  0  0  0  0  0  0  0  0  0\n",
      "  0  0  0  0  0  0  0  0  0  0  0  0  0  0  0  0  0  0  0  0  0  0  0  0]\n"
     ]
    }
   ],
   "source": [
    "num = 101\n",
    "\n",
    "print(decoder_test[num])\n",
    "print()\n",
    "print(y_test[num])"
   ]
  },
  {
   "cell_type": "code",
   "execution_count": null,
   "metadata": {
    "colab": {
     "base_uri": "https://localhost:8080/"
    },
    "executionInfo": {
     "elapsed": 18,
     "status": "ok",
     "timestamp": 1624002324547,
     "user": {
      "displayName": "NAKUL CHAMARIYA",
      "photoUrl": "",
      "userId": "06259338779627162060"
     },
     "user_tz": -330
    },
    "id": "M1a3m2g6L2XG",
    "outputId": "57656d6a-6c90-4cad-c674-57f8198eb3c1"
   },
   "outputs": [
    {
     "name": "stdout",
     "output_type": "stream",
     "text": [
      "(40000, 120) (10000, 120)\n",
      "(40000, 120) (10000, 120)\n"
     ]
    }
   ],
   "source": [
    "print(decoder_train.shape,decoder_test.shape)\n",
    "print(y_train.shape,y_test.shape)"
   ]
  },
  {
   "cell_type": "code",
   "execution_count": null,
   "metadata": {
    "colab": {
     "base_uri": "https://localhost:8080/"
    },
    "executionInfo": {
     "elapsed": 3429,
     "status": "ok",
     "timestamp": 1624002335591,
     "user": {
      "displayName": "NAKUL CHAMARIYA",
      "photoUrl": "",
      "userId": "06259338779627162060"
     },
     "user_tz": -330
    },
    "id": "gdGKZrEqcIK1",
    "outputId": "b438aa9c-e054-41fd-ad19-054b91e9cf1d"
   },
   "outputs": [
    {
     "name": "stdout",
     "output_type": "stream",
     "text": [
      "Collecting scikit-plot\n",
      "  Downloading https://files.pythonhosted.org/packages/7c/47/32520e259340c140a4ad27c1b97050dd3254fdc517b1d59974d47037510e/scikit_plot-0.3.7-py3-none-any.whl\n",
      "Requirement already satisfied: scikit-learn>=0.18 in /usr/local/lib/python3.7/dist-packages (from scikit-plot) (0.22.2.post1)\n",
      "Requirement already satisfied: scipy>=0.9 in /usr/local/lib/python3.7/dist-packages (from scikit-plot) (1.4.1)\n",
      "Requirement already satisfied: joblib>=0.10 in /usr/local/lib/python3.7/dist-packages (from scikit-plot) (1.0.1)\n",
      "Requirement already satisfied: matplotlib>=1.4.0 in /usr/local/lib/python3.7/dist-packages (from scikit-plot) (3.2.2)\n",
      "Requirement already satisfied: numpy>=1.11.0 in /usr/local/lib/python3.7/dist-packages (from scikit-learn>=0.18->scikit-plot) (1.19.5)\n",
      "Requirement already satisfied: pyparsing!=2.0.4,!=2.1.2,!=2.1.6,>=2.0.1 in /usr/local/lib/python3.7/dist-packages (from matplotlib>=1.4.0->scikit-plot) (2.4.7)\n",
      "Requirement already satisfied: python-dateutil>=2.1 in /usr/local/lib/python3.7/dist-packages (from matplotlib>=1.4.0->scikit-plot) (2.8.1)\n",
      "Requirement already satisfied: cycler>=0.10 in /usr/local/lib/python3.7/dist-packages (from matplotlib>=1.4.0->scikit-plot) (0.10.0)\n",
      "Requirement already satisfied: kiwisolver>=1.0.1 in /usr/local/lib/python3.7/dist-packages (from matplotlib>=1.4.0->scikit-plot) (1.3.1)\n",
      "Requirement already satisfied: six>=1.5 in /usr/local/lib/python3.7/dist-packages (from python-dateutil>=2.1->matplotlib>=1.4.0->scikit-plot) (1.15.0)\n",
      "Installing collected packages: scikit-plot\n",
      "Successfully installed scikit-plot-0.3.7\n"
     ]
    }
   ],
   "source": [
    "!pip install scikit-plot"
   ]
  },
  {
   "cell_type": "code",
   "execution_count": null,
   "metadata": {
    "id": "9gq2XjjlhWbH"
   },
   "outputs": [],
   "source": [
    "#Importing the required libraries\n",
    "import numpy as np\n",
    "import warnings\n",
    "warnings.filterwarnings(\"ignore\")\n",
    "\n",
    "import scikitplot as skplt\n",
    "from sklearn.metrics import classification_report,confusion_matrix,balanced_accuracy_score"
   ]
  },
  {
   "cell_type": "code",
   "execution_count": null,
   "metadata": {
    "colab": {
     "base_uri": "https://localhost:8080/"
    },
    "executionInfo": {
     "elapsed": 634,
     "status": "ok",
     "timestamp": 1624002338757,
     "user": {
      "displayName": "NAKUL CHAMARIYA",
      "photoUrl": "",
      "userId": "06259338779627162060"
     },
     "user_tz": -330
    },
    "id": "-QpVzI-0ZWT3",
    "outputId": "84338326-8ca4-4116-c2ba-973d0b1647f5"
   },
   "outputs": [
    {
     "data": {
      "text/plain": [
       "array([ 0,  2,  3,  4,  5,  6,  7,  8,  9, 10, 11, 12, 13, 14, 15, 16, 17,\n",
       "       18, 19, 20, 21, 22, 23, 24, 25, 26, 27, 28, 29, 30, 31, 32, 33, 34,\n",
       "       35, 36, 37, 38, 39, 40, 41, 42, 43, 44, 45, 46, 47, 48, 49, 50, 51,\n",
       "       52, 53, 54], dtype=int32)"
      ]
     },
     "execution_count": 33,
     "metadata": {
      "tags": []
     },
     "output_type": "execute_result"
    }
   ],
   "source": [
    "import numpy as np\n",
    "np.unique(y_train)"
   ]
  },
  {
   "cell_type": "code",
   "execution_count": null,
   "metadata": {
    "id": "KNXr0Aec8A32"
   },
   "outputs": [],
   "source": [
    "output_vec = 300\n",
    "vocab_size = len(word_tokenizer.word_index) + 1\n",
    "max_len = 21"
   ]
  },
  {
   "cell_type": "code",
   "execution_count": null,
   "metadata": {
    "id": "Np046m3q7ioR"
   },
   "outputs": [],
   "source": [
    "encoder_inputs_placeholder = tf.keras.layers.Input(shape=(max_len,))\n",
    "x = tf.keras.layers.Embedding(input_dim = vocab_size, output_dim = output_vec)(encoder_inputs_placeholder)\n",
    "encoder = tf.keras.layers.LSTM(256, return_state=True)\n",
    "\n",
    "encoder_outputs, h, c = encoder(x)\n",
    "encoder_states = [h, c]"
   ]
  },
  {
   "cell_type": "code",
   "execution_count": null,
   "metadata": {
    "id": "jD4OuzxIaH77"
   },
   "outputs": [],
   "source": [
    "output_vec = 300\n",
    "vocab_size = len(tag_tokenizer.word_index) + 3\n",
    "num_classes = max(np.unique(y_train))\n",
    "max_len = 120"
   ]
  },
  {
   "cell_type": "code",
   "execution_count": null,
   "metadata": {
    "id": "lgLhQhx17irO"
   },
   "outputs": [],
   "source": [
    "decoder_inputs_placeholder = tf.keras.layers.Input(shape=(max_len,))\n",
    "\n",
    "decoder_embedding = tf.keras.layers.Embedding(input_dim = vocab_size, output_dim = output_vec)\n",
    "decoder_inputs_x = decoder_embedding(decoder_inputs_placeholder)\n",
    "\n",
    "decoder_lstm = tf.keras.layers.LSTM(256, return_sequences=True, return_state=True)\n",
    "decoder_outputs, _, _ = decoder_lstm(decoder_inputs_x, initial_state=encoder_states)\n",
    "\n",
    "decoder_dense = tf.keras.layers.Dense(num_classes + 1, activation = tf.nn.softmax)\n",
    "decoder_outputs = decoder_dense(decoder_outputs)"
   ]
  },
  {
   "cell_type": "code",
   "execution_count": null,
   "metadata": {
    "id": "fF0d6HLx7it_"
   },
   "outputs": [],
   "source": [
    "model = tf.keras.Model(inputs = [encoder_inputs_placeholder,decoder_inputs_placeholder], outputs = decoder_outputs)"
   ]
  },
  {
   "cell_type": "code",
   "execution_count": null,
   "metadata": {
    "colab": {
     "base_uri": "https://localhost:8080/",
     "height": 533
    },
    "executionInfo": {
     "elapsed": 12,
     "status": "ok",
     "timestamp": 1624009722713,
     "user": {
      "displayName": "NAKUL CHAMARIYA",
      "photoUrl": "",
      "userId": "06259338779627162060"
     },
     "user_tz": -330
    },
    "id": "wPW8Ca60WK4Q",
    "outputId": "7b4b27d8-3caf-489c-d600-35badb4dee6f"
   },
   "outputs": [
    {
     "data": {
      "image/png": "[encoded data removed]",
      "text/plain": [
       "<IPython.core.display.Image object>"
      ]
     },
     "execution_count": 119,
     "metadata": {
      "tags": []
     },
     "output_type": "execute_result"
    }
   ],
   "source": [
    "from tensorflow.keras.utils import plot_model\n",
    "plot_model(model, 'model.png', show_shapes=True)"
   ]
  },
  {
   "cell_type": "code",
   "execution_count": null,
   "metadata": {
    "colab": {
     "base_uri": "https://localhost:8080/"
    },
    "executionInfo": {
     "elapsed": 4,
     "status": "ok",
     "timestamp": 1624009726185,
     "user": {
      "displayName": "NAKUL CHAMARIYA",
      "photoUrl": "",
      "userId": "06259338779627162060"
     },
     "user_tz": -330
    },
    "id": "-xuFaxJ2WQLB",
    "outputId": "b4711a9c-1750-4475-cf97-428f90537642"
   },
   "outputs": [
    {
     "name": "stdout",
     "output_type": "stream",
     "text": [
      "Model: \"model_3\"\n",
      "__________________________________________________________________________________________________\n",
      "Layer (type)                    Output Shape         Param #     Connected to                     \n",
      "==================================================================================================\n",
      "input_6 (InputLayer)            [(None, 21)]         0                                            \n",
      "__________________________________________________________________________________________________\n",
      "input_7 (InputLayer)            [(None, 120)]        0                                            \n",
      "__________________________________________________________________________________________________\n",
      "embedding_2 (Embedding)         (None, 21, 300)      12300       input_6[0][0]                    \n",
      "__________________________________________________________________________________________________\n",
      "embedding_3 (Embedding)         (None, 120, 300)     16800       input_7[0][0]                    \n",
      "__________________________________________________________________________________________________\n",
      "lstm_2 (LSTM)                   [(None, 256), (None, 570368      embedding_2[0][0]                \n",
      "__________________________________________________________________________________________________\n",
      "lstm_3 (LSTM)                   [(None, 120, 256), ( 570368      embedding_3[0][0]                \n",
      "                                                                 lstm_2[0][1]                     \n",
      "                                                                 lstm_2[0][2]                     \n",
      "__________________________________________________________________________________________________\n",
      "dense_1 (Dense)                 (None, 120, 55)      14135       lstm_3[0][0]                     \n",
      "==================================================================================================\n",
      "Total params: 1,183,971\n",
      "Trainable params: 1,183,971\n",
      "Non-trainable params: 0\n",
      "__________________________________________________________________________________________________\n"
     ]
    }
   ],
   "source": [
    "model.summary()"
   ]
  },
  {
   "cell_type": "code",
   "execution_count": null,
   "metadata": {
    "id": "tzNidW-C4sUH"
   },
   "outputs": [],
   "source": [
    "from sklearn.metrics import confusion_matrix\n",
    "import numpy as np\n",
    "import time\n",
    "\n",
    "def balanced_accuracy(y_true, y_pred):\n",
    "  y_true = y_true.numpy()\n",
    "  y_pred = y_pred.numpy()\n",
    "  y_pred = np.argmax(y_pred,axis=-1)\n",
    "\n",
    "  y_true = y_true.ravel()\n",
    "  y_pred = y_pred.ravel()\n",
    "\n",
    "  #Here we will remove the padded zeroes since they will increase the balanced accuracy\n",
    "  #You can also remove tokens corresponding to punctuation like ',' or '!' since there output is not useful\n",
    "  y_true = np.trim_zeros(y_true, 'b')  \n",
    "  y_true = np.append(y_true,0)\n",
    "  y_pred = y_pred[:(y_true.shape[0])]\n",
    "\n",
    "  num_classes = len(np.unique(y_true))\n",
    "\n",
    "  cm = confusion_matrix(y_true, y_pred).T\n",
    "  balanced_accuracy = 0\n",
    "  for i in range(num_classes):\n",
    "    num = cm[i,i]\n",
    "    den = np.sum(cm[:,i])\n",
    "    if num == 0 :\n",
    "      acc = 0\n",
    "    else:\n",
    "      acc = num / den\n",
    "    balanced_accuracy += acc\n",
    "\n",
    "  return (balanced_accuracy / num_classes)"
   ]
  },
  {
   "cell_type": "code",
   "execution_count": null,
   "metadata": {
    "id": "wgijskVbpoPM"
   },
   "outputs": [],
   "source": [
    "model.compile(optimizer = tf.keras.optimizers.Adam(learning_rate = 0.001), \n",
    "              loss = tf.keras.losses.sparse_categorical_crossentropy, #binary_crossentropy\n",
    "              metrics = balanced_accuracy, run_eagerly=True ) #tf.keras.metrics.CategoricalAccuracy()"
   ]
  },
  {
   "cell_type": "code",
   "execution_count": null,
   "metadata": {
    "id": "enc8r_uwJ23t"
   },
   "outputs": [],
   "source": [
    "batch_size = 32\n",
    "steps_per_epoch = len(X_train) // batch_size\n",
    "validation_batch_size = 32\n",
    "validation_steps = len(X_test) // validation_batch_size"
   ]
  },
  {
   "cell_type": "code",
   "execution_count": null,
   "metadata": {
    "id": "jz3wiz1B9WFL"
   },
   "outputs": [],
   "source": [
    "callback = tf.keras.callbacks.EarlyStopping(\n",
    "    monitor='val_balanced_accuracy', min_delta=0, patience=3,\n",
    "    mode='max', baseline=None, restore_best_weights=True\n",
    ")"
   ]
  },
  {
   "cell_type": "code",
   "execution_count": null,
   "metadata": {
    "colab": {
     "base_uri": "https://localhost:8080/"
    },
    "executionInfo": {
     "elapsed": 3082086,
     "status": "ok",
     "timestamp": 1624012812197,
     "user": {
      "displayName": "NAKUL CHAMARIYA",
      "photoUrl": "",
      "userId": "06259338779627162060"
     },
     "user_tz": -330
    },
    "id": "BxPREQdpMOjO",
    "outputId": "1a3936b4-52e3-46d9-c547-5645905b6c0f"
   },
   "outputs": [
    {
     "name": "stdout",
     "output_type": "stream",
     "text": [
      "Epoch 1/10\n",
      "1250/1250 [==============================] - 306s 245ms/step - loss: 0.3920 - balanced_accuracy: 0.2539 - val_loss: 0.2812 - val_balanced_accuracy: 0.3658\n",
      "Epoch 2/10\n",
      "1250/1250 [==============================] - 306s 245ms/step - loss: 0.2494 - balanced_accuracy: 0.4181 - val_loss: 0.2248 - val_balanced_accuracy: 0.4643\n",
      "Epoch 3/10\n",
      "1250/1250 [==============================] - 274s 219ms/step - loss: 0.2097 - balanced_accuracy: 0.4913 - val_loss: 0.1978 - val_balanced_accuracy: 0.5136\n",
      "Epoch 4/10\n",
      "1250/1250 [==============================] - 310s 248ms/step - loss: 0.1866 - balanced_accuracy: 0.5330 - val_loss: 0.1804 - val_balanced_accuracy: 0.5482\n",
      "Epoch 5/10\n",
      "1250/1250 [==============================] - 314s 251ms/step - loss: 0.1697 - balanced_accuracy: 0.5642 - val_loss: 0.1667 - val_balanced_accuracy: 0.5737\n",
      "Epoch 6/10\n",
      "1250/1250 [==============================] - 315s 252ms/step - loss: 0.1563 - balanced_accuracy: 0.5877 - val_loss: 0.1583 - val_balanced_accuracy: 0.5933\n",
      "Epoch 7/10\n",
      "1250/1250 [==============================] - 291s 233ms/step - loss: 0.1463 - balanced_accuracy: 0.6080 - val_loss: 0.1516 - val_balanced_accuracy: 0.6049\n",
      "Epoch 8/10\n",
      "1250/1250 [==============================] - 287s 230ms/step - loss: 0.1382 - balanced_accuracy: 0.6235 - val_loss: 0.1470 - val_balanced_accuracy: 0.6168\n",
      "Epoch 9/10\n",
      "1250/1250 [==============================] - 316s 253ms/step - loss: 0.1312 - balanced_accuracy: 0.6422 - val_loss: 0.1440 - val_balanced_accuracy: 0.6318\n",
      "Epoch 10/10\n",
      "1250/1250 [==============================] - 317s 254ms/step - loss: 0.1252 - balanced_accuracy: 0.6558 - val_loss: 0.1409 - val_balanced_accuracy: 0.6326\n",
      "\n",
      "Training time(sec) =  3081.9651250839233\n"
     ]
    }
   ],
   "source": [
    "start_time = time.time()\n",
    "\n",
    "result = model.fit([X_train, y_train],\n",
    "                   decoder_train,\n",
    "                   validation_data = ([X_test, y_test], decoder_test), \n",
    "                   callbacks=[callback],\n",
    "                   epochs = 10,\n",
    "                   batch_size = batch_size,\n",
    "                   steps_per_epoch = steps_per_epoch, \n",
    "                   validation_batch_size = validation_batch_size,\n",
    "                   validation_steps = validation_steps\n",
    "                   )\n",
    "\n",
    "model_time = (time.time() - start_time)\n",
    "print('\\nTraining time(sec) = ',model_time)"
   ]
  },
  {
   "cell_type": "code",
   "execution_count": null,
   "metadata": {
    "colab": {
     "base_uri": "https://localhost:8080/",
     "height": 281
    },
    "executionInfo": {
     "elapsed": 455,
     "status": "ok",
     "timestamp": 1624012848803,
     "user": {
      "displayName": "NAKUL CHAMARIYA",
      "photoUrl": "",
      "userId": "06259338779627162060"
     },
     "user_tz": -330
    },
    "id": "172XEQelhVua",
    "outputId": "911634a1-255a-4a88-dc78-bfc3d6f1ceca"
   },
   "outputs": [
    {
     "data": {
      "image/png": "[encoded data removed]",
      "text/plain": [
       "<Figure size 432x288 with 1 Axes>"
      ]
     },
     "metadata": {
      "needs_background": "light",
      "tags": []
     },
     "output_type": "display_data"
    }
   ],
   "source": [
    "plt.plot(result.history['loss'] , label = 'train_loss')\n",
    "plt.plot(result.history['val_loss'] , label = 'val_loss')\n",
    "plt.title('Train_loss vs Val_loss')\n",
    "plt.legend()\n",
    "plt.show()"
   ]
  },
  {
   "cell_type": "code",
   "execution_count": null,
   "metadata": {
    "colab": {
     "base_uri": "https://localhost:8080/",
     "height": 281
    },
    "executionInfo": {
     "elapsed": 733,
     "status": "ok",
     "timestamp": 1624012851223,
     "user": {
      "displayName": "NAKUL CHAMARIYA",
      "photoUrl": "",
      "userId": "06259338779627162060"
     },
     "user_tz": -330
    },
    "id": "B89luXcbhV0J",
    "outputId": "aec1439d-5659-4429-f1c0-099d1dcd01e7"
   },
   "outputs": [
    {
     "data": {
      "image/png": "[encoded data removed]",
      "text/plain": [
       "<Figure size 432x288 with 1 Axes>"
      ]
     },
     "metadata": {
      "needs_background": "light",
      "tags": []
     },
     "output_type": "display_data"
    }
   ],
   "source": [
    "plt.plot(result.history['balanced_accuracy'] , label = 'train_balanced_accuracy')\n",
    "plt.plot(result.history['val_balanced_accuracy'] , label = 'val_balanced_accuracy')\n",
    "plt.title('Train_balanced_accuracy vs Val_balanced_accuracy')\n",
    "plt.legend()\n",
    "plt.show()"
   ]
  },
  {
   "cell_type": "code",
   "execution_count": null,
   "metadata": {
    "colab": {
     "base_uri": "https://localhost:8080/",
     "height": 1000
    },
    "executionInfo": {
     "elapsed": 85878,
     "status": "ok",
     "timestamp": 1624012939434,
     "user": {
      "displayName": "NAKUL CHAMARIYA",
      "photoUrl": "",
      "userId": "06259338779627162060"
     },
     "user_tz": -330
    },
    "id": "FVP-Z6E1J-6X",
    "outputId": "0266ae09-0efa-4704-e608-e2d7d8d1bb5d"
   },
   "outputs": [
    {
     "name": "stdout",
     "output_type": "stream",
     "text": [
      "Prediction time(sec) =  4.5676960945129395\n",
      "1250/1250 [==============================] - 21s 17ms/step - loss: 0.0000e+00 - balanced_accuracy: 0.0000e+00\n",
      "313/313 [==============================] - 5s 17ms/step - loss: 0.0000e+00 - balanced_accuracy: 0.0000e+00\n",
      "\n",
      "\n",
      "Training score =  0.49981549724694435\n",
      "Tesing score =  0.4448556042923634\n",
      "\n",
      "\n",
      "No of missclassified for class 0 (test data) = 0 \n",
      "No of missclassified for class 1 (test data) = 1 \n",
      "No of missclassified for class 2 (test data) = 2364 \n",
      "No of missclassified for class 3 (test data) = 5322 \n",
      "No of missclassified for class 4 (test data) = 3325 \n",
      "No of missclassified for class 5 (test data) = 2697 \n",
      "No of missclassified for class 6 (test data) = 2330 \n",
      "No of missclassified for class 7 (test data) = 3816 \n",
      "No of missclassified for class 8 (test data) = 1553 \n",
      "No of missclassified for class 9 (test data) = 2531 \n",
      "No of missclassified for class 10 (test data) = 3458 \n",
      "No of missclassified for class 11 (test data) = 1320 \n",
      "No of missclassified for class 12 (test data) = 1698 \n",
      "No of missclassified for class 13 (test data) = 1498 \n",
      "No of missclassified for class 14 (test data) = 1815 \n",
      "No of missclassified for class 15 (test data) = 1400 \n",
      "No of missclassified for class 16 (test data) = 2103 \n",
      "No of missclassified for class 17 (test data) = 1835 \n",
      "No of missclassified for class 18 (test data) = 1679 \n",
      "No of missclassified for class 19 (test data) = 1538 \n",
      "No of missclassified for class 20 (test data) = 1349 \n",
      "No of missclassified for class 21 (test data) = 1196 \n",
      "No of missclassified for class 22 (test data) = 884 \n",
      "No of missclassified for class 23 (test data) = 574 \n",
      "No of missclassified for class 24 (test data) = 837 \n",
      "No of missclassified for class 25 (test data) = 680 \n",
      "No of missclassified for class 26 (test data) = 446 \n",
      "No of missclassified for class 27 (test data) = 312 \n",
      "No of missclassified for class 28 (test data) = 62 \n",
      "No of missclassified for class 29 (test data) = 204 \n",
      "No of missclassified for class 30 (test data) = 49 \n",
      "No of missclassified for class 31 (test data) = 36 \n",
      "No of missclassified for class 32 (test data) = 14 \n",
      "No of missclassified for class 33 (test data) = 3 \n",
      "No of missclassified for class 34 (test data) = 4 \n",
      "No of missclassified for class 35 (test data) = 9 \n",
      "No of missclassified for class 36 (test data) = 6 \n",
      "No of missclassified for class 37 (test data) = 6 \n",
      "No of missclassified for class 38 (test data) = 9 \n",
      "No of missclassified for class 39 (test data) = 9 \n",
      "No of missclassified for class 40 (test data) = 2 \n",
      "No of missclassified for class 41 (test data) = 3 \n",
      "No of missclassified for class 42 (test data) = 2 \n",
      "No of missclassified for class 43 (test data) = 3 \n",
      "No of missclassified for class 44 (test data) = 3 \n",
      "No of missclassified for class 45 (test data) = 2 \n",
      "No of missclassified for class 46 (test data) = 1 \n",
      "No of missclassified for class 47 (test data) = 1 \n",
      "No of missclassified for class 48 (test data) = 3 \n",
      "No of missclassified for class 49 (test data) = 1419 \n",
      "Total no of missclassified points(test data) =  50411\n",
      "Total % of missclassified points(test data) =  0.04200916666666667\n",
      "\n",
      "\n",
      "Training log_loss =  0.0\n",
      "Tesing log_loss =  0.0\n",
      "\n",
      "\n",
      "{'padding': 0, '<OOV>': 1, ' ': 2, 'e': 3, 'i': 4, 'n': 5, 't': 6, 's': 7, 'h': 8, 'r': 9, 'a': 10, 'c': 11, 'm': 12, 'd': 13, 'u': 14, 'o': 15, 'l': 16, 'g': 17, 'b': 18, 'w': 19, 'f': 20, 'k': 21, 'z': 22, 'ü': 23, 'v': 24, 'p': 25, 'ä': 26, 'ö': 27, 'ß': 28, 'j': 29, 'y': 30, '’': 31, 'x': 32, '0': 33, '3': 34, '1': 35, 'q': 36, '2': 37, '„': 38, '“': 39, '8': 40, '9': 41, '\\xa0': 42, '5': 43, '6': 44, '7': 45, '4': 46, '\\u200b': 47, 'ō': 48, 'á': 49, '—': 50, '–': 51, '\\u202f': 52}\n",
      "\n",
      "\n",
      "Confusion matrix:\n"
     ]
    },
    {
     "data": {
      "image/png": "[encoded data removed]",
      "text/plain": [
       "<Figure size 1800x1800 with 2 Axes>"
      ]
     },
     "metadata": {
      "needs_background": "light",
      "tags": []
     },
     "output_type": "display_data"
    },
    {
     "name": "stdout",
     "output_type": "stream",
     "text": [
      "\n",
      "\n",
      "Classification report:-\n",
      "\n",
      "              precision    recall  f1-score   support\n",
      "\n",
      "           0       1.00      1.00      1.00    977279\n",
      "           1       0.00      0.00      0.00         1\n",
      "           2       0.90      0.92      0.91     30406\n",
      "           3       0.76      0.79      0.77     25764\n",
      "           4       0.76      0.82      0.79     18160\n",
      "           5       0.83      0.82      0.82     14758\n",
      "           6       0.82      0.84      0.83     14584\n",
      "           7       0.68      0.73      0.70     14007\n",
      "           8       0.81      0.88      0.84     12734\n",
      "           9       0.78      0.76      0.77     10647\n",
      "          10       0.64      0.67      0.66     10615\n",
      "          11       0.86      0.83      0.85      7944\n",
      "          12       0.78      0.76      0.77      7017\n",
      "          13       0.72      0.76      0.74      6188\n",
      "          14       0.68      0.68      0.68      5693\n",
      "          15       0.82      0.72      0.77      4962\n",
      "          16       0.68      0.58      0.63      5029\n",
      "          17       0.58      0.62      0.60      4846\n",
      "          18       0.67      0.58      0.62      3981\n",
      "          19       0.78      0.60      0.68      3840\n",
      "          20       0.72      0.48      0.58      2595\n",
      "          21       0.68      0.51      0.58      2438\n",
      "          22       0.61      0.45      0.52      1618\n",
      "          23       0.77      0.40      0.52       950\n",
      "          24       0.33      0.13      0.18       959\n",
      "          25       0.48      0.20      0.29       855\n",
      "          26       0.63      0.29      0.39       624\n",
      "          27       0.64      0.49      0.56       611\n",
      "          28       0.82      0.82      0.82       354\n",
      "          29       0.60      0.35      0.44       312\n",
      "          30       0.79      0.41      0.54        83\n",
      "          31       1.00      0.12      0.22        41\n",
      "          32       0.41      0.39      0.40        23\n",
      "          33       0.60      0.75      0.67        12\n",
      "          34       0.57      0.50      0.53         8\n",
      "          35       0.00      0.00      0.00         9\n",
      "          36       0.00      0.00      0.00         6\n",
      "          37       0.00      0.00      0.00         6\n",
      "          38       0.00      0.00      0.00         9\n",
      "          39       0.00      0.00      0.00         9\n",
      "          40       0.00      0.00      0.00         2\n",
      "          41       0.25      0.40      0.31         5\n",
      "          42       0.33      0.33      0.33         3\n",
      "          43       0.00      0.00      0.00         3\n",
      "          44       0.00      0.00      0.00         3\n",
      "          45       0.00      0.00      0.00         2\n",
      "          46       0.00      0.00      0.00         1\n",
      "          51       0.00      0.00      0.00         1\n",
      "          52       0.00      0.00      0.00         3\n",
      "          54       0.80      0.86      0.83     10000\n",
      "\n",
      "    accuracy                           0.96   1200000\n",
      "   macro avg       0.51      0.44      0.46   1200000\n",
      "weighted avg       0.96      0.96      0.96   1200000\n",
      "\n",
      "**************************************************************************\n"
     ]
    }
   ],
   "source": [
    "def print_results(y_train,y_test,decoder_train,decoder_test):\n",
    "  y_pred1 = model.predict([X_train, y_train])\n",
    "  y_pred1 = np.argmax(y_pred1, axis=2)\n",
    "\n",
    "  start_time = time.time()\n",
    "  y_pred = model.predict([X_test, y_test])\n",
    "  y_pred = np.argmax(y_pred, axis=2)\n",
    "  model_time2 = (time.time() - start_time)\n",
    "  print('Prediction time(sec) = ',model_time2)\n",
    "\n",
    "  decoder_train = decoder_train.ravel()\n",
    "  decoder_test = decoder_test.ravel()\n",
    "  y_pred1 = y_pred1.ravel()\n",
    "  y_pred = y_pred.ravel()\n",
    "\n",
    "  cm_model = confusion_matrix(decoder_test, y_pred)\n",
    "  model_miss = np.sum(y_pred!=decoder_test.ravel())\n",
    "  acc1_model = balanced_accuracy_score(decoder_train,y_pred1)\n",
    "  acc2_model = balanced_accuracy_score(decoder_test,y_pred)\n",
    "\n",
    "  loss1_model = model.evaluate([X_train, y_train])[0]\n",
    "  loss2_model = model.evaluate([X_test, y_test])[0]\n",
    "\n",
    "  print('\\n\\nTraining score = ',acc1_model)\n",
    "  print('Tesing score = ',acc2_model)\n",
    "  print('\\n')\n",
    "\n",
    "  label = list(tag_tokenizer.word_index.values())\n",
    "  label.insert(0,0)\n",
    "  for i in range(len(np.unique(decoder_test))):\n",
    "      err = np.sum(cm_model[i])-cm_model[i][i]\n",
    "      print('No of missclassified for class {} (test data) = {} '.format(label[i],err))\n",
    "  print('Total no of missclassified points(test data) = ',model_miss)\n",
    "  print('Total % of missclassified points(test data) = ',model_miss/len(decoder_test))\n",
    "  print('\\n\\nTraining log_loss = ',loss1_model)\n",
    "  print('Tesing log_loss = ',loss2_model)\n",
    "\n",
    "  print('\\n')\n",
    "  tags = tag_tokenizer.word_index\n",
    "  tags['padding'] = 0\n",
    "  print(dict(sorted(tags.items(), key=lambda x:x[1])))\n",
    "  print('\\n\\nConfusion matrix:')\n",
    "  skplt.metrics.plot_confusion_matrix(decoder_test, y_pred , figsize = (25,25),normalize=True)\n",
    "  plt.show()\n",
    "  print('\\n\\nClassification report:-\\n')\n",
    "  print(classification_report(decoder_test,y_pred))\n",
    "  print('**************************************************************************')\n",
    "\n",
    "  # RNN = [acc1_model,acc2_model,model_miss,model_miss/len(decoder_test),loss1_model,loss2_model,model_time,model_time2]\n",
    "\n",
    "print_results(y_train,y_test,decoder_train,decoder_test)"
   ]
  },
  {
   "cell_type": "code",
   "execution_count": null,
   "metadata": {
    "colab": {
     "base_uri": "https://localhost:8080/"
    },
    "executionInfo": {
     "elapsed": 360,
     "status": "ok",
     "timestamp": 1624012962823,
     "user": {
      "displayName": "NAKUL CHAMARIYA",
      "photoUrl": "",
      "userId": "06259338779627162060"
     },
     "user_tz": -330
    },
    "id": "BkbyoPvDLoLt",
    "outputId": "70ce953b-aab8-4d7c-8f5d-abc2bdd6eb61"
   },
   "outputs": [
    {
     "name": "stdout",
     "output_type": "stream",
     "text": [
      "(40000, 120)\n",
      "(10000, 120)\n",
      "\n",
      "(40000, 120)\n",
      "(10000, 120)\n"
     ]
    }
   ],
   "source": [
    "print(y_train.shape)\n",
    "print(y_test.shape)\n",
    "print()\n",
    "print(decoder_train.shape)\n",
    "print(decoder_test.shape)"
   ]
  },
  {
   "cell_type": "code",
   "execution_count": null,
   "metadata": {
    "id": "mK2IFgEYfVyl"
   },
   "outputs": [],
   "source": [
    "encoder_model = tf.keras.Model(inputs = encoder_inputs_placeholder, outputs = encoder_states)"
   ]
  },
  {
   "cell_type": "code",
   "execution_count": null,
   "metadata": {
    "id": "szv8yeVwfV63"
   },
   "outputs": [],
   "source": [
    "decoder_inputs_single = tf.keras.layers.Input(shape=(1,))\n",
    "decoder_inputs_single_x = decoder_embedding(decoder_inputs_single)\n",
    "\n",
    "decoder_state_input_h = tf.keras.layers.Input(shape=(256,))\n",
    "decoder_state_input_c = tf.keras.layers.Input(shape=(256,))\n",
    "decoder_states_inputs = [decoder_state_input_h, decoder_state_input_c]\n",
    "\n",
    "decoder_outputs, h, c = decoder_lstm(decoder_inputs_single_x, initial_state=decoder_states_inputs)\n",
    "\n",
    "decoder_states = [h, c]\n",
    "decoder_outputs = decoder_dense(decoder_outputs)"
   ]
  },
  {
   "cell_type": "code",
   "execution_count": null,
   "metadata": {
    "id": "zVVhqUTQfWB4"
   },
   "outputs": [],
   "source": [
    "decoder_model = tf.keras.Model(inputs = [decoder_inputs_single] + decoder_states_inputs, outputs = [decoder_outputs] + decoder_states)"
   ]
  },
  {
   "cell_type": "code",
   "execution_count": null,
   "metadata": {
    "colab": {
     "base_uri": "https://localhost:8080/",
     "height": 413
    },
    "executionInfo": {
     "elapsed": 6,
     "status": "ok",
     "timestamp": 1624012966946,
     "user": {
      "displayName": "NAKUL CHAMARIYA",
      "photoUrl": "",
      "userId": "06259338779627162060"
     },
     "user_tz": -330
    },
    "id": "SS0WkkcHfWF6",
    "outputId": "abb7afde-adec-4631-a1ca-cd553fd6c3c2"
   },
   "outputs": [
    {
     "data": {
      "image/png": "[encoded data removed]",
      "text/plain": [
       "<IPython.core.display.Image object>"
      ]
     },
     "execution_count": 133,
     "metadata": {
      "tags": []
     },
     "output_type": "execute_result"
    }
   ],
   "source": [
    "plot_model(decoder_model, to_file='model_plot_dec.png', show_shapes=True, show_layer_names=True)"
   ]
  },
  {
   "cell_type": "code",
   "execution_count": null,
   "metadata": {
    "colab": {
     "base_uri": "https://localhost:8080/"
    },
    "executionInfo": {
     "elapsed": 6,
     "status": "ok",
     "timestamp": 1624012967585,
     "user": {
      "displayName": "NAKUL CHAMARIYA",
      "photoUrl": "",
      "userId": "06259338779627162060"
     },
     "user_tz": -330
    },
    "id": "i_SKITaEG7VC",
    "outputId": "0ef927ca-fc31-4b5d-fbec-66373a4046cd"
   },
   "outputs": [
    {
     "name": "stdout",
     "output_type": "stream",
     "text": [
      "Model: \"model_5\"\n",
      "__________________________________________________________________________________________________\n",
      "Layer (type)                    Output Shape         Param #     Connected to                     \n",
      "==================================================================================================\n",
      "input_8 (InputLayer)            [(None, 1)]          0                                            \n",
      "__________________________________________________________________________________________________\n",
      "embedding_3 (Embedding)         multiple             16800       input_8[0][0]                    \n",
      "__________________________________________________________________________________________________\n",
      "input_9 (InputLayer)            [(None, 256)]        0                                            \n",
      "__________________________________________________________________________________________________\n",
      "input_10 (InputLayer)           [(None, 256)]        0                                            \n",
      "__________________________________________________________________________________________________\n",
      "lstm_3 (LSTM)                   multiple             570368      embedding_3[1][0]                \n",
      "                                                                 input_9[0][0]                    \n",
      "                                                                 input_10[0][0]                   \n",
      "__________________________________________________________________________________________________\n",
      "dense_1 (Dense)                 multiple             14135       lstm_3[1][0]                     \n",
      "==================================================================================================\n",
      "Total params: 601,303\n",
      "Trainable params: 601,303\n",
      "Non-trainable params: 0\n",
      "__________________________________________________________________________________________________\n"
     ]
    }
   ],
   "source": [
    "decoder_model.summary()"
   ]
  },
  {
   "cell_type": "code",
   "execution_count": null,
   "metadata": {
    "id": "_MJzxgr-HXR0"
   },
   "outputs": [],
   "source": [
    "import string\n",
    "import contractions\n",
    "\n",
    "def text_preprocess(s):\n",
    "  s = contractions.fix(s)\n",
    "  s = s.lower()\n",
    "  s = s.rstrip()\n",
    "  s = s.lstrip()\n",
    "\n",
    "  text = \"\"\n",
    "  for ch in s:\n",
    "    if ch not in string.punctuation:\n",
    "      text = text + ch\n",
    "  return text\n",
    "\n",
    "\n",
    "for i in range(len(X)):\n",
    "  X[i] = text_preprocess(X[i])\n",
    "\n",
    "for i in range(len(y)):\n",
    "  y[i] = text_preprocess(y[i])"
   ]
  },
  {
   "cell_type": "code",
   "execution_count": null,
   "metadata": {
    "id": "lDncQqseG8i-"
   },
   "outputs": [],
   "source": [
    "def translate_sentence(text, max_len, start_token, end_token, max_output_len, tags, word_tokenizer):\n",
    "  original_text = text\n",
    "  text = text_preprocess(text)\n",
    "\n",
    "  data = np.array(word_tokenizer.texts_to_sequences(text))\n",
    "  data = data.ravel()\n",
    "\n",
    "  data = tf.keras.preprocessing.sequence.pad_sequences(\n",
    "      [data], maxlen = max_len, padding = 'pre',\n",
    "      truncating='post', value=0.0 )\n",
    "  \n",
    "  target_seq = np.zeros((1, 1))\n",
    "  target_seq[0, 0] = start_token\n",
    "  target_seq = target_seq.ravel()\n",
    "\n",
    "  states_value = encoder_model.predict(data)\n",
    "  output_tokens, h, c = decoder_model.predict([target_seq] + states_value)\n",
    "\n",
    "  output_sen = []\n",
    "\n",
    "  for _ in range(max_output_len):\n",
    "    output_tokens, h, c = decoder_model.predict([target_seq] + states_value)\n",
    "    idx = np.argmax(output_tokens,axis=2).ravel()\n",
    "\n",
    "    if idx == end_token:\n",
    "      break\n",
    "    else:\n",
    "      output_sen.append(tags[idx[0]])\n",
    "\n",
    "    target_seq = np.zeros((1, 1))\n",
    "    target_seq[0, 0] = idx[0]\n",
    "    target_seq = target_seq.ravel()\n",
    "    states_value = [h, c]\n",
    "\n",
    "  return original_text,''.join(output_sen)"
   ]
  },
  {
   "cell_type": "code",
   "execution_count": null,
   "metadata": {
    "id": "M_ZryKZUKde3"
   },
   "outputs": [],
   "source": [
    "text = 'Hello, How are you?'\n",
    "max_len = 21\n",
    "start_token = 53\n",
    "end_token = 54\n",
    "max_output_len = 120\n",
    "\n",
    "tags_dict = tag_tokenizer.word_index\n",
    "tags_dict = dict([(value, key) for key, value in tags_dict.items()])"
   ]
  },
  {
   "cell_type": "code",
   "execution_count": null,
   "metadata": {
    "id": "hW_3yLKIK-OD"
   },
   "outputs": [],
   "source": [
    "text, output = translate_sentence(text, max_len, start_token, end_token, max_output_len, tags_dict, word_tokenizer) "
   ]
  },
  {
   "cell_type": "code",
   "execution_count": null,
   "metadata": {
    "colab": {
     "base_uri": "https://localhost:8080/"
    },
    "executionInfo": {
     "elapsed": 355,
     "status": "ok",
     "timestamp": 1624012999070,
     "user": {
      "displayName": "NAKUL CHAMARIYA",
      "photoUrl": "",
      "userId": "06259338779627162060"
     },
     "user_tz": -330
    },
    "id": "as0gp-6cKlCL",
    "outputId": "e618ee36-2a6c-4dd8-901c-8570cb3c6294"
   },
   "outputs": [
    {
     "name": "stdout",
     "output_type": "stream",
     "text": [
      "Hello, How are you?\n",
      "er wird sie auf dich zu hause gehen\n"
     ]
    }
   ],
   "source": [
    "print(text)\n",
    "print(output)"
   ]
  },
  {
   "cell_type": "code",
   "execution_count": null,
   "metadata": {
    "id": "Kaor2kxvNyqY"
   },
   "outputs": [],
   "source": [
    "import pandas as pd\n",
    "\n",
    "def testing_model(X_test, y_test):\n",
    "  words = word_tokenizer.word_index\n",
    "  words = dict([(value, key) for key, value in words.items()])\n",
    "\n",
    "  tags = tag_tokenizer.word_index\n",
    "  tags = dict([(value, key) for key, value in tags.items()])\n",
    "\n",
    "  train_text = []\n",
    "  for i in range(len(X_test)):\n",
    "    train_text.append(np.trim_zeros(X_test[i], 'f').tolist())\n",
    "  X_test = np.array(train_text)\n",
    "\n",
    "  eng_text = []\n",
    "  for i in range(len(X_test)):\n",
    "    temp = []\n",
    "    for j in range(len(X_test[i])):\n",
    "      temp.append(words[X_test[i][j]])\n",
    "    eng_text.append(''.join(temp))\n",
    "\n",
    "  test_text = []\n",
    "  for i in range(len(y_test)):\n",
    "    test_text.append(np.trim_zeros(y_test[i], 'b').tolist())\n",
    "    test_text[i].pop(0)\n",
    "    test_text[i].pop()\n",
    "  y_test = np.array(test_text)\n",
    "\n",
    "  actual_text = []\n",
    "  for i in range(len(y_test)):\n",
    "    temp = []\n",
    "    for j in range(len(y_test[i])):\n",
    "      temp.append(tags[y_test[i][j]])\n",
    "    actual_text.append(''.join(temp))\n",
    "\n",
    "  pred_text = []\n",
    "  for i in range(len(eng_text)):\n",
    "    text, output = translate_sentence(eng_text[i], max_len, start_token, end_token, max_output_len, tags_dict, word_tokenizer) \n",
    "    pred_text.append(output)\n",
    "\n",
    "  df = pd.DataFrame()\n",
    "  df['English_text'] = eng_text\n",
    "  df['actual_output'] = actual_text\n",
    "  df['predicted_output'] = pred_text\n",
    "\n",
    "  return df"
   ]
  },
  {
   "cell_type": "code",
   "execution_count": null,
   "metadata": {
    "id": "rjY132i3MNVf"
   },
   "outputs": [],
   "source": [
    "df = testing_model(X_test[:10], y_test[:10])"
   ]
  },
  {
   "cell_type": "code",
   "execution_count": null,
   "metadata": {
    "colab": {
     "base_uri": "https://localhost:8080/",
     "height": 363
    },
    "executionInfo": {
     "elapsed": 350,
     "status": "ok",
     "timestamp": 1624013037752,
     "user": {
      "displayName": "NAKUL CHAMARIYA",
      "photoUrl": "",
      "userId": "06259338779627162060"
     },
     "user_tz": -330
    },
    "id": "561t3uAVYq5r",
    "outputId": "f213b8d5-04d1-448f-f643-bdffc3f83ace"
   },
   "outputs": [
    {
     "data": {
      "text/html": [
       "<div>\n",
       "<style scoped>\n",
       "    .dataframe tbody tr th:only-of-type {\n",
       "        vertical-align: middle;\n",
       "    }\n",
       "\n",
       "    .dataframe tbody tr th {\n",
       "        vertical-align: top;\n",
       "    }\n",
       "\n",
       "    .dataframe thead th {\n",
       "        text-align: right;\n",
       "    }\n",
       "</style>\n",
       "<table border=\"1\" class=\"dataframe\">\n",
       "  <thead>\n",
       "    <tr style=\"text-align: right;\">\n",
       "      <th></th>\n",
       "      <th>English_text</th>\n",
       "      <th>actual_output</th>\n",
       "      <th>predicted_output</th>\n",
       "    </tr>\n",
       "  </thead>\n",
       "  <tbody>\n",
       "    <tr>\n",
       "      <th>0</th>\n",
       "      <td>put on your coat</td>\n",
       "      <td>zieh deinen mantel an</td>\n",
       "      <td>setz dich die schule</td>\n",
       "    </tr>\n",
       "    <tr>\n",
       "      <th>1</th>\n",
       "      <td>ive seen things</td>\n",
       "      <td>ich habe dinge gesehen</td>\n",
       "      <td>ich habe die geschichte</td>\n",
       "    </tr>\n",
       "    <tr>\n",
       "      <th>2</th>\n",
       "      <td>some bugs were fixed</td>\n",
       "      <td>einige fehler wurden behoben</td>\n",
       "      <td>jemand hat sich bestraft</td>\n",
       "    </tr>\n",
       "    <tr>\n",
       "      <th>3</th>\n",
       "      <td>i had three dogs</td>\n",
       "      <td>ich hatte drei hunde</td>\n",
       "      <td>ich hatte drei hunde</td>\n",
       "    </tr>\n",
       "    <tr>\n",
       "      <th>4</th>\n",
       "      <td>i have a theory</td>\n",
       "      <td>ich habe eine theorie</td>\n",
       "      <td>ich habe eine stadt</td>\n",
       "    </tr>\n",
       "    <tr>\n",
       "      <th>5</th>\n",
       "      <td>maybe tom likes you</td>\n",
       "      <td>vielleicht mag tom dich leiden</td>\n",
       "      <td>vielleicht sind tom hier</td>\n",
       "    </tr>\n",
       "    <tr>\n",
       "      <th>6</th>\n",
       "      <td>well be busy</td>\n",
       "      <td>wir werden beschäftigt sein</td>\n",
       "      <td>wir werden besser sein</td>\n",
       "    </tr>\n",
       "    <tr>\n",
       "      <th>7</th>\n",
       "      <td>may god reward you</td>\n",
       "      <td>möge gott dir’s vergelten</td>\n",
       "      <td>konn tom sehr heraus</td>\n",
       "    </tr>\n",
       "    <tr>\n",
       "      <th>8</th>\n",
       "      <td>do you have a knife</td>\n",
       "      <td>hast du ein messer</td>\n",
       "      <td>haben sie ein bier</td>\n",
       "    </tr>\n",
       "    <tr>\n",
       "      <th>9</th>\n",
       "      <td>ill come home</td>\n",
       "      <td>ich werde nach hause kommen</td>\n",
       "      <td>ich werde hier zu hause gehen</td>\n",
       "    </tr>\n",
       "  </tbody>\n",
       "</table>\n",
       "</div>"
      ],
      "text/plain": [
       "           English_text  ...               predicted_output\n",
       "0      put on your coat  ...           setz dich die schule\n",
       "1       ive seen things  ...        ich habe die geschichte\n",
       "2  some bugs were fixed  ...       jemand hat sich bestraft\n",
       "3      i had three dogs  ...           ich hatte drei hunde\n",
       "4       i have a theory  ...            ich habe eine stadt\n",
       "5   maybe tom likes you  ...       vielleicht sind tom hier\n",
       "6          well be busy  ...         wir werden besser sein\n",
       "7    may god reward you  ...           konn tom sehr heraus\n",
       "8   do you have a knife  ...             haben sie ein bier\n",
       "9         ill come home  ...  ich werde hier zu hause gehen\n",
       "\n",
       "[10 rows x 3 columns]"
      ]
     },
     "execution_count": 144,
     "metadata": {
      "tags": []
     },
     "output_type": "execute_result"
    }
   ],
   "source": [
    "df"
   ]
  },
  {
   "cell_type": "code",
   "execution_count": null,
   "metadata": {
    "colab": {
     "base_uri": "https://localhost:8080/"
    },
    "executionInfo": {
     "elapsed": 4973,
     "status": "ok",
     "timestamp": 1623750242364,
     "user": {
      "displayName": "Nakul Chamariya",
      "photoUrl": "https://lh3.googleusercontent.com/a-/AOh14GiaaA3CEhDPpMN9iKjN0cdb6HXS25MHPJCRZ9y5WA=s64",
      "userId": "14936028262101279399"
     },
     "user_tz": -330
    },
    "id": "e_kAEuUWX2Bg",
    "outputId": "af0cd994-1ea5-40cf-d2d5-0d1b71afbc0c"
   },
   "outputs": [
    {
     "name": "stderr",
     "output_type": "stream",
     "text": [
      "WARNING:absl:Found untraced functions such as lstm_cell_layer_call_and_return_conditional_losses, lstm_cell_layer_call_fn, lstm_cell_layer_call_fn, lstm_cell_layer_call_and_return_conditional_losses, lstm_cell_layer_call_and_return_conditional_losses while saving (showing 5 of 5). These functions will not be directly callable after loading.\n"
     ]
    },
    {
     "name": "stdout",
     "output_type": "stream",
     "text": [
      "INFO:tensorflow:Assets written to: /content/drive/MyDrive/Dl projects/RNN basics/parts of speech/rnn_pos_model/assets\n"
     ]
    },
    {
     "name": "stderr",
     "output_type": "stream",
     "text": [
      "INFO:tensorflow:Assets written to: /content/drive/MyDrive/Dl projects/RNN basics/parts of speech/rnn_pos_model/assets\n"
     ]
    }
   ],
   "source": [
    "save_path = '/content/drive/MyDrive/Dl projects/RNN basics/Machine Translation'\n",
    "\n",
    "model_name1 = 'rnn_encoder_model'\n",
    "model_path1 = save_path + '/' + model_name1\n",
    "encoder_model.save(model_path1)\n",
    "\n",
    "model_name2 = 'rnn_decoder_model'\n",
    "model_path2 = save_path + '/' + model_name2\n",
    "decoder_model.save(model_path2) "
   ]
  },
  {
   "cell_type": "code",
   "execution_count": null,
   "metadata": {
    "colab": {
     "base_uri": "https://localhost:8080/"
    },
    "executionInfo": {
     "elapsed": 1256,
     "status": "ok",
     "timestamp": 1623750266971,
     "user": {
      "displayName": "Nakul Chamariya",
      "photoUrl": "https://lh3.googleusercontent.com/a-/AOh14GiaaA3CEhDPpMN9iKjN0cdb6HXS25MHPJCRZ9y5WA=s64",
      "userId": "14936028262101279399"
     },
     "user_tz": -330
    },
    "id": "-7rwZe15X2GC",
    "outputId": "88e3c6fc-dc40-4404-850d-f44d1d0840e4"
   },
   "outputs": [
    {
     "name": "stdout",
     "output_type": "stream",
     "text": [
      "/content/drive/MyDrive/Dl projects/RNN basics/parts of speech\n"
     ]
    },
    {
     "data": {
      "text/plain": [
       "['tokenizer.joblib']"
      ]
     },
     "execution_count": 100,
     "metadata": {
      "tags": []
     },
     "output_type": "execute_result"
    }
   ],
   "source": [
    "import os\n",
    "os.chdir(save_path)\n",
    "print(os.getcwd())\n",
    "\n",
    "import joblib\n",
    "joblib.dump(tags_dict , 'tags.joblib')\n",
    "joblib.dump(word_tokenizer , 'tokenizer.joblib')"
   ]
  },
  {
   "cell_type": "code",
   "execution_count": null,
   "metadata": {
    "id": "8okwWUV2X2JH"
   },
   "outputs": [],
   "source": []
  }
 ],
 "metadata": {
  "accelerator": "GPU",
  "colab": {
   "collapsed_sections": [],
   "name": "Encoder decoder - 1.ipynb",
   "provenance": []
  },
  "kernelspec": {
   "display_name": "Python 3",
   "language": "python",
   "name": "python3"
  },
  "language_info": {
   "codemirror_mode": {
    "name": "ipython",
    "version": 3
   },
   "file_extension": ".py",
   "mimetype": "text/x-python",
   "name": "python",
   "nbconvert_exporter": "python",
   "pygments_lexer": "ipython3",
   "version": "3.7.7"
  }
 },
 "nbformat": 4,
 "nbformat_minor": 1
}
