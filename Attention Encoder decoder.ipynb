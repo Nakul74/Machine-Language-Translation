{
 "cells": [
  {
   "cell_type": "code",
   "execution_count": null,
   "metadata": {
    "colab": {
     "base_uri": "https://localhost:8080/"
    },
    "executionInfo": {
     "elapsed": 385,
     "status": "ok",
     "timestamp": 1624040940100,
     "user": {
      "displayName": "Nakul Chamariya",
      "photoUrl": "https://lh3.googleusercontent.com/a-/AOh14GiaaA3CEhDPpMN9iKjN0cdb6HXS25MHPJCRZ9y5WA=s64",
      "userId": "14936028262101279399"
     },
     "user_tz": -330
    },
    "id": "8BFVCZxwR4UQ",
    "outputId": "a42f0ce6-1072-4288-eec9-730ff15bc5cf"
   },
   "outputs": [
    {
     "name": "stdout",
     "output_type": "stream",
     "text": [
      "Fri Jun 18 18:29:00 2021       \n",
      "+-----------------------------------------------------------------------------+\n",
      "| NVIDIA-SMI 465.27       Driver Version: 460.32.03    CUDA Version: 11.2     |\n",
      "|-------------------------------+----------------------+----------------------+\n",
      "| GPU  Name        Persistence-M| Bus-Id        Disp.A | Volatile Uncorr. ECC |\n",
      "| Fan  Temp  Perf  Pwr:Usage/Cap|         Memory-Usage | GPU-Util  Compute M. |\n",
      "|                               |                      |               MIG M. |\n",
      "|===============================+======================+======================|\n",
      "|   0  Tesla T4            Off  | 00000000:00:04.0 Off |                    0 |\n",
      "| N/A   52C    P8    10W /  70W |      0MiB / 15109MiB |      0%      Default |\n",
      "|                               |                      |                  N/A |\n",
      "+-------------------------------+----------------------+----------------------+\n",
      "                                                                               \n",
      "+-----------------------------------------------------------------------------+\n",
      "| Processes:                                                                  |\n",
      "|  GPU   GI   CI        PID   Type   Process name                  GPU Memory |\n",
      "|        ID   ID                                                   Usage      |\n",
      "|=============================================================================|\n",
      "|  No running processes found                                                 |\n",
      "+-----------------------------------------------------------------------------+\n"
     ]
    }
   ],
   "source": [
    "!nvidia-smi"
   ]
  },
  {
   "cell_type": "code",
   "execution_count": null,
   "metadata": {
    "colab": {
     "base_uri": "https://localhost:8080/"
    },
    "executionInfo": {
     "elapsed": 7,
     "status": "ok",
     "timestamp": 1624040941352,
     "user": {
      "displayName": "Nakul Chamariya",
      "photoUrl": "https://lh3.googleusercontent.com/a-/AOh14GiaaA3CEhDPpMN9iKjN0cdb6HXS25MHPJCRZ9y5WA=s64",
      "userId": "14936028262101279399"
     },
     "user_tz": -330
    },
    "id": "uZ7bFgpBXoYh",
    "outputId": "2c6904ea-61ef-4bce-b328-ab9d44b30e11"
   },
   "outputs": [
    {
     "name": "stdout",
     "output_type": "stream",
     "text": [
      "Drive already mounted at /content/drive; to attempt to forcibly remount, call drive.mount(\"/content/drive\", force_remount=True).\n"
     ]
    }
   ],
   "source": [
    "from google.colab import drive\n",
    "drive.mount('/content/drive')"
   ]
  },
  {
   "cell_type": "code",
   "execution_count": null,
   "metadata": {
    "colab": {
     "base_uri": "https://localhost:8080/"
    },
    "executionInfo": {
     "elapsed": 8,
     "status": "ok",
     "timestamp": 1624040943023,
     "user": {
      "displayName": "Nakul Chamariya",
      "photoUrl": "https://lh3.googleusercontent.com/a-/AOh14GiaaA3CEhDPpMN9iKjN0cdb6HXS25MHPJCRZ9y5WA=s64",
      "userId": "14936028262101279399"
     },
     "user_tz": -330
    },
    "id": "elhCHMOCmGOe",
    "outputId": "30f706f4-5a4e-4a63-f3a4-3fdd9380bfa8"
   },
   "outputs": [
    {
     "name": "stdout",
     "output_type": "stream",
     "text": [
      "235901\n"
     ]
    }
   ],
   "source": [
    "path = '/content/drive/MyDrive/Dl projects/RNN basics/Machine Translation/data.txt'\n",
    "\n",
    "with open(path,encoding='utf-8') as f:\n",
    "    lines = f.readlines()\n",
    "\n",
    "print(len(lines))\n"
   ]
  },
  {
   "cell_type": "code",
   "execution_count": null,
   "metadata": {
    "id": "UkIvGM03m4M7"
   },
   "outputs": [],
   "source": [
    "# Using only top 50000 sentences\n",
    "lines = lines[:50000]\n",
    "text = ' '.join(lines)\n",
    "lines = text.split('\\n')\n",
    "\n",
    "X = []\n",
    "y = []\n",
    "\n",
    "for i in range(len(lines)-1):\n",
    "    s = lines[i]\n",
    "    X.append(s.split('\\t')[0])\n",
    "    y.append(s.split('\\t')[1])\n",
    "\n",
    "import numpy as np\n",
    "X = np.array(X)\n",
    "y = np.array(y)"
   ]
  },
  {
   "cell_type": "code",
   "execution_count": null,
   "metadata": {
    "colab": {
     "base_uri": "https://localhost:8080/"
    },
    "executionInfo": {
     "elapsed": 12,
     "status": "ok",
     "timestamp": 1624040943701,
     "user": {
      "displayName": "Nakul Chamariya",
      "photoUrl": "https://lh3.googleusercontent.com/a-/AOh14GiaaA3CEhDPpMN9iKjN0cdb6HXS25MHPJCRZ9y5WA=s64",
      "userId": "14936028262101279399"
     },
     "user_tz": -330
    },
    "id": "F--P2_VHnW2P",
    "outputId": "f15cb7a0-7a4c-4ccd-d003-11da2e7c5075"
   },
   "outputs": [
    {
     "name": "stdout",
     "output_type": "stream",
     "text": [
      "(50000,)\n",
      "(50000,)\n"
     ]
    }
   ],
   "source": [
    "print(X.shape)\n",
    "print(y.shape)"
   ]
  },
  {
   "cell_type": "code",
   "execution_count": null,
   "metadata": {
    "colab": {
     "base_uri": "https://localhost:8080/"
    },
    "executionInfo": {
     "elapsed": 2854,
     "status": "ok",
     "timestamp": 1624040946546,
     "user": {
      "displayName": "Nakul Chamariya",
      "photoUrl": "https://lh3.googleusercontent.com/a-/AOh14GiaaA3CEhDPpMN9iKjN0cdb6HXS25MHPJCRZ9y5WA=s64",
      "userId": "14936028262101279399"
     },
     "user_tz": -330
    },
    "id": "gEcv2-9K8h-Q",
    "outputId": "6b68b64a-1e9d-49a1-b089-56846b11b230"
   },
   "outputs": [
    {
     "name": "stdout",
     "output_type": "stream",
     "text": [
      "Requirement already satisfied: contractions in /usr/local/lib/python3.7/dist-packages (0.0.52)\n",
      "Requirement already satisfied: textsearch>=0.0.21 in /usr/local/lib/python3.7/dist-packages (from contractions) (0.0.21)\n",
      "Requirement already satisfied: pyahocorasick in /usr/local/lib/python3.7/dist-packages (from textsearch>=0.0.21->contractions) (1.4.2)\n",
      "Requirement already satisfied: anyascii in /usr/local/lib/python3.7/dist-packages (from textsearch>=0.0.21->contractions) (0.2.0)\n"
     ]
    }
   ],
   "source": [
    "!pip install contractions"
   ]
  },
  {
   "cell_type": "code",
   "execution_count": null,
   "metadata": {
    "colab": {
     "base_uri": "https://localhost:8080/"
    },
    "executionInfo": {
     "elapsed": 14,
     "status": "ok",
     "timestamp": 1624040946547,
     "user": {
      "displayName": "Nakul Chamariya",
      "photoUrl": "https://lh3.googleusercontent.com/a-/AOh14GiaaA3CEhDPpMN9iKjN0cdb6HXS25MHPJCRZ9y5WA=s64",
      "userId": "14936028262101279399"
     },
     "user_tz": -330
    },
    "id": "6H5Hl0_98lTT",
    "outputId": "1e51a9b9-467c-4d2c-d2dd-faa4d70b0b48"
   },
   "outputs": [
    {
     "name": "stdout",
     "output_type": "stream",
     "text": [
      "{\"I'm\": 'I am', \"I'm'a\": 'I am about to', \"I'm'o\": 'I am going to', \"I've\": 'I have', \"I'll\": 'I will', \"I'll've\": 'I will have', \"I'd\": 'I would', \"I'd've\": 'I would have', 'Whatcha': 'What are you', \"amn't\": 'am not', \"ain't\": 'are not', \"aren't\": 'are not', \"'cause\": 'because', \"can't\": 'cannot', \"can't've\": 'cannot have', \"could've\": 'could have', \"couldn't\": 'could not', \"couldn't've\": 'could not have', \"daren't\": 'dare not', \"daresn't\": 'dare not', \"dasn't\": 'dare not', \"didn't\": 'did not', 'didn’t': 'did not', \"don't\": 'do not', 'don’t': 'do not', \"doesn't\": 'does not', \"e'er\": 'ever', \"everyone's\": 'everyone is', 'finna': 'fixing to', 'gimme': 'give me', \"gon't\": 'go not', 'gonna': 'going to', 'gotta': 'got to', \"hadn't\": 'had not', \"hadn't've\": 'had not have', \"hasn't\": 'has not', \"haven't\": 'have not', \"he've\": 'he have', \"he's\": 'he is', \"he'll\": 'he will', \"he'll've\": 'he will have', \"he'd\": 'he would', \"he'd've\": 'he would have', \"here's\": 'here is', \"how're\": 'how are', \"how'd\": 'how did', \"how'd'y\": 'how do you', \"how's\": 'how is', \"how'll\": 'how will', \"isn't\": 'is not', \"it's\": 'it is', \"'tis\": 'it is', \"'twas\": 'it was', \"it'll\": 'it will', \"it'll've\": 'it will have', \"it'd\": 'it would', \"it'd've\": 'it would have', 'kinda': 'kind of', \"let's\": 'let us', 'luv': 'love', \"ma'am\": 'madam', \"may've\": 'may have', \"mayn't\": 'may not', \"might've\": 'might have', \"mightn't\": 'might not', \"mightn't've\": 'might not have', \"must've\": 'must have', \"mustn't\": 'must not', \"mustn't've\": 'must not have', \"needn't\": 'need not', \"needn't've\": 'need not have', \"ne'er\": 'never', \"o'\": 'of', \"o'clock\": 'of the clock', \"ol'\": 'old', \"oughtn't\": 'ought not', \"oughtn't've\": 'ought not have', \"o'er\": 'over', \"shan't\": 'shall not', \"sha'n't\": 'shall not', \"shalln't\": 'shall not', \"shan't've\": 'shall not have', \"she's\": 'she is', \"she'll\": 'she will', \"she'd\": 'she would', \"she'd've\": 'she would have', \"should've\": 'should have', \"shouldn't\": 'should not', \"shouldn't've\": 'should not have', \"so've\": 'so have', \"so's\": 'so is', \"somebody's\": 'somebody is', \"someone's\": 'someone is', \"something's\": 'something is', 'sux': 'sucks', \"that're\": 'that are', \"that's\": 'that is', \"that'll\": 'that will', \"that'd\": 'that would', \"that'd've\": 'that would have', 'em': 'them', \"there're\": 'there are', \"there's\": 'there is', \"there'll\": 'there will', \"there'd\": 'there would', \"there'd've\": 'there would have', \"these're\": 'these are', \"they're\": 'they are', \"they've\": 'they have', \"they'll\": 'they will', \"they'll've\": 'they will have', \"they'd\": 'they would', \"they'd've\": 'they would have', \"this's\": 'this is', \"those're\": 'those are', \"to've\": 'to have', 'wanna': 'want to', \"wasn't\": 'was not', \"we're\": 'we are', \"we've\": 'we have', \"we'll\": 'we will', \"we'll've\": 'we will have', \"we'd\": 'we would', \"we'd've\": 'we would have', \"weren't\": 'were not', \"what're\": 'what are', \"what'd\": 'what did', \"what've\": 'what have', \"what's\": 'what is', \"what'll\": 'what will', \"what'll've\": 'what will have', \"when've\": 'when have', \"when's\": 'when is', \"where're\": 'where are', \"where'd\": 'where did', \"where've\": 'where have', \"where's\": 'where is', \"which's\": 'which is', \"who're\": 'who are', \"who've\": 'who have', \"who's\": 'who is', \"who'll\": 'who will', \"who'll've\": 'who will have', \"who'd\": 'who would', \"who'd've\": 'who would have', \"why're\": 'why are', \"why'd\": 'why did', \"why've\": 'why have', \"why's\": 'why is', \"will've\": 'will have', \"won't\": 'will not', \"won't've\": 'will not have', \"would've\": 'would have', \"wouldn't\": 'would not', \"wouldn't've\": 'would not have', \"y'all\": 'you all', \"y'all're\": 'you all are', \"y'all've\": 'you all have', \"y'all'd\": 'you all would', \"y'all'd've\": 'you all would have', \"you're\": 'you are', \"you've\": 'you have', \"you'll've\": 'you shall have', \"you'll\": 'you will', \"you'd\": 'you would', \"you'd've\": 'you would have', 'jan.': 'january', 'feb.': 'february', 'mar.': 'march', 'apr.': 'april', 'jun.': 'june', 'jul.': 'july', 'aug.': 'august', 'sep.': 'september', 'oct.': 'october', 'nov.': 'november', 'dec.': 'december', 'I’m': 'I am', 'I’m’a': 'I am about to', 'I’m’o': 'I am going to', 'I’ve': 'I have', 'I’ll': 'I will', 'I’ll’ve': 'I will have', 'I’d': 'I would', 'I’d’ve': 'I would have', 'amn’t': 'am not', 'ain’t': 'are not', 'aren’t': 'are not', '’cause': 'because', 'can’t': 'cannot', 'can’t’ve': 'cannot have', 'could’ve': 'could have', 'couldn’t': 'could not', 'couldn’t’ve': 'could not have', 'daren’t': 'dare not', 'daresn’t': 'dare not', 'dasn’t': 'dare not', 'doesn’t': 'does not', 'e’er': 'ever', 'everyone’s': 'everyone is', 'gon’t': 'go not', 'hadn’t': 'had not', 'hadn’t’ve': 'had not have', 'hasn’t': 'has not', 'haven’t': 'have not', 'he’ve': 'he have', 'he’s': 'he is', 'he’ll': 'he will', 'he’ll’ve': 'he will have', 'he’d': 'he would', 'he’d’ve': 'he would have', 'here’s': 'here is', 'how’re': 'how are', 'how’d': 'how did', 'how’d’y': 'how do you', 'how’s': 'how is', 'how’ll': 'how will', 'isn’t': 'is not', 'it’s': 'it is', '’tis': 'it is', '’twas': 'it was', 'it’ll': 'it will', 'it’ll’ve': 'it will have', 'it’d': 'it would', 'it’d’ve': 'it would have', 'let’s': 'let us', 'ma’am': 'madam', 'may’ve': 'may have', 'mayn’t': 'may not', 'might’ve': 'might have', 'mightn’t': 'might not', 'mightn’t’ve': 'might not have', 'must’ve': 'must have', 'mustn’t': 'must not', 'mustn’t’ve': 'must not have', 'needn’t': 'need not', 'needn’t’ve': 'need not have', 'ne’er': 'never', 'o’': 'of', 'o’clock': 'of the clock', 'ol’': 'old', 'oughtn’t': 'ought not', 'oughtn’t’ve': 'ought not have', 'o’er': 'over', 'shan’t': 'shall not', 'sha’n’t': 'shall not', 'shalln’t': 'shall not', 'shan’t’ve': 'shall not have', 'she’s': 'she is', 'she’ll': 'she will', 'she’d': 'she would', 'she’d’ve': 'she would have', 'should’ve': 'should have', 'shouldn’t': 'should not', 'shouldn’t’ve': 'should not have', 'so’ve': 'so have', 'so’s': 'so is', 'somebody’s': 'somebody is', 'someone’s': 'someone is', 'something’s': 'something is', 'that’re': 'that are', 'that’s': 'that is', 'that’ll': 'that will', 'that’d': 'that would', 'that’d’ve': 'that would have', 'there’re': 'there are', 'there’s': 'there is', 'there’ll': 'there will', 'there’d': 'there would', 'there’d’ve': 'there would have', 'these’re': 'these are', 'they’re': 'they are', 'they’ve': 'they have', 'they’ll': 'they will', 'they’ll’ve': 'they will have', 'they’d': 'they would', 'they’d’ve': 'they would have', 'this’s': 'this is', 'those’re': 'those are', 'to’ve': 'to have', 'wasn’t': 'was not', 'we’re': 'we are', 'we’ve': 'we have', 'we’ll': 'we will', 'we’ll’ve': 'we will have', 'we’d': 'we would', 'we’d’ve': 'we would have', 'weren’t': 'were not', 'what’re': 'what are', 'what’d': 'what did', 'what’ve': 'what have', 'what’s': 'what is', 'what’ll': 'what will', 'what’ll’ve': 'what will have', 'when’ve': 'when have', 'when’s': 'when is', 'where’re': 'where are', 'where’d': 'where did', 'where’ve': 'where have', 'where’s': 'where is', 'which’s': 'which is', 'who’re': 'who are', 'who’ve': 'who have', 'who’s': 'who is', 'who’ll': 'who will', 'who’ll’ve': 'who will have', 'who’d': 'who would', 'who’d’ve': 'who would have', 'why’re': 'why are', 'why’d': 'why did', 'why’ve': 'why have', 'why’s': 'why is', 'will’ve': 'will have', 'won’t': 'will not', 'won’t’ve': 'will not have', 'would’ve': 'would have', 'wouldn’t': 'would not', 'wouldn’t’ve': 'would not have', 'y’all': 'you all', 'y’all’re': 'you all are', 'y’all’ve': 'you all have', 'y’all’d': 'you all would', 'y’all’d’ve': 'you all would have', 'you’re': 'you are', 'you’ve': 'you have', 'you’ll’ve': 'you shall have', 'you’ll': 'you will', 'you’d': 'you would', 'you’d’ve': 'you would have'}\n"
     ]
    }
   ],
   "source": [
    "import contractions\n",
    "print(contractions.contractions_dict)"
   ]
  },
  {
   "cell_type": "code",
   "execution_count": null,
   "metadata": {
    "id": "qfL5BWiqyCYI"
   },
   "outputs": [],
   "source": [
    "import string\n",
    "import contractions\n",
    "\n",
    "def text_preprocess(s):\n",
    "  s = contractions.fix(s)\n",
    "  s = s.lower()\n",
    "  s = s.rstrip()\n",
    "  s = s.lstrip()\n",
    "\n",
    "  text = \"\"\n",
    "  for ch in s:\n",
    "    if ch not in string.punctuation:\n",
    "      text = text + ch\n",
    "  return text\n",
    "\n",
    "for i in range(len(X)):\n",
    "  X[i] = text_preprocess(X[i])\n",
    "\n",
    "for i in range(len(y)):\n",
    "  y[i] = text_preprocess(y[i])"
   ]
  },
  {
   "cell_type": "code",
   "execution_count": null,
   "metadata": {
    "colab": {
     "base_uri": "https://localhost:8080/"
    },
    "executionInfo": {
     "elapsed": 25,
     "status": "ok",
     "timestamp": 1624040947278,
     "user": {
      "displayName": "Nakul Chamariya",
      "photoUrl": "https://lh3.googleusercontent.com/a-/AOh14GiaaA3CEhDPpMN9iKjN0cdb6HXS25MHPJCRZ9y5WA=s64",
      "userId": "14936028262101279399"
     },
     "user_tz": -330
    },
    "id": "vveD4o5jy9Cm",
    "outputId": "a7e16a05-7a32-4918-c75e-7b2df3c56942"
   },
   "outputs": [
    {
     "name": "stdout",
     "output_type": "stream",
     "text": [
      "hello he said and went ahead i have\n"
     ]
    }
   ],
   "source": [
    "print(text_preprocess(\"  Hello!!!, he said ---and went ahead i've. \"))"
   ]
  },
  {
   "cell_type": "code",
   "execution_count": null,
   "metadata": {
    "colab": {
     "base_uri": "https://localhost:8080/"
    },
    "executionInfo": {
     "elapsed": 17,
     "status": "ok",
     "timestamp": 1624040947279,
     "user": {
      "displayName": "Nakul Chamariya",
      "photoUrl": "https://lh3.googleusercontent.com/a-/AOh14GiaaA3CEhDPpMN9iKjN0cdb6HXS25MHPJCRZ9y5WA=s64",
      "userId": "14936028262101279399"
     },
     "user_tz": -330
    },
    "id": "ECmgFB-km4Qt",
    "outputId": "6da8318f-00fd-474a-de4e-af990a270b02"
   },
   "outputs": [
    {
     "name": "stdout",
     "output_type": "stream",
     "text": [
      "who are we\n",
      "\n",
      "wer sind wir\n"
     ]
    }
   ],
   "source": [
    "num = 2000\n",
    "\n",
    "print(X[num])\n",
    "print()\n",
    "print(y[num])"
   ]
  },
  {
   "cell_type": "code",
   "execution_count": null,
   "metadata": {
    "id": "XZOH6Cq7ph0s"
   },
   "outputs": [],
   "source": [
    "#check total no of usinque tages and words\n",
    "num_words_eng = len(set([word.lower() for sent in X for word in sent]))\n",
    "num_words_ger = len(set([word.lower() for sent in y for word in sent]))"
   ]
  },
  {
   "cell_type": "code",
   "execution_count": null,
   "metadata": {
    "colab": {
     "base_uri": "https://localhost:8080/"
    },
    "executionInfo": {
     "elapsed": 19,
     "status": "ok",
     "timestamp": 1624040947961,
     "user": {
      "displayName": "Nakul Chamariya",
      "photoUrl": "https://lh3.googleusercontent.com/a-/AOh14GiaaA3CEhDPpMN9iKjN0cdb6HXS25MHPJCRZ9y5WA=s64",
      "userId": "14936028262101279399"
     },
     "user_tz": -330
    },
    "id": "wYTt0GOrph3g",
    "outputId": "58edef9e-b581-49f5-a1e0-e5d2e0ce12c7"
   },
   "outputs": [
    {
     "name": "stdout",
     "output_type": "stream",
     "text": [
      "Total unique characters for English : 40\n",
      "Total unique characters for German 52\n"
     ]
    }
   ],
   "source": [
    "print('Total unique characters for English :',num_words_eng)\n",
    "print('Total unique characters for German',num_words_ger)"
   ]
  },
  {
   "cell_type": "code",
   "execution_count": null,
   "metadata": {
    "id": "UB9ohpkOqlOj"
   },
   "outputs": [],
   "source": [
    "from sklearn.model_selection import train_test_split\n",
    "X_train,X_test,y_train,y_test = train_test_split(X, y, test_size=0.20, random_state=101)"
   ]
  },
  {
   "cell_type": "code",
   "execution_count": null,
   "metadata": {
    "colab": {
     "base_uri": "https://localhost:8080/"
    },
    "executionInfo": {
     "elapsed": 15,
     "status": "ok",
     "timestamp": 1624040947963,
     "user": {
      "displayName": "Nakul Chamariya",
      "photoUrl": "https://lh3.googleusercontent.com/a-/AOh14GiaaA3CEhDPpMN9iKjN0cdb6HXS25MHPJCRZ9y5WA=s64",
      "userId": "14936028262101279399"
     },
     "user_tz": -330
    },
    "id": "KAjh4rx2vI9D",
    "outputId": "53573a51-79d4-4d20-e2a6-4ef4580963fd"
   },
   "outputs": [
    {
     "name": "stdout",
     "output_type": "stream",
     "text": [
      "(40000,) (10000,)\n",
      "(40000,) (10000,)\n"
     ]
    }
   ],
   "source": [
    "print(X_train.shape,X_test.shape)\n",
    "print(y_train.shape,y_test.shape)"
   ]
  },
  {
   "cell_type": "code",
   "execution_count": null,
   "metadata": {
    "colab": {
     "base_uri": "https://localhost:8080/"
    },
    "executionInfo": {
     "elapsed": 1759,
     "status": "ok",
     "timestamp": 1624040949714,
     "user": {
      "displayName": "Nakul Chamariya",
      "photoUrl": "https://lh3.googleusercontent.com/a-/AOh14GiaaA3CEhDPpMN9iKjN0cdb6HXS25MHPJCRZ9y5WA=s64",
      "userId": "14936028262101279399"
     },
     "user_tz": -330
    },
    "id": "t_Sx4HEdrdew",
    "outputId": "98512114-92ce-44ce-ab1a-9f30941d6bc8"
   },
   "outputs": [
    {
     "name": "stdout",
     "output_type": "stream",
     "text": [
      "2.5.0\n"
     ]
    }
   ],
   "source": [
    "import tensorflow as tf\n",
    "print(tf.__version__)"
   ]
  },
  {
   "cell_type": "code",
   "execution_count": null,
   "metadata": {
    "id": "jjqXjRD_ph6l"
   },
   "outputs": [],
   "source": [
    "from tensorflow.keras.preprocessing.text import Tokenizer\n",
    "\n",
    "word_tokenizer = tf.keras.preprocessing.text.Tokenizer(\n",
    "    num_words=None,\n",
    "    filters='',  # '!\"#$%&()*+,-./:;<=>?@[\\\\]^_`{|}~\\t\\n'\n",
    "    lower=True, split=' ', char_level=True, oov_token=\"<OOV>\"\n",
    ")\n",
    "\n",
    "word_tokenizer.fit_on_texts(X_train)\n",
    "\n",
    "train_text = word_tokenizer.texts_to_sequences(X_train)\n",
    "test_text = word_tokenizer.texts_to_sequences(X_test)"
   ]
  },
  {
   "cell_type": "code",
   "execution_count": null,
   "metadata": {
    "colab": {
     "base_uri": "https://localhost:8080/"
    },
    "executionInfo": {
     "elapsed": 19,
     "status": "ok",
     "timestamp": 1624040950198,
     "user": {
      "displayName": "Nakul Chamariya",
      "photoUrl": "https://lh3.googleusercontent.com/a-/AOh14GiaaA3CEhDPpMN9iKjN0cdb6HXS25MHPJCRZ9y5WA=s64",
      "userId": "14936028262101279399"
     },
     "user_tz": -330
    },
    "id": "bu7EfxMBvtwj",
    "outputId": "79354708-1752-405d-b7a6-f26af4887113"
   },
   "outputs": [
    {
     "name": "stdout",
     "output_type": "stream",
     "text": [
      "is monday ok\n",
      "[6, 8, 2, 12, 4, 9, 14, 7, 15, 2, 4, 20]\n",
      "\n",
      "12\n",
      "12\n"
     ]
    }
   ],
   "source": [
    "num = 0\n",
    "print(X_train[num])\n",
    "print(train_text[num])\n",
    "print()\n",
    "print(len(X_train[num]))\n",
    "print(len(train_text[num]))"
   ]
  },
  {
   "cell_type": "code",
   "execution_count": null,
   "metadata": {
    "colab": {
     "base_uri": "https://localhost:8080/"
    },
    "executionInfo": {
     "elapsed": 16,
     "status": "ok",
     "timestamp": 1624040950200,
     "user": {
      "displayName": "Nakul Chamariya",
      "photoUrl": "https://lh3.googleusercontent.com/a-/AOh14GiaaA3CEhDPpMN9iKjN0cdb6HXS25MHPJCRZ9y5WA=s64",
      "userId": "14936028262101279399"
     },
     "user_tz": -330
    },
    "id": "YCr3kKC-1IrE",
    "outputId": "e67fcf2d-86f4-4236-bc65-bc4ce7396fc6"
   },
   "outputs": [
    {
     "data": {
      "text/plain": [
       "{' ': 2,\n",
       " '0': 29,\n",
       " '1': 31,\n",
       " '2': 32,\n",
       " '3': 30,\n",
       " '4': 37,\n",
       " '5': 33,\n",
       " '6': 36,\n",
       " '7': 38,\n",
       " '8': 35,\n",
       " '9': 34,\n",
       " '<OOV>': 1,\n",
       " 'a': 7,\n",
       " 'b': 22,\n",
       " 'c': 19,\n",
       " 'd': 14,\n",
       " 'e': 3,\n",
       " 'f': 24,\n",
       " 'g': 18,\n",
       " 'h': 10,\n",
       " 'i': 6,\n",
       " 'j': 25,\n",
       " 'k': 20,\n",
       " 'l': 13,\n",
       " 'm': 12,\n",
       " 'n': 9,\n",
       " 'o': 4,\n",
       " 'p': 21,\n",
       " 'q': 28,\n",
       " 'r': 11,\n",
       " 's': 8,\n",
       " 't': 5,\n",
       " 'u': 16,\n",
       " 'v': 23,\n",
       " 'w': 17,\n",
       " 'x': 26,\n",
       " 'y': 15,\n",
       " 'z': 27,\n",
       " 'é': 39,\n",
       " '€': 40}"
      ]
     },
     "execution_count": 18,
     "metadata": {
      "tags": []
     },
     "output_type": "execute_result"
    }
   ],
   "source": [
    "word_tokenizer.word_index"
   ]
  },
  {
   "cell_type": "code",
   "execution_count": null,
   "metadata": {
    "id": "7QRQU_xOr793"
   },
   "outputs": [],
   "source": [
    "tag_tokenizer = tf.keras.preprocessing.text.Tokenizer(\n",
    "    num_words=None,\n",
    "    filters='',  # '!\"#$%&()*+,-./:;<=>?@[\\\\]^_`{|}~\\t\\n'\n",
    "    lower=True, split=' ', char_level=True, oov_token=\"<OOV>\"\n",
    ")\n",
    "\n",
    "tag_tokenizer.fit_on_texts(y_train)\n",
    "\n",
    "train_label = tag_tokenizer.texts_to_sequences(y_train)\n",
    "test_label = tag_tokenizer.texts_to_sequences(y_test)"
   ]
  },
  {
   "cell_type": "code",
   "execution_count": null,
   "metadata": {
    "colab": {
     "base_uri": "https://localhost:8080/"
    },
    "executionInfo": {
     "elapsed": 54,
     "status": "ok",
     "timestamp": 1624040951073,
     "user": {
      "displayName": "Nakul Chamariya",
      "photoUrl": "https://lh3.googleusercontent.com/a-/AOh14GiaaA3CEhDPpMN9iKjN0cdb6HXS25MHPJCRZ9y5WA=s64",
      "userId": "14936028262101279399"
     },
     "user_tz": -330
    },
    "id": "bDoV96YD06i2",
    "outputId": "b85af6c4-c26e-4e1a-e07a-82bd05d71ea4"
   },
   "outputs": [
    {
     "name": "stdout",
     "output_type": "stream",
     "text": [
      "ist montag in ordnung\n",
      "[4, 7, 6, 2, 12, 15, 5, 6, 9, 17, 2, 4, 5, 2, 15, 10, 13, 5, 14, 5, 17]\n",
      "\n",
      "21\n",
      "21\n"
     ]
    }
   ],
   "source": [
    "num = 0\n",
    "print(y_train[num])\n",
    "print(train_label[num])\n",
    "print()\n",
    "print(len(y_train[num]))\n",
    "print(len(train_label[num]))"
   ]
  },
  {
   "cell_type": "code",
   "execution_count": null,
   "metadata": {
    "colab": {
     "base_uri": "https://localhost:8080/"
    },
    "executionInfo": {
     "elapsed": 41,
     "status": "ok",
     "timestamp": 1624040951075,
     "user": {
      "displayName": "Nakul Chamariya",
      "photoUrl": "https://lh3.googleusercontent.com/a-/AOh14GiaaA3CEhDPpMN9iKjN0cdb6HXS25MHPJCRZ9y5WA=s64",
      "userId": "14936028262101279399"
     },
     "user_tz": -330
    },
    "id": "wFxjjv5E36L2",
    "outputId": "6c54f74a-4ed6-4d3e-bfbe-8619f8aec91c"
   },
   "outputs": [
    {
     "name": "stdout",
     "output_type": "stream",
     "text": [
      "52\n",
      "1\n"
     ]
    }
   ],
   "source": [
    "max_key = max(tag_tokenizer.word_index, key=tag_tokenizer.word_index.get)\n",
    "min_key = min(tag_tokenizer.word_index, key=tag_tokenizer.word_index.get)\n",
    "\n",
    "print(tag_tokenizer.word_index[max_key])\n",
    "print(tag_tokenizer.word_index[min_key])"
   ]
  },
  {
   "cell_type": "code",
   "execution_count": null,
   "metadata": {
    "id": "pKvipgqu1PDV"
   },
   "outputs": [],
   "source": [
    "for i in range(len(train_label)):\n",
    "  train_label[i].insert(0,53)\n",
    "  train_label[i].append(54)\n",
    "\n",
    "for i in range(len(test_label)):\n",
    "  test_label[i].insert(0,53)\n",
    "  test_label[i].append(54)"
   ]
  },
  {
   "cell_type": "code",
   "execution_count": null,
   "metadata": {
    "colab": {
     "base_uri": "https://localhost:8080/"
    },
    "executionInfo": {
     "elapsed": 36,
     "status": "ok",
     "timestamp": 1624040951078,
     "user": {
      "displayName": "Nakul Chamariya",
      "photoUrl": "https://lh3.googleusercontent.com/a-/AOh14GiaaA3CEhDPpMN9iKjN0cdb6HXS25MHPJCRZ9y5WA=s64",
      "userId": "14936028262101279399"
     },
     "user_tz": -330
    },
    "id": "HHDxvxF5tQkg",
    "outputId": "9a7e7c46-ff4f-459b-87a5-fbfe84d40b1b"
   },
   "outputs": [
    {
     "name": "stdout",
     "output_type": "stream",
     "text": [
      "Longest sentence length =  23\n"
     ]
    }
   ],
   "source": [
    "lengths = [len(seq) for seq in train_text]\n",
    "print('Longest sentence length = ',max(lengths))"
   ]
  },
  {
   "cell_type": "code",
   "execution_count": null,
   "metadata": {
    "colab": {
     "base_uri": "https://localhost:8080/",
     "height": 320
    },
    "executionInfo": {
     "elapsed": 28,
     "status": "ok",
     "timestamp": 1624040951079,
     "user": {
      "displayName": "Nakul Chamariya",
      "photoUrl": "https://lh3.googleusercontent.com/a-/AOh14GiaaA3CEhDPpMN9iKjN0cdb6HXS25MHPJCRZ9y5WA=s64",
      "userId": "14936028262101279399"
     },
     "user_tz": -330
    },
    "id": "YDyDo-IptQoX",
    "outputId": "ab332b22-a3cf-428a-fdde-9eef36c485eb"
   },
   "outputs": [
    {
     "name": "stderr",
     "output_type": "stream",
     "text": [
      "/usr/local/lib/python3.7/dist-packages/seaborn/_decorators.py:43: FutureWarning: Pass the following variable as a keyword arg: x. From version 0.12, the only valid positional argument will be `data`, and passing other arguments without an explicit keyword will result in an error or misinterpretation.\n",
      "  FutureWarning\n"
     ]
    },
    {
     "data": {
      "image/png": "[encoded data removed]",
      "text/plain": [
       "<Figure size 432x288 with 1 Axes>"
      ]
     },
     "metadata": {
      "needs_background": "light",
      "tags": []
     },
     "output_type": "display_data"
    }
   ],
   "source": [
    "import matplotlib.pyplot as plt\n",
    "import seaborn as sns\n",
    "\n",
    "sns.boxplot(lengths)\n",
    "plt.show()"
   ]
  },
  {
   "cell_type": "code",
   "execution_count": null,
   "metadata": {
    "id": "qrzo1mCts-lX"
   },
   "outputs": [],
   "source": [
    "from tensorflow.keras.preprocessing.sequence import pad_sequences\n",
    "\n",
    "max_len = 21\n",
    "\n",
    "X_train = tf.keras.preprocessing.sequence.pad_sequences(\n",
    "    train_text, maxlen = max_len, padding = 'pre',\n",
    "    truncating='post', value=0.0\n",
    ")\n",
    "\n",
    "X_test = tf.keras.preprocessing.sequence.pad_sequences(\n",
    "    test_text, maxlen = X_train.shape[1], dtype = 'int32', padding='pre',\n",
    "    truncating='post', value=0.0\n",
    ")\n"
   ]
  },
  {
   "cell_type": "code",
   "execution_count": null,
   "metadata": {
    "colab": {
     "base_uri": "https://localhost:8080/"
    },
    "executionInfo": {
     "elapsed": 29,
     "status": "ok",
     "timestamp": 1624040951706,
     "user": {
      "displayName": "Nakul Chamariya",
      "photoUrl": "https://lh3.googleusercontent.com/a-/AOh14GiaaA3CEhDPpMN9iKjN0cdb6HXS25MHPJCRZ9y5WA=s64",
      "userId": "14936028262101279399"
     },
     "user_tz": -330
    },
    "id": "PpeyU5C61xhp",
    "outputId": "52b136c8-7fa0-4dcd-ca8a-01fc97e939ff"
   },
   "outputs": [
    {
     "name": "stdout",
     "output_type": "stream",
     "text": [
      "Longest sentence length =  120\n"
     ]
    }
   ],
   "source": [
    "lengths = [len(seq) for seq in train_label]\n",
    "print('Longest sentence length = ',max(lengths))"
   ]
  },
  {
   "cell_type": "code",
   "execution_count": null,
   "metadata": {
    "id": "kWvmlQ_o7CJJ"
   },
   "outputs": [],
   "source": [
    "max_len = 120\n",
    "\n",
    "y_train = tf.keras.preprocessing.sequence.pad_sequences(\n",
    "    train_label, maxlen = max_len, padding = 'post',\n",
    "    truncating='pre', value=0.0\n",
    ")\n",
    "\n",
    "y_test = tf.keras.preprocessing.sequence.pad_sequences(\n",
    "    test_label, maxlen = y_train.shape[1], dtype = 'int32', padding='post',\n",
    "    truncating='pre', value=0.0\n",
    ")\n"
   ]
  },
  {
   "cell_type": "code",
   "execution_count": null,
   "metadata": {
    "colab": {
     "base_uri": "https://localhost:8080/"
    },
    "executionInfo": {
     "elapsed": 26,
     "status": "ok",
     "timestamp": 1624040951707,
     "user": {
      "displayName": "Nakul Chamariya",
      "photoUrl": "https://lh3.googleusercontent.com/a-/AOh14GiaaA3CEhDPpMN9iKjN0cdb6HXS25MHPJCRZ9y5WA=s64",
      "userId": "14936028262101279399"
     },
     "user_tz": -330
    },
    "id": "TMRW0KXPs-oo",
    "outputId": "f9018bf1-7eb6-48db-8b4e-83c0b34b2243"
   },
   "outputs": [
    {
     "name": "stdout",
     "output_type": "stream",
     "text": [
      "(40000, 21) (10000, 21)\n",
      "(40000, 120) (10000, 120)\n"
     ]
    }
   ],
   "source": [
    "print(X_train.shape,X_test.shape)\n",
    "print(y_train.shape,y_test.shape)"
   ]
  },
  {
   "cell_type": "code",
   "execution_count": null,
   "metadata": {
    "colab": {
     "base_uri": "https://localhost:8080/"
    },
    "executionInfo": {
     "elapsed": 20,
     "status": "ok",
     "timestamp": 1624040951708,
     "user": {
      "displayName": "Nakul Chamariya",
      "photoUrl": "https://lh3.googleusercontent.com/a-/AOh14GiaaA3CEhDPpMN9iKjN0cdb6HXS25MHPJCRZ9y5WA=s64",
      "userId": "14936028262101279399"
     },
     "user_tz": -330
    },
    "id": "825S5-YPZ0de",
    "outputId": "85cfa886-f677-48d5-a7d9-3882ad9d9b01"
   },
   "outputs": [
    {
     "data": {
      "text/plain": [
       "array([53,  4,  7,  6,  2, 12, 15,  5,  6,  9, 17,  2,  4,  5,  2, 15, 10,\n",
       "       13,  5, 14,  5, 17, 54,  0,  0,  0,  0,  0,  0,  0,  0,  0,  0,  0,\n",
       "        0,  0,  0,  0,  0,  0,  0,  0,  0,  0,  0,  0,  0,  0,  0,  0,  0,\n",
       "        0,  0,  0,  0,  0,  0,  0,  0,  0,  0,  0,  0,  0,  0,  0,  0,  0,\n",
       "        0,  0,  0,  0,  0,  0,  0,  0,  0,  0,  0,  0,  0,  0,  0,  0,  0,\n",
       "        0,  0,  0,  0,  0,  0,  0,  0,  0,  0,  0,  0,  0,  0,  0,  0,  0,\n",
       "        0,  0,  0,  0,  0,  0,  0,  0,  0,  0,  0,  0,  0,  0,  0,  0,  0,\n",
       "        0], dtype=int32)"
      ]
     },
     "execution_count": 29,
     "metadata": {
      "tags": []
     },
     "output_type": "execute_result"
    }
   ],
   "source": [
    "y_train[0]"
   ]
  },
  {
   "cell_type": "code",
   "execution_count": null,
   "metadata": {
    "id": "NYcgihKbK6Tf"
   },
   "outputs": [],
   "source": [
    "decoder_train = []\n",
    "decoder_test = []\n",
    "\n",
    "for i in range(len(y_train)):\n",
    "  decoder_train.append(y_train[i][1:].tolist())\n",
    "  decoder_train[i].append(0)\n",
    "decoder_train = np.array(decoder_train)\n",
    "\n",
    "for i in range(len(y_test)):\n",
    "  decoder_test.append(y_test[i][1:].tolist())\n",
    "  decoder_test[i].append(0)\n",
    "decoder_test = np.array(decoder_test)"
   ]
  },
  {
   "cell_type": "code",
   "execution_count": null,
   "metadata": {
    "colab": {
     "base_uri": "https://localhost:8080/"
    },
    "executionInfo": {
     "elapsed": 11,
     "status": "ok",
     "timestamp": 1624040952305,
     "user": {
      "displayName": "Nakul Chamariya",
      "photoUrl": "https://lh3.googleusercontent.com/a-/AOh14GiaaA3CEhDPpMN9iKjN0cdb6HXS25MHPJCRZ9y5WA=s64",
      "userId": "14936028262101279399"
     },
     "user_tz": -330
    },
    "id": "niAqkFcwOSTb",
    "outputId": "7658cc63-c334-4386-9866-07d392b593b2"
   },
   "outputs": [
    {
     "name": "stdout",
     "output_type": "stream",
     "text": [
      "[19  3  4 28  2  6 15 12  2 13  9  7 54  0  0  0  0  0  0  0  0  0  0  0\n",
      "  0  0  0  0  0  0  0  0  0  0  0  0  0  0  0  0  0  0  0  0  0  0  0  0\n",
      "  0  0  0  0  0  0  0  0  0  0  0  0  0  0  0  0  0  0  0  0  0  0  0  0\n",
      "  0  0  0  0  0  0  0  0  0  0  0  0  0  0  0  0  0  0  0  0  0  0  0  0\n",
      "  0  0  0  0  0  0  0  0  0  0  0  0  0  0  0  0  0  0  0  0  0  0  0  0]\n",
      "\n",
      "[53 19  3  4 28  2  6 15 12  2 13  9  7 54  0  0  0  0  0  0  0  0  0  0\n",
      "  0  0  0  0  0  0  0  0  0  0  0  0  0  0  0  0  0  0  0  0  0  0  0  0\n",
      "  0  0  0  0  0  0  0  0  0  0  0  0  0  0  0  0  0  0  0  0  0  0  0  0\n",
      "  0  0  0  0  0  0  0  0  0  0  0  0  0  0  0  0  0  0  0  0  0  0  0  0\n",
      "  0  0  0  0  0  0  0  0  0  0  0  0  0  0  0  0  0  0  0  0  0  0  0  0]\n"
     ]
    }
   ],
   "source": [
    "num = 101\n",
    "\n",
    "print(decoder_test[num])\n",
    "print()\n",
    "print(y_test[num])"
   ]
  },
  {
   "cell_type": "code",
   "execution_count": null,
   "metadata": {
    "colab": {
     "base_uri": "https://localhost:8080/"
    },
    "executionInfo": {
     "elapsed": 11,
     "status": "ok",
     "timestamp": 1624040952783,
     "user": {
      "displayName": "Nakul Chamariya",
      "photoUrl": "https://lh3.googleusercontent.com/a-/AOh14GiaaA3CEhDPpMN9iKjN0cdb6HXS25MHPJCRZ9y5WA=s64",
      "userId": "14936028262101279399"
     },
     "user_tz": -330
    },
    "id": "M1a3m2g6L2XG",
    "outputId": "8afc69d3-d9fe-406c-be9a-c4076c442fce"
   },
   "outputs": [
    {
     "name": "stdout",
     "output_type": "stream",
     "text": [
      "(40000, 120) (10000, 120)\n",
      "(40000, 120) (10000, 120)\n"
     ]
    }
   ],
   "source": [
    "print(decoder_train.shape,decoder_test.shape)\n",
    "print(y_train.shape,y_test.shape)"
   ]
  },
  {
   "cell_type": "code",
   "execution_count": null,
   "metadata": {
    "colab": {
     "base_uri": "https://localhost:8080/"
    },
    "executionInfo": {
     "elapsed": 2441,
     "status": "ok",
     "timestamp": 1624040955217,
     "user": {
      "displayName": "Nakul Chamariya",
      "photoUrl": "https://lh3.googleusercontent.com/a-/AOh14GiaaA3CEhDPpMN9iKjN0cdb6HXS25MHPJCRZ9y5WA=s64",
      "userId": "14936028262101279399"
     },
     "user_tz": -330
    },
    "id": "gdGKZrEqcIK1",
    "outputId": "b4bdae86-fff3-4228-c877-2455746eacfd"
   },
   "outputs": [
    {
     "name": "stdout",
     "output_type": "stream",
     "text": [
      "Requirement already satisfied: scikit-plot in /usr/local/lib/python3.7/dist-packages (0.3.7)\n",
      "Requirement already satisfied: matplotlib>=1.4.0 in /usr/local/lib/python3.7/dist-packages (from scikit-plot) (3.2.2)\n",
      "Requirement already satisfied: scikit-learn>=0.18 in /usr/local/lib/python3.7/dist-packages (from scikit-plot) (0.22.2.post1)\n",
      "Requirement already satisfied: scipy>=0.9 in /usr/local/lib/python3.7/dist-packages (from scikit-plot) (1.4.1)\n",
      "Requirement already satisfied: joblib>=0.10 in /usr/local/lib/python3.7/dist-packages (from scikit-plot) (1.0.1)\n",
      "Requirement already satisfied: numpy>=1.11 in /usr/local/lib/python3.7/dist-packages (from matplotlib>=1.4.0->scikit-plot) (1.19.5)\n",
      "Requirement already satisfied: kiwisolver>=1.0.1 in /usr/local/lib/python3.7/dist-packages (from matplotlib>=1.4.0->scikit-plot) (1.3.1)\n",
      "Requirement already satisfied: cycler>=0.10 in /usr/local/lib/python3.7/dist-packages (from matplotlib>=1.4.0->scikit-plot) (0.10.0)\n",
      "Requirement already satisfied: python-dateutil>=2.1 in /usr/local/lib/python3.7/dist-packages (from matplotlib>=1.4.0->scikit-plot) (2.8.1)\n",
      "Requirement already satisfied: pyparsing!=2.0.4,!=2.1.2,!=2.1.6,>=2.0.1 in /usr/local/lib/python3.7/dist-packages (from matplotlib>=1.4.0->scikit-plot) (2.4.7)\n",
      "Requirement already satisfied: six in /usr/local/lib/python3.7/dist-packages (from cycler>=0.10->matplotlib>=1.4.0->scikit-plot) (1.15.0)\n"
     ]
    }
   ],
   "source": [
    "!pip install scikit-plot"
   ]
  },
  {
   "cell_type": "code",
   "execution_count": null,
   "metadata": {
    "id": "9gq2XjjlhWbH"
   },
   "outputs": [],
   "source": [
    "#Importing the required libraries\n",
    "import numpy as np\n",
    "import warnings\n",
    "warnings.filterwarnings(\"ignore\")\n",
    "\n",
    "import scikitplot as skplt\n",
    "from sklearn.metrics import classification_report,confusion_matrix,balanced_accuracy_score"
   ]
  },
  {
   "cell_type": "code",
   "execution_count": null,
   "metadata": {
    "colab": {
     "base_uri": "https://localhost:8080/"
    },
    "executionInfo": {
     "elapsed": 13,
     "status": "ok",
     "timestamp": 1624040955219,
     "user": {
      "displayName": "Nakul Chamariya",
      "photoUrl": "https://lh3.googleusercontent.com/a-/AOh14GiaaA3CEhDPpMN9iKjN0cdb6HXS25MHPJCRZ9y5WA=s64",
      "userId": "14936028262101279399"
     },
     "user_tz": -330
    },
    "id": "-QpVzI-0ZWT3",
    "outputId": "85e21d37-eced-4fdb-c8ab-069fda4e1df0"
   },
   "outputs": [
    {
     "data": {
      "text/plain": [
       "array([ 0,  2,  3,  4,  5,  6,  7,  8,  9, 10, 11, 12, 13, 14, 15, 16, 17,\n",
       "       18, 19, 20, 21, 22, 23, 24, 25, 26, 27, 28, 29, 30, 31, 32, 33, 34,\n",
       "       35, 36, 37, 38, 39, 40, 41, 42, 43, 44, 45, 46, 47, 48, 49, 50, 51,\n",
       "       52, 53, 54], dtype=int32)"
      ]
     },
     "execution_count": 35,
     "metadata": {
      "tags": []
     },
     "output_type": "execute_result"
    }
   ],
   "source": [
    "import numpy as np\n",
    "np.unique(y_train)"
   ]
  },
  {
   "cell_type": "code",
   "execution_count": null,
   "metadata": {
    "id": "KNXr0Aec8A32"
   },
   "outputs": [],
   "source": [
    "output_vec = 300\n",
    "vocab_size = len(word_tokenizer.word_index) + 1\n",
    "max_len = 21"
   ]
  },
  {
   "cell_type": "code",
   "execution_count": null,
   "metadata": {
    "id": "Np046m3q7ioR"
   },
   "outputs": [],
   "source": [
    "encoder_inputs_placeholder = tf.keras.layers.Input(shape=(max_len,))\n",
    "x = tf.keras.layers.Embedding(input_dim = vocab_size, output_dim = output_vec)(encoder_inputs_placeholder)\n",
    "encoder = tf.keras.layers.LSTM(256, return_sequences=True, return_state=True)\n",
    "\n",
    "encoder_outputs, h, c = encoder(x)\n",
    "encoder_states = [h, c]"
   ]
  },
  {
   "cell_type": "code",
   "execution_count": null,
   "metadata": {
    "id": "jD4OuzxIaH77"
   },
   "outputs": [],
   "source": [
    "output_vec = 300\n",
    "vocab_size = len(tag_tokenizer.word_index) + 3\n",
    "num_classes = max(np.unique(y_train))\n",
    "max_len = 120"
   ]
  },
  {
   "cell_type": "code",
   "execution_count": null,
   "metadata": {
    "id": "lgLhQhx17irO"
   },
   "outputs": [],
   "source": [
    "decoder_inputs_placeholder = tf.keras.layers.Input(shape=(max_len,))\n",
    "\n",
    "decoder_embedding = tf.keras.layers.Embedding(input_dim = vocab_size, output_dim = output_vec)\n",
    "decoder_inputs_x = decoder_embedding(decoder_inputs_placeholder)\n",
    "\n",
    "decoder_lstm = tf.keras.layers.LSTM(256, return_sequences=True, return_state=True)\n",
    "decoder_outputs, _, _ = decoder_lstm(decoder_inputs_x, initial_state=encoder_states)\n",
    "\n",
    "attention = tf.keras.layers.AdditiveAttention()\n",
    "attn_out = attention([decoder_outputs, encoder_outputs])\n",
    "decoder_outputs = tf.keras.layers.Concatenate(axis=-1)([decoder_outputs, attn_out])\n",
    "\n",
    "decoder_dense = tf.keras.layers.TimeDistributed(tf.keras.layers.Dense(num_classes + 1, activation = tf.nn.softmax))\n",
    "decoder_final_outputs = decoder_dense(decoder_outputs)"
   ]
  },
  {
   "cell_type": "code",
   "execution_count": null,
   "metadata": {
    "id": "fF0d6HLx7it_"
   },
   "outputs": [],
   "source": [
    "model = tf.keras.Model(inputs = [encoder_inputs_placeholder,decoder_inputs_placeholder], outputs = decoder_final_outputs)"
   ]
  },
  {
   "cell_type": "code",
   "execution_count": null,
   "metadata": {
    "colab": {
     "base_uri": "https://localhost:8080/",
     "height": 754
    },
    "executionInfo": {
     "elapsed": 11,
     "status": "ok",
     "timestamp": 1624040960994,
     "user": {
      "displayName": "Nakul Chamariya",
      "photoUrl": "https://lh3.googleusercontent.com/a-/AOh14GiaaA3CEhDPpMN9iKjN0cdb6HXS25MHPJCRZ9y5WA=s64",
      "userId": "14936028262101279399"
     },
     "user_tz": -330
    },
    "id": "wPW8Ca60WK4Q",
    "outputId": "8afa7c81-f3f0-4871-cafd-ce19d788f060"
   },
   "outputs": [
    {
     "data": {
      "image/png": "[encoded data removed]",
      "text/plain": [
       "<IPython.core.display.Image object>"
      ]
     },
     "execution_count": 41,
     "metadata": {
      "tags": []
     },
     "output_type": "execute_result"
    }
   ],
   "source": [
    "from tensorflow.keras.utils import plot_model\n",
    "plot_model(model, 'model.png', show_shapes=True)"
   ]
  },
  {
   "cell_type": "code",
   "execution_count": null,
   "metadata": {
    "colab": {
     "base_uri": "https://localhost:8080/"
    },
    "executionInfo": {
     "elapsed": 8,
     "status": "ok",
     "timestamp": 1624040961568,
     "user": {
      "displayName": "Nakul Chamariya",
      "photoUrl": "https://lh3.googleusercontent.com/a-/AOh14GiaaA3CEhDPpMN9iKjN0cdb6HXS25MHPJCRZ9y5WA=s64",
      "userId": "14936028262101279399"
     },
     "user_tz": -330
    },
    "id": "-xuFaxJ2WQLB",
    "outputId": "2b8f96ef-1969-4057-c171-f81294042319"
   },
   "outputs": [
    {
     "name": "stdout",
     "output_type": "stream",
     "text": [
      "Model: \"model\"\n",
      "__________________________________________________________________________________________________\n",
      "Layer (type)                    Output Shape         Param #     Connected to                     \n",
      "==================================================================================================\n",
      "input_1 (InputLayer)            [(None, 21)]         0                                            \n",
      "__________________________________________________________________________________________________\n",
      "input_2 (InputLayer)            [(None, 120)]        0                                            \n",
      "__________________________________________________________________________________________________\n",
      "embedding (Embedding)           (None, 21, 300)      12300       input_1[0][0]                    \n",
      "__________________________________________________________________________________________________\n",
      "embedding_1 (Embedding)         (None, 120, 300)     16500       input_2[0][0]                    \n",
      "__________________________________________________________________________________________________\n",
      "lstm (LSTM)                     [(None, 21, 256), (N 570368      embedding[0][0]                  \n",
      "__________________________________________________________________________________________________\n",
      "lstm_1 (LSTM)                   [(None, 120, 256), ( 570368      embedding_1[0][0]                \n",
      "                                                                 lstm[0][1]                       \n",
      "                                                                 lstm[0][2]                       \n",
      "__________________________________________________________________________________________________\n",
      "additive_attention (AdditiveAtt (None, 120, 256)     256         lstm_1[0][0]                     \n",
      "                                                                 lstm[0][0]                       \n",
      "__________________________________________________________________________________________________\n",
      "concatenate (Concatenate)       (None, 120, 512)     0           lstm_1[0][0]                     \n",
      "                                                                 additive_attention[0][0]         \n",
      "__________________________________________________________________________________________________\n",
      "time_distributed (TimeDistribut (None, 120, 55)      28215       concatenate[0][0]                \n",
      "==================================================================================================\n",
      "Total params: 1,198,007\n",
      "Trainable params: 1,198,007\n",
      "Non-trainable params: 0\n",
      "__________________________________________________________________________________________________\n"
     ]
    }
   ],
   "source": [
    "model.summary()"
   ]
  },
  {
   "cell_type": "code",
   "execution_count": null,
   "metadata": {
    "id": "tzNidW-C4sUH"
   },
   "outputs": [],
   "source": [
    "from sklearn.metrics import confusion_matrix\n",
    "import numpy as np\n",
    "import time\n",
    "\n",
    "def balanced_accuracy(y_true, y_pred):\n",
    "  y_true = y_true.numpy()\n",
    "  y_pred = y_pred.numpy()\n",
    "  y_pred = np.argmax(y_pred,axis=-1)\n",
    "\n",
    "  y_true = y_true.ravel()\n",
    "  y_pred = y_pred.ravel()\n",
    "\n",
    "  #Here we will remove the padded zeroes since they will increase the balanced accuracy\n",
    "  #You can also remove tokens corresponding to punctuation like ',' or '!' since there output is not useful\n",
    "  y_true = np.trim_zeros(y_true, 'b')  \n",
    "  y_true = np.append(y_true,0)\n",
    "  y_pred = y_pred[:(y_true.shape[0])]\n",
    "\n",
    "  num_classes = len(np.unique(y_true))\n",
    "\n",
    "  cm = confusion_matrix(y_true, y_pred).T\n",
    "  balanced_accuracy = 0\n",
    "  for i in range(num_classes):\n",
    "    num = cm[i,i]\n",
    "    den = np.sum(cm[:,i])\n",
    "    if num == 0 :\n",
    "      acc = 0\n",
    "    else:\n",
    "      acc = num / den\n",
    "    balanced_accuracy += acc\n",
    "\n",
    "  return (balanced_accuracy / num_classes)"
   ]
  },
  {
   "cell_type": "code",
   "execution_count": null,
   "metadata": {
    "id": "wgijskVbpoPM"
   },
   "outputs": [],
   "source": [
    "model.compile(optimizer = tf.keras.optimizers.Adam(learning_rate = 0.001), \n",
    "              loss = tf.keras.losses.sparse_categorical_crossentropy, #binary_crossentropy\n",
    "              metrics = balanced_accuracy, run_eagerly=True ) #tf.keras.metrics.CategoricalAccuracy()"
   ]
  },
  {
   "cell_type": "code",
   "execution_count": null,
   "metadata": {
    "id": "enc8r_uwJ23t"
   },
   "outputs": [],
   "source": [
    "batch_size = 32\n",
    "steps_per_epoch = len(X_train) // batch_size\n",
    "validation_batch_size = 32\n",
    "validation_steps = len(X_test) // validation_batch_size"
   ]
  },
  {
   "cell_type": "code",
   "execution_count": null,
   "metadata": {
    "id": "jz3wiz1B9WFL"
   },
   "outputs": [],
   "source": [
    "callback = tf.keras.callbacks.EarlyStopping(\n",
    "    monitor='val_balanced_accuracy', min_delta=0, patience=3,\n",
    "    mode='max', baseline=None, restore_best_weights=True\n",
    ")"
   ]
  },
  {
   "cell_type": "code",
   "execution_count": null,
   "metadata": {
    "colab": {
     "base_uri": "https://localhost:8080/"
    },
    "executionInfo": {
     "elapsed": 8489960,
     "status": "ok",
     "timestamp": 1624049488178,
     "user": {
      "displayName": "Nakul Chamariya",
      "photoUrl": "https://lh3.googleusercontent.com/a-/AOh14GiaaA3CEhDPpMN9iKjN0cdb6HXS25MHPJCRZ9y5WA=s64",
      "userId": "14936028262101279399"
     },
     "user_tz": -330
    },
    "id": "BxPREQdpMOjO",
    "outputId": "94e52165-82a6-4696-f547-7e702a030d8f"
   },
   "outputs": [
    {
     "name": "stdout",
     "output_type": "stream",
     "text": [
      "Epoch 1/25\n",
      "1250/1250 [==============================] - 348s 279ms/step - loss: 0.3450 - balanced_accuracy: 0.2913 - val_loss: 0.2548 - val_balanced_accuracy: 0.4097\n",
      "Epoch 2/25\n",
      "1250/1250 [==============================] - 321s 256ms/step - loss: 0.2223 - balanced_accuracy: 0.4675 - val_loss: 0.1963 - val_balanced_accuracy: 0.5209\n",
      "Epoch 3/25\n",
      "1250/1250 [==============================] - 350s 280ms/step - loss: 0.1801 - balanced_accuracy: 0.5491 - val_loss: 0.1688 - val_balanced_accuracy: 0.5799\n",
      "Epoch 4/25\n",
      "1250/1250 [==============================] - 348s 279ms/step - loss: 0.1561 - balanced_accuracy: 0.6032 - val_loss: 0.1521 - val_balanced_accuracy: 0.6176\n",
      "Epoch 5/25\n",
      "1250/1250 [==============================] - 325s 260ms/step - loss: 0.1396 - balanced_accuracy: 0.6416 - val_loss: 0.1417 - val_balanced_accuracy: 0.6398\n",
      "Epoch 6/25\n",
      "1250/1250 [==============================] - 352s 281ms/step - loss: 0.1271 - balanced_accuracy: 0.6715 - val_loss: 0.1338 - val_balanced_accuracy: 0.6625\n",
      "Epoch 7/25\n",
      "1250/1250 [==============================] - 352s 282ms/step - loss: 0.1173 - balanced_accuracy: 0.6964 - val_loss: 0.1283 - val_balanced_accuracy: 0.6753\n",
      "Epoch 8/25\n",
      "1250/1250 [==============================] - 357s 286ms/step - loss: 0.1091 - balanced_accuracy: 0.7150 - val_loss: 0.1251 - val_balanced_accuracy: 0.6904\n",
      "Epoch 9/25\n",
      "1250/1250 [==============================] - 355s 284ms/step - loss: 0.1023 - balanced_accuracy: 0.7321 - val_loss: 0.1225 - val_balanced_accuracy: 0.7035\n",
      "Epoch 10/25\n",
      "1250/1250 [==============================] - 329s 263ms/step - loss: 0.0963 - balanced_accuracy: 0.7474 - val_loss: 0.1205 - val_balanced_accuracy: 0.7108\n",
      "Epoch 11/25\n",
      "1250/1250 [==============================] - 325s 260ms/step - loss: 0.0911 - balanced_accuracy: 0.7617 - val_loss: 0.1197 - val_balanced_accuracy: 0.7147\n",
      "Epoch 12/25\n",
      "1250/1250 [==============================] - 325s 260ms/step - loss: 0.0867 - balanced_accuracy: 0.7716 - val_loss: 0.1185 - val_balanced_accuracy: 0.7217\n",
      "Epoch 13/25\n",
      "1250/1250 [==============================] - 328s 263ms/step - loss: 0.0824 - balanced_accuracy: 0.7824 - val_loss: 0.1183 - val_balanced_accuracy: 0.7243\n",
      "Epoch 14/25\n",
      "1250/1250 [==============================] - 330s 264ms/step - loss: 0.0788 - balanced_accuracy: 0.7915 - val_loss: 0.1187 - val_balanced_accuracy: 0.7208\n",
      "Epoch 15/25\n",
      "1250/1250 [==============================] - 328s 263ms/step - loss: 0.0755 - balanced_accuracy: 0.7994 - val_loss: 0.1186 - val_balanced_accuracy: 0.7258\n",
      "Epoch 16/25\n",
      "1250/1250 [==============================] - 329s 263ms/step - loss: 0.0725 - balanced_accuracy: 0.8059 - val_loss: 0.1193 - val_balanced_accuracy: 0.7265\n",
      "Epoch 17/25\n",
      "1250/1250 [==============================] - 355s 284ms/step - loss: 0.0697 - balanced_accuracy: 0.8122 - val_loss: 0.1201 - val_balanced_accuracy: 0.7228\n",
      "Epoch 18/25\n",
      "1250/1250 [==============================] - 329s 263ms/step - loss: 0.0672 - balanced_accuracy: 0.8185 - val_loss: 0.1211 - val_balanced_accuracy: 0.7307\n",
      "Epoch 19/25\n",
      "1250/1250 [==============================] - 328s 262ms/step - loss: 0.0649 - balanced_accuracy: 0.8236 - val_loss: 0.1219 - val_balanced_accuracy: 0.7312\n",
      "Epoch 20/25\n",
      "1250/1250 [==============================] - 357s 285ms/step - loss: 0.0628 - balanced_accuracy: 0.8302 - val_loss: 0.1236 - val_balanced_accuracy: 0.7316\n",
      "Epoch 21/25\n",
      "1250/1250 [==============================] - 356s 285ms/step - loss: 0.0608 - balanced_accuracy: 0.8340 - val_loss: 0.1243 - val_balanced_accuracy: 0.7284\n",
      "Epoch 22/25\n",
      "1250/1250 [==============================] - 330s 264ms/step - loss: 0.0591 - balanced_accuracy: 0.8381 - val_loss: 0.1250 - val_balanced_accuracy: 0.7288\n",
      "Epoch 23/25\n",
      "1250/1250 [==============================] - 326s 261ms/step - loss: 0.0573 - balanced_accuracy: 0.8424 - val_loss: 0.1264 - val_balanced_accuracy: 0.7326\n",
      "Epoch 24/25\n",
      "1250/1250 [==============================] - 352s 282ms/step - loss: 0.0558 - balanced_accuracy: 0.8458 - val_loss: 0.1272 - val_balanced_accuracy: 0.7325\n",
      "Epoch 25/25\n",
      "1250/1250 [==============================] - 353s 283ms/step - loss: 0.0545 - balanced_accuracy: 0.8494 - val_loss: 0.1288 - val_balanced_accuracy: 0.7282\n",
      "\n",
      "Training time(sec) =  8489.549402713776\n"
     ]
    }
   ],
   "source": [
    "start_time = time.time()\n",
    "\n",
    "result = model.fit([X_train, y_train],\n",
    "                   decoder_train,\n",
    "                   validation_data = ([X_test, y_test], decoder_test), \n",
    "                   callbacks=[callback],\n",
    "                   epochs = 25,\n",
    "                   batch_size = batch_size,\n",
    "                   steps_per_epoch = steps_per_epoch, \n",
    "                   validation_batch_size = validation_batch_size,\n",
    "                   validation_steps = validation_steps\n",
    "                   )\n",
    "\n",
    "model_time = (time.time() - start_time)\n",
    "print('\\nTraining time(sec) = ',model_time)"
   ]
  },
  {
   "cell_type": "code",
   "execution_count": null,
   "metadata": {
    "colab": {
     "base_uri": "https://localhost:8080/",
     "height": 281
    },
    "executionInfo": {
     "elapsed": 452,
     "status": "ok",
     "timestamp": 1624049514954,
     "user": {
      "displayName": "Nakul Chamariya",
      "photoUrl": "https://lh3.googleusercontent.com/a-/AOh14GiaaA3CEhDPpMN9iKjN0cdb6HXS25MHPJCRZ9y5WA=s64",
      "userId": "14936028262101279399"
     },
     "user_tz": -330
    },
    "id": "172XEQelhVua",
    "outputId": "7f50c5c5-3557-49a1-e490-d7659f2ed67f"
   },
   "outputs": [
    {
     "data": {
      "image/png": "[encoded data removed]",
      "text/plain": [
       "<Figure size 432x288 with 1 Axes>"
      ]
     },
     "metadata": {
      "needs_background": "light",
      "tags": []
     },
     "output_type": "display_data"
    }
   ],
   "source": [
    "plt.plot(result.history['loss'] , label = 'train_loss')\n",
    "plt.plot(result.history['val_loss'] , label = 'val_loss')\n",
    "plt.title('Train_loss vs Val_loss')\n",
    "plt.legend()\n",
    "plt.show()"
   ]
  },
  {
   "cell_type": "code",
   "execution_count": null,
   "metadata": {
    "colab": {
     "base_uri": "https://localhost:8080/",
     "height": 281
    },
    "executionInfo": {
     "elapsed": 867,
     "status": "ok",
     "timestamp": 1624049517398,
     "user": {
      "displayName": "Nakul Chamariya",
      "photoUrl": "https://lh3.googleusercontent.com/a-/AOh14GiaaA3CEhDPpMN9iKjN0cdb6HXS25MHPJCRZ9y5WA=s64",
      "userId": "14936028262101279399"
     },
     "user_tz": -330
    },
    "id": "B89luXcbhV0J",
    "outputId": "ddd0082b-8ee1-4a04-d6cc-1b741ccb3b51"
   },
   "outputs": [
    {
     "data": {
      "image/png": "[encoded data removed]",
      "text/plain": [
       "<Figure size 432x288 with 1 Axes>"
      ]
     },
     "metadata": {
      "needs_background": "light",
      "tags": []
     },
     "output_type": "display_data"
    }
   ],
   "source": [
    "plt.plot(result.history['balanced_accuracy'] , label = 'train_balanced_accuracy')\n",
    "plt.plot(result.history['val_balanced_accuracy'] , label = 'val_balanced_accuracy')\n",
    "plt.title('Train_balanced_accuracy vs Val_balanced_accuracy')\n",
    "plt.legend()\n",
    "plt.show()"
   ]
  },
  {
   "cell_type": "code",
   "execution_count": null,
   "metadata": {
    "colab": {
     "base_uri": "https://localhost:8080/",
     "height": 1000
    },
    "executionInfo": {
     "elapsed": 100389,
     "status": "ok",
     "timestamp": 1624049619662,
     "user": {
      "displayName": "Nakul Chamariya",
      "photoUrl": "https://lh3.googleusercontent.com/a-/AOh14GiaaA3CEhDPpMN9iKjN0cdb6HXS25MHPJCRZ9y5WA=s64",
      "userId": "14936028262101279399"
     },
     "user_tz": -330
    },
    "id": "FVP-Z6E1J-6X",
    "outputId": "d7afcf34-376d-4102-eea4-9440d70d07b9"
   },
   "outputs": [
    {
     "name": "stdout",
     "output_type": "stream",
     "text": [
      "Prediction time(sec) =  10.368372917175293\n",
      "1250/1250 [==============================] - 29s 23ms/step - loss: 0.0000e+00 - balanced_accuracy: 0.0000e+00\n",
      "313/313 [==============================] - 10s 31ms/step - loss: 0.0000e+00 - balanced_accuracy: 0.0000e+00\n",
      "\n",
      "\n",
      "Training score =  0.8599436810447737\n",
      "Tesing score =  0.5737232383136807\n",
      "\n",
      "\n",
      "No of missclassified for class 0 (test data) = 0 \n",
      "No of missclassified for class 1 (test data) = 1 \n",
      "No of missclassified for class 2 (test data) = 2409 \n",
      "No of missclassified for class 3 (test data) = 4316 \n",
      "No of missclassified for class 4 (test data) = 2935 \n",
      "No of missclassified for class 5 (test data) = 2146 \n",
      "No of missclassified for class 6 (test data) = 1938 \n",
      "No of missclassified for class 7 (test data) = 3076 \n",
      "No of missclassified for class 8 (test data) = 1360 \n",
      "No of missclassified for class 9 (test data) = 2375 \n",
      "No of missclassified for class 10 (test data) = 1863 \n",
      "No of missclassified for class 11 (test data) = 994 \n",
      "No of missclassified for class 12 (test data) = 1311 \n",
      "No of missclassified for class 13 (test data) = 1564 \n",
      "No of missclassified for class 14 (test data) = 1384 \n",
      "No of missclassified for class 15 (test data) = 927 \n",
      "No of missclassified for class 16 (test data) = 1329 \n",
      "No of missclassified for class 17 (test data) = 1559 \n",
      "No of missclassified for class 18 (test data) = 1254 \n",
      "No of missclassified for class 19 (test data) = 1113 \n",
      "No of missclassified for class 20 (test data) = 825 \n",
      "No of missclassified for class 21 (test data) = 819 \n",
      "No of missclassified for class 22 (test data) = 641 \n",
      "No of missclassified for class 23 (test data) = 361 \n",
      "No of missclassified for class 24 (test data) = 631 \n",
      "No of missclassified for class 25 (test data) = 422 \n",
      "No of missclassified for class 26 (test data) = 296 \n",
      "No of missclassified for class 27 (test data) = 240 \n",
      "No of missclassified for class 28 (test data) = 56 \n",
      "No of missclassified for class 29 (test data) = 150 \n",
      "No of missclassified for class 30 (test data) = 49 \n",
      "No of missclassified for class 31 (test data) = 38 \n",
      "No of missclassified for class 32 (test data) = 9 \n",
      "No of missclassified for class 33 (test data) = 0 \n",
      "No of missclassified for class 34 (test data) = 1 \n",
      "No of missclassified for class 35 (test data) = 4 \n",
      "No of missclassified for class 36 (test data) = 5 \n",
      "No of missclassified for class 37 (test data) = 1 \n",
      "No of missclassified for class 38 (test data) = 7 \n",
      "No of missclassified for class 39 (test data) = 7 \n",
      "No of missclassified for class 40 (test data) = 0 \n",
      "No of missclassified for class 41 (test data) = 4 \n",
      "No of missclassified for class 42 (test data) = 3 \n",
      "No of missclassified for class 43 (test data) = 2 \n",
      "No of missclassified for class 44 (test data) = 3 \n",
      "No of missclassified for class 45 (test data) = 2 \n",
      "No of missclassified for class 46 (test data) = 1 \n",
      "No of missclassified for class 47 (test data) = 1 \n",
      "No of missclassified for class 48 (test data) = 3 \n",
      "No of missclassified for class 49 (test data) = 1302 \n",
      "Total no of missclassified points(test data) =  39737\n",
      "Total % of missclassified points(test data) =  0.03311416666666667\n",
      "\n",
      "\n",
      "Training log_loss =  0.0\n",
      "Tesing log_loss =  0.0\n",
      "\n",
      "\n",
      "{'padding': 0, '<OOV>': 1, ' ': 2, 'e': 3, 'i': 4, 'n': 5, 't': 6, 's': 7, 'h': 8, 'a': 9, 'r': 10, 'c': 11, 'm': 12, 'd': 13, 'u': 14, 'o': 15, 'l': 16, 'g': 17, 'b': 18, 'w': 19, 'f': 20, 'k': 21, 'z': 22, 'ü': 23, 'v': 24, 'p': 25, 'ä': 26, 'ö': 27, 'ß': 28, 'j': 29, 'y': 30, '’': 31, 'x': 32, '0': 33, '3': 34, '1': 35, 'q': 36, '2': 37, '„': 38, '“': 39, '8': 40, '9': 41, '\\xa0': 42, '5': 43, '6': 44, '7': 45, '4': 46, '\\u200b': 47, 'ō': 48, 'á': 49, '—': 50, '–': 51, '\\u202f': 52}\n",
      "\n",
      "\n",
      "Confusion matrix:\n"
     ]
    },
    {
     "data": {
      "image/png": "[encoded data removed]",
      "text/plain": [
       "<Figure size 1800x1800 with 2 Axes>"
      ]
     },
     "metadata": {
      "needs_background": "light",
      "tags": []
     },
     "output_type": "display_data"
    },
    {
     "name": "stdout",
     "output_type": "stream",
     "text": [
      "\n",
      "\n",
      "Classification report:-\n",
      "\n",
      "              precision    recall  f1-score   support\n",
      "\n",
      "           0       1.00      1.00      1.00    977157\n",
      "           1       0.00      0.00      0.00         1\n",
      "           2       0.92      0.92      0.92     30466\n",
      "           3       0.80      0.83      0.81     25765\n",
      "           4       0.83      0.84      0.83     18160\n",
      "           5       0.85      0.85      0.85     14758\n",
      "           6       0.87      0.87      0.87     14584\n",
      "           7       0.76      0.78      0.77     14007\n",
      "           8       0.86      0.89      0.88     12734\n",
      "           9       0.74      0.78      0.76     10676\n",
      "          10       0.84      0.83      0.83     10647\n",
      "          11       0.91      0.87      0.89      7944\n",
      "          12       0.82      0.81      0.81      7017\n",
      "          13       0.76      0.75      0.76      6188\n",
      "          14       0.79      0.76      0.77      5693\n",
      "          15       0.84      0.81      0.83      4962\n",
      "          16       0.74      0.74      0.74      5029\n",
      "          17       0.72      0.68      0.70      4846\n",
      "          18       0.70      0.69      0.69      3981\n",
      "          19       0.78      0.71      0.74      3840\n",
      "          20       0.71      0.68      0.69      2595\n",
      "          21       0.68      0.66      0.67      2438\n",
      "          22       0.67      0.60      0.63      1618\n",
      "          23       0.70      0.62      0.66       950\n",
      "          24       0.53      0.34      0.42       959\n",
      "          25       0.60      0.51      0.55       855\n",
      "          26       0.68      0.53      0.59       624\n",
      "          27       0.74      0.61      0.67       611\n",
      "          28       0.87      0.84      0.86       354\n",
      "          29       0.72      0.52      0.60       312\n",
      "          30       0.63      0.41      0.50        83\n",
      "          31       0.38      0.07      0.12        41\n",
      "          32       0.74      0.61      0.67        23\n",
      "          33       0.75      1.00      0.86        12\n",
      "          34       1.00      0.88      0.93         8\n",
      "          35       0.62      0.56      0.59         9\n",
      "          36       0.50      0.17      0.25         6\n",
      "          37       0.62      0.83      0.71         6\n",
      "          38       0.50      0.22      0.31         9\n",
      "          39       0.50      0.22      0.31         9\n",
      "          40       0.40      1.00      0.57         2\n",
      "          41       0.50      0.20      0.29         5\n",
      "          42       0.00      0.00      0.00         3\n",
      "          43       1.00      0.33      0.50         3\n",
      "          44       0.00      0.00      0.00         3\n",
      "          45       0.00      0.00      0.00         2\n",
      "          46       0.00      0.00      0.00         1\n",
      "          51       0.00      0.00      0.00         1\n",
      "          52       0.00      0.00      0.00         3\n",
      "          54       0.85      0.87      0.86     10000\n",
      "\n",
      "    accuracy                           0.97   1200000\n",
      "   macro avg       0.63      0.57      0.59   1200000\n",
      "weighted avg       0.97      0.97      0.97   1200000\n",
      "\n",
      "**************************************************************************\n"
     ]
    }
   ],
   "source": [
    "def print_results(y_train,y_test,decoder_train,decoder_test):\n",
    "  y_pred1 = model.predict([X_train, y_train])\n",
    "  y_pred1 = np.argmax(y_pred1, axis=2)\n",
    "\n",
    "  start_time = time.time()\n",
    "  y_pred = model.predict([X_test, y_test])\n",
    "  y_pred = np.argmax(y_pred, axis=2)\n",
    "  model_time2 = (time.time() - start_time)\n",
    "  print('Prediction time(sec) = ',model_time2)\n",
    "\n",
    "  decoder_train = decoder_train.ravel()\n",
    "  decoder_test = decoder_test.ravel()\n",
    "  y_pred1 = y_pred1.ravel()\n",
    "  y_pred = y_pred.ravel()\n",
    "\n",
    "  cm_model = confusion_matrix(decoder_test, y_pred)\n",
    "  model_miss = np.sum(y_pred!=decoder_test.ravel())\n",
    "  acc1_model = balanced_accuracy_score(decoder_train,y_pred1)\n",
    "  acc2_model = balanced_accuracy_score(decoder_test,y_pred)\n",
    "\n",
    "  loss1_model = model.evaluate([X_train, y_train])[0]\n",
    "  loss2_model = model.evaluate([X_test, y_test])[0]\n",
    "\n",
    "  print('\\n\\nTraining score = ',acc1_model)\n",
    "  print('Tesing score = ',acc2_model)\n",
    "  print('\\n')\n",
    "\n",
    "  label = list(tag_tokenizer.word_index.values())\n",
    "  label.insert(0,0)\n",
    "  for i in range(len(np.unique(decoder_test))):\n",
    "      err = np.sum(cm_model[i])-cm_model[i][i]\n",
    "      print('No of missclassified for class {} (test data) = {} '.format(label[i],err))\n",
    "  print('Total no of missclassified points(test data) = ',model_miss)\n",
    "  print('Total % of missclassified points(test data) = ',model_miss/len(decoder_test))\n",
    "  print('\\n\\nTraining log_loss = ',loss1_model)\n",
    "  print('Tesing log_loss = ',loss2_model)\n",
    "\n",
    "  print('\\n')\n",
    "  tags = tag_tokenizer.word_index\n",
    "  tags['padding'] = 0\n",
    "  print(dict(sorted(tags.items(), key=lambda x:x[1])))\n",
    "  print('\\n\\nConfusion matrix:')\n",
    "  skplt.metrics.plot_confusion_matrix(decoder_test, y_pred , figsize = (25,25),normalize=True)\n",
    "  plt.show()\n",
    "  print('\\n\\nClassification report:-\\n')\n",
    "  print(classification_report(decoder_test,y_pred))\n",
    "  print('**************************************************************************')\n",
    "\n",
    "  # RNN = [acc1_model,acc2_model,model_miss,model_miss/len(decoder_test),loss1_model,loss2_model,model_time,model_time2]\n",
    "\n",
    "print_results(y_train,y_test,decoder_train,decoder_test)"
   ]
  },
  {
   "cell_type": "code",
   "execution_count": null,
   "metadata": {
    "colab": {
     "base_uri": "https://localhost:8080/"
    },
    "executionInfo": {
     "elapsed": 357,
     "status": "ok",
     "timestamp": 1624049629291,
     "user": {
      "displayName": "Nakul Chamariya",
      "photoUrl": "https://lh3.googleusercontent.com/a-/AOh14GiaaA3CEhDPpMN9iKjN0cdb6HXS25MHPJCRZ9y5WA=s64",
      "userId": "14936028262101279399"
     },
     "user_tz": -330
    },
    "id": "BkbyoPvDLoLt",
    "outputId": "f3e7dea3-3c53-4533-ef76-5006f1fc82cd"
   },
   "outputs": [
    {
     "name": "stdout",
     "output_type": "stream",
     "text": [
      "(40000, 120)\n",
      "(10000, 120)\n",
      "\n",
      "(40000, 120)\n",
      "(10000, 120)\n"
     ]
    }
   ],
   "source": [
    "print(y_train.shape)\n",
    "print(y_test.shape)\n",
    "print()\n",
    "print(decoder_train.shape)\n",
    "print(decoder_test.shape)"
   ]
  },
  {
   "cell_type": "code",
   "execution_count": null,
   "metadata": {
    "id": "mK2IFgEYfVyl"
   },
   "outputs": [],
   "source": [
    "encoder_results = [encoder_outputs, h, c]\n",
    "encoder_model = tf.keras.Model(inputs = encoder_inputs_placeholder, outputs = encoder_results)"
   ]
  },
  {
   "cell_type": "code",
   "execution_count": null,
   "metadata": {
    "id": "szv8yeVwfV63"
   },
   "outputs": [],
   "source": [
    "decoder_inputs_single = tf.keras.layers.Input(shape=(1,))\n",
    "decoder_inputs_single_x = decoder_embedding(decoder_inputs_single)\n",
    "\n",
    "decoder_state_input_h = tf.keras.layers.Input(shape=(256,))\n",
    "decoder_state_input_c = tf.keras.layers.Input(shape=(256,))\n",
    "decoder_states_inputs = [decoder_state_input_h, decoder_state_input_c]\n",
    "\n",
    "decoder_outputs, h, c = decoder_lstm(decoder_inputs_single_x, initial_state = decoder_states_inputs)\n",
    "\n",
    "encoder_state_outputs = tf.keras.layers.Input(shape=(21,256,))\n",
    "attn_out = attention([decoder_outputs, encoder_state_outputs])\n",
    "decoder_outputs = tf.keras.layers.Concatenate(axis=-1)([decoder_outputs, attn_out])\n",
    "\n",
    "decoder_states = [h, c]\n",
    "decoder_final_outputs = decoder_dense(decoder_outputs)"
   ]
  },
  {
   "cell_type": "code",
   "execution_count": null,
   "metadata": {
    "id": "zVVhqUTQfWB4"
   },
   "outputs": [],
   "source": [
    "decoder_model = tf.keras.Model(inputs = [decoder_inputs_single] + decoder_states_inputs + [encoder_state_outputs], outputs = [decoder_final_outputs] + decoder_states)"
   ]
  },
  {
   "cell_type": "code",
   "execution_count": null,
   "metadata": {
    "colab": {
     "base_uri": "https://localhost:8080/",
     "height": 635
    },
    "executionInfo": {
     "elapsed": 8,
     "status": "ok",
     "timestamp": 1624049638198,
     "user": {
      "displayName": "Nakul Chamariya",
      "photoUrl": "https://lh3.googleusercontent.com/a-/AOh14GiaaA3CEhDPpMN9iKjN0cdb6HXS25MHPJCRZ9y5WA=s64",
      "userId": "14936028262101279399"
     },
     "user_tz": -330
    },
    "id": "SS0WkkcHfWF6",
    "outputId": "02c9258d-7221-459f-efd1-b659c0060ca6"
   },
   "outputs": [
    {
     "data": {
      "image/png": "[encoded data removed]",
      "text/plain": [
       "<IPython.core.display.Image object>"
      ]
     },
     "execution_count": 56,
     "metadata": {
      "tags": []
     },
     "output_type": "execute_result"
    }
   ],
   "source": [
    "plot_model(decoder_model, to_file='model_plot_dec.png', show_shapes=True, show_layer_names=True)"
   ]
  },
  {
   "cell_type": "code",
   "execution_count": null,
   "metadata": {
    "colab": {
     "base_uri": "https://localhost:8080/"
    },
    "executionInfo": {
     "elapsed": 5,
     "status": "ok",
     "timestamp": 1624049638803,
     "user": {
      "displayName": "Nakul Chamariya",
      "photoUrl": "https://lh3.googleusercontent.com/a-/AOh14GiaaA3CEhDPpMN9iKjN0cdb6HXS25MHPJCRZ9y5WA=s64",
      "userId": "14936028262101279399"
     },
     "user_tz": -330
    },
    "id": "i_SKITaEG7VC",
    "outputId": "9298ed4a-ca0c-4c9e-e2a5-e97c63823e8c"
   },
   "outputs": [
    {
     "name": "stdout",
     "output_type": "stream",
     "text": [
      "Model: \"model_2\"\n",
      "__________________________________________________________________________________________________\n",
      "Layer (type)                    Output Shape         Param #     Connected to                     \n",
      "==================================================================================================\n",
      "input_3 (InputLayer)            [(None, 1)]          0                                            \n",
      "__________________________________________________________________________________________________\n",
      "embedding_1 (Embedding)         multiple             16500       input_3[0][0]                    \n",
      "__________________________________________________________________________________________________\n",
      "input_4 (InputLayer)            [(None, 256)]        0                                            \n",
      "__________________________________________________________________________________________________\n",
      "input_5 (InputLayer)            [(None, 256)]        0                                            \n",
      "__________________________________________________________________________________________________\n",
      "lstm_1 (LSTM)                   multiple             570368      embedding_1[1][0]                \n",
      "                                                                 input_4[0][0]                    \n",
      "                                                                 input_5[0][0]                    \n",
      "__________________________________________________________________________________________________\n",
      "input_6 (InputLayer)            [(None, 21, 256)]    0                                            \n",
      "__________________________________________________________________________________________________\n",
      "additive_attention (AdditiveAtt multiple             256         lstm_1[1][0]                     \n",
      "                                                                 input_6[0][0]                    \n",
      "__________________________________________________________________________________________________\n",
      "concatenate_1 (Concatenate)     (None, 1, 512)       0           lstm_1[1][0]                     \n",
      "                                                                 additive_attention[1][0]         \n",
      "__________________________________________________________________________________________________\n",
      "time_distributed (TimeDistribut multiple             28215       concatenate_1[0][0]              \n",
      "==================================================================================================\n",
      "Total params: 615,339\n",
      "Trainable params: 615,339\n",
      "Non-trainable params: 0\n",
      "__________________________________________________________________________________________________\n"
     ]
    }
   ],
   "source": [
    "decoder_model.summary()"
   ]
  },
  {
   "cell_type": "code",
   "execution_count": null,
   "metadata": {
    "id": "_MJzxgr-HXR0"
   },
   "outputs": [],
   "source": [
    "import string\n",
    "import contractions\n",
    "\n",
    "def text_preprocess(s):\n",
    "  s = contractions.fix(s)\n",
    "  s = s.lower()\n",
    "  s = s.rstrip()\n",
    "  s = s.lstrip()\n",
    "\n",
    "  text = \"\"\n",
    "  for ch in s:\n",
    "    if ch not in string.punctuation:\n",
    "      text = text + ch\n",
    "  return text"
   ]
  },
  {
   "cell_type": "code",
   "execution_count": null,
   "metadata": {
    "id": "lDncQqseG8i-"
   },
   "outputs": [],
   "source": [
    "def translate_sentence(text, max_len, start_token, end_token, max_output_len, tags, word_tokenizer):\n",
    "  original_text = text\n",
    "  text = text_preprocess(text)\n",
    "\n",
    "  data = np.array(word_tokenizer.texts_to_sequences(text))\n",
    "  data = data.ravel()\n",
    "\n",
    "  data = tf.keras.preprocessing.sequence.pad_sequences(\n",
    "      [data], maxlen = max_len, padding = 'pre',\n",
    "      truncating='post', value=0.0 )\n",
    "  \n",
    "  target_seq = np.zeros((1, 1))\n",
    "  target_seq[0, 0] = start_token\n",
    "  target_seq = target_seq.ravel()\n",
    "\n",
    "  encoder_outputs, h, c = encoder_model.predict(data)\n",
    "  states_value = [h,c]\n",
    "  output_tokens, h, c = decoder_model.predict([target_seq] + states_value + [encoder_outputs])\n",
    "\n",
    "  output_sen = []\n",
    "  for _ in range(max_output_len):\n",
    "    output_tokens, h, c = decoder_model.predict([target_seq] + states_value + [encoder_outputs])\n",
    "    idx = np.argmax(output_tokens,axis=2).ravel()\n",
    "\n",
    "    if idx == end_token:\n",
    "      break\n",
    "    else:\n",
    "      output_sen.append(tags[idx[0]])\n",
    "\n",
    "    target_seq = np.zeros((1, 1))\n",
    "    target_seq[0, 0] = idx[0]\n",
    "    target_seq = target_seq.ravel()\n",
    "    states_value = [h, c]\n",
    "\n",
    "  return original_text,''.join(output_sen)"
   ]
  },
  {
   "cell_type": "code",
   "execution_count": null,
   "metadata": {
    "id": "M_ZryKZUKde3"
   },
   "outputs": [],
   "source": [
    "text = 'I am very Happy'\n",
    "max_len = 21\n",
    "start_token = 53\n",
    "end_token = 54\n",
    "max_output_len = 120\n",
    "\n",
    "tags_dict = tag_tokenizer.word_index\n",
    "tags_dict = dict([(value, key) for key, value in tags_dict.items()])"
   ]
  },
  {
   "cell_type": "code",
   "execution_count": null,
   "metadata": {
    "id": "hW_3yLKIK-OD"
   },
   "outputs": [],
   "source": [
    "text, output = translate_sentence(text, max_len, start_token, end_token, max_output_len, tags_dict, word_tokenizer) "
   ]
  },
  {
   "cell_type": "code",
   "execution_count": null,
   "metadata": {
    "colab": {
     "base_uri": "https://localhost:8080/",
     "height": 35
    },
    "executionInfo": {
     "elapsed": 5,
     "status": "ok",
     "timestamp": 1624049647290,
     "user": {
      "displayName": "Nakul Chamariya",
      "photoUrl": "https://lh3.googleusercontent.com/a-/AOh14GiaaA3CEhDPpMN9iKjN0cdb6HXS25MHPJCRZ9y5WA=s64",
      "userId": "14936028262101279399"
     },
     "user_tz": -330
    },
    "id": "as0gp-6cKlCL",
    "outputId": "10121232-652c-483e-a6e9-4c1cda12bbe9"
   },
   "outputs": [
    {
     "data": {
      "application/vnd.google.colaboratory.intrinsic+json": {
       "type": "string"
      },
      "text/plain": [
       "'I am very Happy'"
      ]
     },
     "execution_count": 62,
     "metadata": {
      "tags": []
     },
     "output_type": "execute_result"
    }
   ],
   "source": [
    "text"
   ]
  },
  {
   "cell_type": "code",
   "execution_count": null,
   "metadata": {
    "colab": {
     "base_uri": "https://localhost:8080/",
     "height": 35
    },
    "executionInfo": {
     "elapsed": 4,
     "status": "ok",
     "timestamp": 1624049647899,
     "user": {
      "displayName": "Nakul Chamariya",
      "photoUrl": "https://lh3.googleusercontent.com/a-/AOh14GiaaA3CEhDPpMN9iKjN0cdb6HXS25MHPJCRZ9y5WA=s64",
      "userId": "14936028262101279399"
     },
     "user_tz": -330
    },
    "id": "ipVbk7S1wgNc",
    "outputId": "9bbeaf4b-f5ce-4460-9c92-14f39199467d"
   },
   "outputs": [
    {
     "data": {
      "application/vnd.google.colaboratory.intrinsic+json": {
       "type": "string"
      },
      "text/plain": [
       "'ich bin sehr glücklich'"
      ]
     },
     "execution_count": 63,
     "metadata": {
      "tags": []
     },
     "output_type": "execute_result"
    }
   ],
   "source": [
    "output"
   ]
  },
  {
   "cell_type": "code",
   "execution_count": null,
   "metadata": {
    "id": "Kaor2kxvNyqY"
   },
   "outputs": [],
   "source": [
    "import pandas as pd\n",
    "\n",
    "def testing_model(X_test, y_test):\n",
    "  words = word_tokenizer.word_index\n",
    "  words = dict([(value, key) for key, value in words.items()])\n",
    "\n",
    "  tags = tag_tokenizer.word_index\n",
    "  tags = dict([(value, key) for key, value in tags.items()])\n",
    "\n",
    "  train_text = []\n",
    "  for i in range(len(X_test)):\n",
    "    train_text.append(np.trim_zeros(X_test[i], 'f').tolist())\n",
    "  X_test = np.array(train_text)\n",
    "\n",
    "  eng_text = []\n",
    "  for i in range(len(X_test)):\n",
    "    temp = []\n",
    "    for j in range(len(X_test[i])):\n",
    "      temp.append(words[X_test[i][j]])\n",
    "    eng_text.append(''.join(temp))\n",
    "\n",
    "  test_text = []\n",
    "  for i in range(len(y_test)):\n",
    "    test_text.append(np.trim_zeros(y_test[i], 'b').tolist())\n",
    "    test_text[i].pop(0)\n",
    "    test_text[i].pop()\n",
    "  y_test = np.array(test_text)\n",
    "\n",
    "  actual_text = []\n",
    "  for i in range(len(y_test)):\n",
    "    temp = []\n",
    "    for j in range(len(y_test[i])):\n",
    "      temp.append(tags[y_test[i][j]])\n",
    "    actual_text.append(''.join(temp))\n",
    "\n",
    "  pred_text = []\n",
    "  for i in range(len(eng_text)):\n",
    "    text, output = translate_sentence(eng_text[i], max_len, start_token, end_token, max_output_len, tags_dict, word_tokenizer) \n",
    "    pred_text.append(output)\n",
    "\n",
    "  df = pd.DataFrame()\n",
    "  df['English_text'] = eng_text\n",
    "  df['actual_output'] = actual_text\n",
    "  df['predicted_output'] = pred_text\n",
    "\n",
    "  return df"
   ]
  },
  {
   "cell_type": "code",
   "execution_count": null,
   "metadata": {
    "id": "rjY132i3MNVf"
   },
   "outputs": [],
   "source": [
    "df = testing_model(X_test[1:11], y_test[1:11])"
   ]
  },
  {
   "cell_type": "code",
   "execution_count": null,
   "metadata": {
    "colab": {
     "base_uri": "https://localhost:8080/",
     "height": 363
    },
    "executionInfo": {
     "elapsed": 7,
     "status": "ok",
     "timestamp": 1624049739153,
     "user": {
      "displayName": "Nakul Chamariya",
      "photoUrl": "https://lh3.googleusercontent.com/a-/AOh14GiaaA3CEhDPpMN9iKjN0cdb6HXS25MHPJCRZ9y5WA=s64",
      "userId": "14936028262101279399"
     },
     "user_tz": -330
    },
    "id": "561t3uAVYq5r",
    "outputId": "ca31067c-48a0-4879-88a9-9d7e0a7582c0"
   },
   "outputs": [
    {
     "data": {
      "text/html": [
       "<div>\n",
       "<style scoped>\n",
       "    .dataframe tbody tr th:only-of-type {\n",
       "        vertical-align: middle;\n",
       "    }\n",
       "\n",
       "    .dataframe tbody tr th {\n",
       "        vertical-align: top;\n",
       "    }\n",
       "\n",
       "    .dataframe thead th {\n",
       "        text-align: right;\n",
       "    }\n",
       "</style>\n",
       "<table border=\"1\" class=\"dataframe\">\n",
       "  <thead>\n",
       "    <tr style=\"text-align: right;\">\n",
       "      <th></th>\n",
       "      <th>English_text</th>\n",
       "      <th>actual_output</th>\n",
       "      <th>predicted_output</th>\n",
       "    </tr>\n",
       "  </thead>\n",
       "  <tbody>\n",
       "    <tr>\n",
       "      <th>0</th>\n",
       "      <td>i have seen things</td>\n",
       "      <td>ich habe dinge gesehen</td>\n",
       "      <td>ich habe seinen gesehen</td>\n",
       "    </tr>\n",
       "    <tr>\n",
       "      <th>1</th>\n",
       "      <td>some bugs were fixed</td>\n",
       "      <td>einige fehler wurden behoben</td>\n",
       "      <td>es schaut französisch seine arbeit</td>\n",
       "    </tr>\n",
       "    <tr>\n",
       "      <th>2</th>\n",
       "      <td>i had three dogs</td>\n",
       "      <td>ich hatte drei hunde</td>\n",
       "      <td>ich hatte drei tun</td>\n",
       "    </tr>\n",
       "    <tr>\n",
       "      <th>3</th>\n",
       "      <td>i have a theory</td>\n",
       "      <td>ich habe eine theorie</td>\n",
       "      <td>ich habe eine theorie</td>\n",
       "    </tr>\n",
       "    <tr>\n",
       "      <th>4</th>\n",
       "      <td>maybe tom likes you</td>\n",
       "      <td>vielleicht mag tom dich leiden</td>\n",
       "      <td>manite mag tom</td>\n",
       "    </tr>\n",
       "    <tr>\n",
       "      <th>5</th>\n",
       "      <td>we will be busy</td>\n",
       "      <td>wir werden beschäftigt sein</td>\n",
       "      <td>wir werden beschäftigt bin</td>\n",
       "    </tr>\n",
       "    <tr>\n",
       "      <th>6</th>\n",
       "      <td>may god reward you</td>\n",
       "      <td>möge gott dir’s vergelten</td>\n",
       "      <td>geht gloß hier darauf gegen sich hin</td>\n",
       "    </tr>\n",
       "    <tr>\n",
       "      <th>7</th>\n",
       "      <td>do you have a knife</td>\n",
       "      <td>hast du ein messer</td>\n",
       "      <td>habt ihr ein kind</td>\n",
       "    </tr>\n",
       "    <tr>\n",
       "      <th>8</th>\n",
       "      <td>i will come home</td>\n",
       "      <td>ich werde nach hause kommen</td>\n",
       "      <td>ich werde kommen</td>\n",
       "    </tr>\n",
       "    <tr>\n",
       "      <th>9</th>\n",
       "      <td>we are baking cookies</td>\n",
       "      <td>wir backen kekse</td>\n",
       "      <td>wir backen bald kochen</td>\n",
       "    </tr>\n",
       "  </tbody>\n",
       "</table>\n",
       "</div>"
      ],
      "text/plain": [
       "            English_text  ...                      predicted_output\n",
       "0     i have seen things  ...               ich habe seinen gesehen\n",
       "1   some bugs were fixed  ...    es schaut französisch seine arbeit\n",
       "2       i had three dogs  ...                    ich hatte drei tun\n",
       "3        i have a theory  ...                 ich habe eine theorie\n",
       "4    maybe tom likes you  ...                        manite mag tom\n",
       "5        we will be busy  ...            wir werden beschäftigt bin\n",
       "6     may god reward you  ...  geht gloß hier darauf gegen sich hin\n",
       "7    do you have a knife  ...                     habt ihr ein kind\n",
       "8       i will come home  ...                      ich werde kommen\n",
       "9  we are baking cookies  ...                wir backen bald kochen\n",
       "\n",
       "[10 rows x 3 columns]"
      ]
     },
     "execution_count": 68,
     "metadata": {
      "tags": []
     },
     "output_type": "execute_result"
    }
   ],
   "source": [
    "df"
   ]
  },
  {
   "cell_type": "code",
   "execution_count": null,
   "metadata": {
    "colab": {
     "base_uri": "https://localhost:8080/"
    },
    "executionInfo": {
     "elapsed": 9288,
     "status": "ok",
     "timestamp": 1624049804380,
     "user": {
      "displayName": "Nakul Chamariya",
      "photoUrl": "https://lh3.googleusercontent.com/a-/AOh14GiaaA3CEhDPpMN9iKjN0cdb6HXS25MHPJCRZ9y5WA=s64",
      "userId": "14936028262101279399"
     },
     "user_tz": -330
    },
    "id": "e_kAEuUWX2Bg",
    "outputId": "c7563437-2c99-4bf5-c624-e0da8ceb8119"
   },
   "outputs": [
    {
     "name": "stdout",
     "output_type": "stream",
     "text": [
      "WARNING:tensorflow:Compiled the loaded model, but the compiled metrics have yet to be built. `model.compile_metrics` will be empty until you train or evaluate the model.\n"
     ]
    },
    {
     "name": "stderr",
     "output_type": "stream",
     "text": [
      "WARNING:absl:Found untraced functions such as lstm_cell_layer_call_fn, lstm_cell_layer_call_and_return_conditional_losses, lstm_cell_layer_call_fn, lstm_cell_layer_call_and_return_conditional_losses, lstm_cell_layer_call_and_return_conditional_losses while saving (showing 5 of 5). These functions will not be directly callable after loading.\n"
     ]
    },
    {
     "name": "stdout",
     "output_type": "stream",
     "text": [
      "INFO:tensorflow:Assets written to: /content/drive/MyDrive/Dl projects/RNN basics/Machine Translation/rnn_encoder_model/assets\n"
     ]
    },
    {
     "name": "stderr",
     "output_type": "stream",
     "text": [
      "INFO:tensorflow:Assets written to: /content/drive/MyDrive/Dl projects/RNN basics/Machine Translation/rnn_encoder_model/assets\n"
     ]
    },
    {
     "name": "stdout",
     "output_type": "stream",
     "text": [
      "WARNING:tensorflow:Compiled the loaded model, but the compiled metrics have yet to be built. `model.compile_metrics` will be empty until you train or evaluate the model.\n"
     ]
    },
    {
     "name": "stderr",
     "output_type": "stream",
     "text": [
      "WARNING:tensorflow:Compiled the loaded model, but the compiled metrics have yet to be built. `model.compile_metrics` will be empty until you train or evaluate the model.\n",
      "WARNING:absl:Found untraced functions such as lstm_cell_1_layer_call_fn, lstm_cell_1_layer_call_and_return_conditional_losses, lstm_cell_1_layer_call_fn, lstm_cell_1_layer_call_and_return_conditional_losses, lstm_cell_1_layer_call_and_return_conditional_losses while saving (showing 5 of 5). These functions will not be directly callable after loading.\n"
     ]
    },
    {
     "name": "stdout",
     "output_type": "stream",
     "text": [
      "INFO:tensorflow:Assets written to: /content/drive/MyDrive/Dl projects/RNN basics/Machine Translation/rnn_decoder_model/assets\n"
     ]
    },
    {
     "name": "stderr",
     "output_type": "stream",
     "text": [
      "INFO:tensorflow:Assets written to: /content/drive/MyDrive/Dl projects/RNN basics/Machine Translation/rnn_decoder_model/assets\n"
     ]
    }
   ],
   "source": [
    "save_path = '/content/drive/MyDrive/Dl projects/RNN basics/Machine Translation'\n",
    "\n",
    "model_name1 = 'rnn_encoder_model'\n",
    "model_path1 = save_path + '/' + model_name1\n",
    "encoder_model.save(model_path1)\n",
    "\n",
    "model_name2 = 'rnn_decoder_model'\n",
    "model_path2 = save_path + '/' + model_name2\n",
    "decoder_model.save(model_path2) "
   ]
  },
  {
   "cell_type": "code",
   "execution_count": null,
   "metadata": {
    "colab": {
     "base_uri": "https://localhost:8080/"
    },
    "executionInfo": {
     "elapsed": 343,
     "status": "ok",
     "timestamp": 1624049821462,
     "user": {
      "displayName": "Nakul Chamariya",
      "photoUrl": "https://lh3.googleusercontent.com/a-/AOh14GiaaA3CEhDPpMN9iKjN0cdb6HXS25MHPJCRZ9y5WA=s64",
      "userId": "14936028262101279399"
     },
     "user_tz": -330
    },
    "id": "-7rwZe15X2GC",
    "outputId": "5b0ffd12-6d20-4038-c2a7-a1fe2cee3e89"
   },
   "outputs": [
    {
     "name": "stdout",
     "output_type": "stream",
     "text": [
      "/content/drive/MyDrive/Dl projects/RNN basics/Machine Translation\n"
     ]
    },
    {
     "data": {
      "text/plain": [
       "['tokenizer.joblib']"
      ]
     },
     "execution_count": 70,
     "metadata": {
      "tags": []
     },
     "output_type": "execute_result"
    }
   ],
   "source": [
    "import os\n",
    "os.chdir(save_path)\n",
    "print(os.getcwd())\n",
    "\n",
    "import joblib\n",
    "joblib.dump(tags_dict , 'tags.joblib')\n",
    "joblib.dump(word_tokenizer , 'tokenizer.joblib')"
   ]
  },
  {
   "cell_type": "code",
   "execution_count": null,
   "metadata": {
    "id": "8okwWUV2X2JH"
   },
   "outputs": [],
   "source": []
  }
 ],
 "metadata": {
  "accelerator": "GPU",
  "colab": {
   "collapsed_sections": [],
   "name": "Attention Encoder decoder.ipynb",
   "provenance": []
  },
  "kernelspec": {
   "display_name": "Python 3",
   "language": "python",
   "name": "python3"
  },
  "language_info": {
   "codemirror_mode": {
    "name": "ipython",
    "version": 3
   },
   "file_extension": ".py",
   "mimetype": "text/x-python",
   "name": "python",
   "nbconvert_exporter": "python",
   "pygments_lexer": "ipython3",
   "version": "3.7.7"
  }
 },
 "nbformat": 4,
 "nbformat_minor": 1
}
